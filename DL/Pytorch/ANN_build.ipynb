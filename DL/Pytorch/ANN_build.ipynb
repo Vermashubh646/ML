{
 "cells": [
  {
   "cell_type": "code",
   "execution_count": 1,
   "id": "34b69ac2",
   "metadata": {},
   "outputs": [],
   "source": [
    "import pandas as pd\n",
    "from sklearn.model_selection import train_test_split\n",
    "import torch\n",
    "from torch.utils.data import Dataset,DataLoader\n",
    "import torch.nn as nn\n",
    "import torch.optim as optim\n",
    "import matplotlib.pyplot as plt"
   ]
  },
  {
   "cell_type": "code",
   "execution_count": 2,
   "id": "156accd3",
   "metadata": {},
   "outputs": [
    {
     "data": {
      "text/plain": [
       "<torch._C.Generator at 0x1eb32b63150>"
      ]
     },
     "execution_count": 2,
     "metadata": {},
     "output_type": "execute_result"
    }
   ],
   "source": [
    "torch.manual_seed(42)"
   ]
  },
  {
   "cell_type": "code",
   "execution_count": 3,
   "id": "96a8ccb3",
   "metadata": {},
   "outputs": [
    {
     "data": {
      "text/html": [
       "<div>\n",
       "<style scoped>\n",
       "    .dataframe tbody tr th:only-of-type {\n",
       "        vertical-align: middle;\n",
       "    }\n",
       "\n",
       "    .dataframe tbody tr th {\n",
       "        vertical-align: top;\n",
       "    }\n",
       "\n",
       "    .dataframe thead th {\n",
       "        text-align: right;\n",
       "    }\n",
       "</style>\n",
       "<table border=\"1\" class=\"dataframe\">\n",
       "  <thead>\n",
       "    <tr style=\"text-align: right;\">\n",
       "      <th></th>\n",
       "      <th>label</th>\n",
       "      <th>pixel1</th>\n",
       "      <th>pixel2</th>\n",
       "      <th>pixel3</th>\n",
       "      <th>pixel4</th>\n",
       "      <th>pixel5</th>\n",
       "      <th>pixel6</th>\n",
       "      <th>pixel7</th>\n",
       "      <th>pixel8</th>\n",
       "      <th>pixel9</th>\n",
       "      <th>...</th>\n",
       "      <th>pixel775</th>\n",
       "      <th>pixel776</th>\n",
       "      <th>pixel777</th>\n",
       "      <th>pixel778</th>\n",
       "      <th>pixel779</th>\n",
       "      <th>pixel780</th>\n",
       "      <th>pixel781</th>\n",
       "      <th>pixel782</th>\n",
       "      <th>pixel783</th>\n",
       "      <th>pixel784</th>\n",
       "    </tr>\n",
       "  </thead>\n",
       "  <tbody>\n",
       "    <tr>\n",
       "      <th>0</th>\n",
       "      <td>9</td>\n",
       "      <td>0</td>\n",
       "      <td>0</td>\n",
       "      <td>0</td>\n",
       "      <td>0</td>\n",
       "      <td>0</td>\n",
       "      <td>0</td>\n",
       "      <td>0</td>\n",
       "      <td>0</td>\n",
       "      <td>0</td>\n",
       "      <td>...</td>\n",
       "      <td>0</td>\n",
       "      <td>7</td>\n",
       "      <td>0</td>\n",
       "      <td>50</td>\n",
       "      <td>205</td>\n",
       "      <td>196</td>\n",
       "      <td>213</td>\n",
       "      <td>165</td>\n",
       "      <td>0</td>\n",
       "      <td>0</td>\n",
       "    </tr>\n",
       "    <tr>\n",
       "      <th>1</th>\n",
       "      <td>7</td>\n",
       "      <td>0</td>\n",
       "      <td>0</td>\n",
       "      <td>0</td>\n",
       "      <td>0</td>\n",
       "      <td>0</td>\n",
       "      <td>0</td>\n",
       "      <td>0</td>\n",
       "      <td>0</td>\n",
       "      <td>0</td>\n",
       "      <td>...</td>\n",
       "      <td>0</td>\n",
       "      <td>0</td>\n",
       "      <td>0</td>\n",
       "      <td>0</td>\n",
       "      <td>0</td>\n",
       "      <td>0</td>\n",
       "      <td>0</td>\n",
       "      <td>0</td>\n",
       "      <td>0</td>\n",
       "      <td>0</td>\n",
       "    </tr>\n",
       "    <tr>\n",
       "      <th>2</th>\n",
       "      <td>0</td>\n",
       "      <td>0</td>\n",
       "      <td>0</td>\n",
       "      <td>0</td>\n",
       "      <td>0</td>\n",
       "      <td>0</td>\n",
       "      <td>1</td>\n",
       "      <td>0</td>\n",
       "      <td>0</td>\n",
       "      <td>0</td>\n",
       "      <td>...</td>\n",
       "      <td>142</td>\n",
       "      <td>142</td>\n",
       "      <td>142</td>\n",
       "      <td>21</td>\n",
       "      <td>0</td>\n",
       "      <td>3</td>\n",
       "      <td>0</td>\n",
       "      <td>0</td>\n",
       "      <td>0</td>\n",
       "      <td>0</td>\n",
       "    </tr>\n",
       "    <tr>\n",
       "      <th>3</th>\n",
       "      <td>8</td>\n",
       "      <td>0</td>\n",
       "      <td>0</td>\n",
       "      <td>0</td>\n",
       "      <td>0</td>\n",
       "      <td>0</td>\n",
       "      <td>0</td>\n",
       "      <td>0</td>\n",
       "      <td>0</td>\n",
       "      <td>0</td>\n",
       "      <td>...</td>\n",
       "      <td>0</td>\n",
       "      <td>0</td>\n",
       "      <td>0</td>\n",
       "      <td>0</td>\n",
       "      <td>0</td>\n",
       "      <td>0</td>\n",
       "      <td>0</td>\n",
       "      <td>0</td>\n",
       "      <td>0</td>\n",
       "      <td>0</td>\n",
       "    </tr>\n",
       "    <tr>\n",
       "      <th>4</th>\n",
       "      <td>8</td>\n",
       "      <td>0</td>\n",
       "      <td>0</td>\n",
       "      <td>0</td>\n",
       "      <td>0</td>\n",
       "      <td>0</td>\n",
       "      <td>0</td>\n",
       "      <td>0</td>\n",
       "      <td>0</td>\n",
       "      <td>0</td>\n",
       "      <td>...</td>\n",
       "      <td>213</td>\n",
       "      <td>203</td>\n",
       "      <td>174</td>\n",
       "      <td>151</td>\n",
       "      <td>188</td>\n",
       "      <td>10</td>\n",
       "      <td>0</td>\n",
       "      <td>0</td>\n",
       "      <td>0</td>\n",
       "      <td>0</td>\n",
       "    </tr>\n",
       "  </tbody>\n",
       "</table>\n",
       "<p>5 rows × 785 columns</p>\n",
       "</div>"
      ],
      "text/plain": [
       "   label  pixel1  pixel2  pixel3  pixel4  pixel5  pixel6  pixel7  pixel8  \\\n",
       "0      9       0       0       0       0       0       0       0       0   \n",
       "1      7       0       0       0       0       0       0       0       0   \n",
       "2      0       0       0       0       0       0       1       0       0   \n",
       "3      8       0       0       0       0       0       0       0       0   \n",
       "4      8       0       0       0       0       0       0       0       0   \n",
       "\n",
       "   pixel9  ...  pixel775  pixel776  pixel777  pixel778  pixel779  pixel780  \\\n",
       "0       0  ...         0         7         0        50       205       196   \n",
       "1       0  ...         0         0         0         0         0         0   \n",
       "2       0  ...       142       142       142        21         0         3   \n",
       "3       0  ...         0         0         0         0         0         0   \n",
       "4       0  ...       213       203       174       151       188        10   \n",
       "\n",
       "   pixel781  pixel782  pixel783  pixel784  \n",
       "0       213       165         0         0  \n",
       "1         0         0         0         0  \n",
       "2         0         0         0         0  \n",
       "3         0         0         0         0  \n",
       "4         0         0         0         0  \n",
       "\n",
       "[5 rows x 785 columns]"
      ]
     },
     "execution_count": 3,
     "metadata": {},
     "output_type": "execute_result"
    }
   ],
   "source": [
    "df = pd.read_csv('Data/fmnist_small.csv')\n",
    "df.head()"
   ]
  },
  {
   "cell_type": "code",
   "execution_count": 4,
   "id": "39ec1d9d",
   "metadata": {},
   "outputs": [
    {
     "data": {
      "text/plain": [
       "(6000, 785)"
      ]
     },
     "execution_count": 4,
     "metadata": {},
     "output_type": "execute_result"
    }
   ],
   "source": [
    "df.shape"
   ]
  },
  {
   "cell_type": "code",
   "execution_count": 5,
   "id": "f1df64d5",
   "metadata": {},
   "outputs": [
    {
     "data": {
      "image/png": "[encoded data removed]",
      "text/plain": [
       "<Figure size 1000x1000 with 16 Axes>"
      ]
     },
     "metadata": {},
     "output_type": "display_data"
    }
   ],
   "source": [
    "fig,axes = plt.subplots(4,4,figsize=(10,10))\n",
    "fig.suptitle(\"first 16 images\",fontsize=16)\n",
    "\n",
    "for i,ax in enumerate(axes.flat):\n",
    "    img = df.iloc[i,1:].values.reshape(28,28)\n",
    "    ax.imshow(img)\n",
    "    ax.axis('off')\n",
    "    ax.set_title(f\"Label: {df.iloc[i,0]}\")\n",
    "\n",
    "plt.tight_layout(rect=[0,0,1,0.96])\n",
    "plt.show()\n"
   ]
  },
  {
   "cell_type": "code",
   "execution_count": 6,
   "id": "aad355e5",
   "metadata": {},
   "outputs": [],
   "source": [
    "X = df.iloc[:,1:]\n",
    "y = df.iloc[:,0]"
   ]
  },
  {
   "cell_type": "code",
   "execution_count": 7,
   "id": "af67c29d",
   "metadata": {},
   "outputs": [],
   "source": [
    "X_train,X_test,y_train,y_test = train_test_split(X,y,test_size=0.2,random_state=42)"
   ]
  },
  {
   "cell_type": "code",
   "execution_count": 8,
   "id": "0d432e16",
   "metadata": {},
   "outputs": [],
   "source": [
    "# scaled from 0-1\n",
    "X_train = X_train/255.0\n",
    "X_test = X_test/255.0"
   ]
  },
  {
   "cell_type": "code",
   "execution_count": 9,
   "id": "7bb5f3c2",
   "metadata": {},
   "outputs": [],
   "source": [
    "# Creating CustomDataset\n",
    "\n",
    "class CustomDataset(Dataset):\n",
    "\n",
    "    def __init__(self, features, labels):\n",
    "\n",
    "        self.features=torch.tensor(features.values, dtype=torch.float32)\n",
    "        self.labels = torch.tensor(labels.values, dtype=torch.long)\n",
    "\n",
    "    def __getitem__(self,index):\n",
    "\n",
    "        return self.features[index],self.labels[index]\n",
    "    \n",
    "    def __len__(self):\n",
    "        return self.features.shape[0]"
   ]
  },
  {
   "cell_type": "code",
   "execution_count": 10,
   "id": "322f68a5",
   "metadata": {},
   "outputs": [],
   "source": [
    "train_dataset = CustomDataset(X_train,y_train)\n",
    "test_dataset = CustomDataset(X_test,y_test)"
   ]
  },
  {
   "cell_type": "code",
   "execution_count": 11,
   "id": "8aa5b535",
   "metadata": {},
   "outputs": [],
   "source": [
    "train_loader = DataLoader(train_dataset,batch_size=32,shuffle=True)\n",
    "test_loader = DataLoader(test_dataset,batch_size=32,shuffle=True)"
   ]
  },
  {
   "cell_type": "code",
   "execution_count": 12,
   "id": "a31c2978",
   "metadata": {},
   "outputs": [],
   "source": [
    "class MyNN(nn.Module):\n",
    "\n",
    "    def __init__(self,num_features):\n",
    "        super().__init__()\n",
    "        self.network=nn.Sequential(\n",
    "            nn.Linear(num_features,128),\n",
    "            nn.ReLU(),\n",
    "            nn.Linear(128,64),\n",
    "            nn.ReLU(),\n",
    "            nn.Linear(64,10)\n",
    "        )\n",
    "    # softmax is defined implicitly , no need to define explicitly\n",
    "\n",
    "    def forward(self,features):\n",
    "\n",
    "        return self.network(features)"
   ]
  },
  {
   "cell_type": "code",
   "execution_count": 13,
   "id": "501609f6",
   "metadata": {},
   "outputs": [],
   "source": [
    "lr=0.04\n",
    "epochs=100"
   ]
  },
  {
   "cell_type": "code",
   "execution_count": 14,
   "id": "8834d317",
   "metadata": {},
   "outputs": [],
   "source": [
    "model = MyNN(X_train.shape[1])\n",
    "\n",
    "loss_f = nn.CrossEntropyLoss()\n",
    "\n",
    "optimizer = torch.optim.SGD(model.parameters(),lr=lr)"
   ]
  },
  {
   "cell_type": "code",
   "execution_count": 15,
   "id": "b52f2327",
   "metadata": {},
   "outputs": [
    {
     "name": "stdout",
     "output_type": "stream",
     "text": [
      "1.7375957036018372 0\n",
      "0.9506669322649638 1\n",
      "0.773662757674853 2\n",
      "0.6931004945437114 3\n",
      "0.6326329497496287 4\n",
      "0.6020485265056292 5\n",
      "0.561971253156662 6\n",
      "0.5299048379063607 7\n",
      "0.5132511319716772 8\n",
      "0.49207026173671087 9\n",
      "0.47568068514267603 10\n",
      "0.47144946197668713 11\n",
      "0.4435531794031461 12\n",
      "0.436397279103597 13\n",
      "0.41245674053827924 14\n",
      "0.4126736855506897 15\n",
      "0.3921862580875556 16\n",
      "0.3862484423319499 17\n",
      "0.3736168781419595 18\n",
      "0.3601843312382698 19\n",
      "0.3527841663360596 20\n",
      "0.3437361836433411 21\n",
      "0.33404924735426905 22\n",
      "0.32291651735703153 23\n",
      "0.3112037388483683 24\n",
      "0.30769359866778057 25\n",
      "0.3048945707579454 26\n",
      "0.29536920636892317 27\n",
      "0.2794064426173766 28\n",
      "0.2780600639184316 29\n",
      "0.2789698545883099 30\n",
      "0.27049686993161837 31\n",
      "0.2619497362524271 32\n",
      "0.25650824497143426 33\n",
      "0.24423826699455578 34\n",
      "0.24770146079361438 35\n",
      "0.23937312707304956 36\n",
      "0.22508912811676662 37\n",
      "0.2275976587831974 38\n",
      "0.21728103319182993 39\n",
      "0.22037019645174344 40\n",
      "0.21377572931349278 41\n",
      "0.20008616196612516 42\n",
      "0.2078621590634187 43\n",
      "0.19522441645463307 44\n",
      "0.19681684896349907 45\n",
      "0.1830614974349737 46\n",
      "0.18665395990014078 47\n",
      "0.17707924137512843 48\n",
      "0.1813924402743578 49\n",
      "0.16810553470005593 50\n",
      "0.1644360972692569 51\n",
      "0.1587533900886774 52\n",
      "0.15148756491641205 53\n",
      "0.14839207065602145 54\n",
      "0.15232002222289642 55\n",
      "0.14063549671322106 56\n",
      "0.14760453236599763 57\n",
      "0.1376936196908355 58\n",
      "0.13550141324599585 59\n",
      "0.13190452745805184 60\n",
      "0.12024451126654943 61\n",
      "0.11740190661201874 62\n",
      "0.11927089311182498 63\n",
      "0.1181646319044133 64\n",
      "0.11222002197057009 65\n",
      "0.10487064766387144 66\n",
      "0.10567320896933476 67\n",
      "0.10274522274111708 68\n",
      "0.10315840146814784 69\n",
      "0.1099120963178575 70\n",
      "0.10683959209049741 71\n",
      "0.11010523173958063 72\n",
      "0.08585965504248937 73\n",
      "0.09118613768989842 74\n",
      "0.08162047506310045 75\n",
      "0.077094896355023 76\n",
      "0.08095414129396279 77\n",
      "0.10022842813904087 78\n",
      "0.07766058130500217 79\n",
      "0.07626791302114726 80\n",
      "0.06985724981874228 81\n",
      "0.07310776421489815 82\n",
      "0.07026082282265027 83\n",
      "0.053248884646842874 84\n",
      "0.06284555099283655 85\n",
      "0.06606353733999033 86\n",
      "0.04720498995234569 87\n",
      "0.05091424448105196 88\n",
      "0.05201107833224038 89\n",
      "0.04801244347977141 90\n",
      "0.04365840312093496 91\n",
      "0.04325709529221058 92\n",
      "0.0420703700146017 93\n",
      "0.04191806665311257 94\n",
      "0.06203259985893965 95\n",
      "0.07106490331391493 96\n",
      "0.04104314624176671 97\n",
      "0.0884961566887796 98\n",
      "0.04100625399500132 99\n"
     ]
    }
   ],
   "source": [
    "for epoch in range(epochs):\n",
    "\n",
    "    total_epoch_loss=0\n",
    "    for batch_features,batch_labels in train_loader:\n",
    "        y_pred = model(batch_features)\n",
    "\n",
    "        loss = loss_f(y_pred,batch_labels)\n",
    "        total_epoch_loss+=loss.item()\n",
    "\n",
    "        # backpass\n",
    "        optimizer.zero_grad()\n",
    "        loss.backward()\n",
    "        # update_weights\n",
    "        optimizer.step()\n",
    "    print((total_epoch_loss/len(train_loader)),epoch)"
   ]
  },
  {
   "cell_type": "code",
   "execution_count": 16,
   "id": "da0b6208",
   "metadata": {},
   "outputs": [
    {
     "data": {
      "text/plain": [
       "MyNN(\n",
       "  (network): Sequential(\n",
       "    (0): Linear(in_features=784, out_features=128, bias=True)\n",
       "    (1): ReLU()\n",
       "    (2): Linear(in_features=128, out_features=64, bias=True)\n",
       "    (3): ReLU()\n",
       "    (4): Linear(in_features=64, out_features=10, bias=True)\n",
       "  )\n",
       ")"
      ]
     },
     "execution_count": 16,
     "metadata": {},
     "output_type": "execute_result"
    }
   ],
   "source": [
    "# evaluation\n",
    "model.eval()"
   ]
  },
  {
   "cell_type": "code",
   "execution_count": 17,
   "id": "a26dab48",
   "metadata": {},
   "outputs": [
    {
     "name": "stdout",
     "output_type": "stream",
     "text": [
      "0.8258333333333333\n"
     ]
    }
   ],
   "source": [
    "total=0\n",
    "correct=0\n",
    "# The torch.max function returns two things:\n",
    "#   (The maximum values,The indices of those maximum values)\n",
    "with torch.no_grad():\n",
    "    for batch_features,batch_labels in test_loader:\n",
    "\n",
    "        outputs=model(batch_features)\n",
    "        _,predicted=torch.max(outputs,1)\n",
    "        total = total + batch_labels.shape[0]\n",
    "\n",
    "        correct = correct + (predicted==batch_labels).sum().item()\n",
    "\n",
    "print(correct/total)"
   ]
  }
 ],
 "metadata": {
  "kernelspec": {
   "display_name": "tf_env",
   "language": "python",
   "name": "python3"
  },
  "language_info": {
   "codemirror_mode": {
    "name": "ipython",
    "version": 3
   },
   "file_extension": ".py",
   "mimetype": "text/x-python",
   "name": "python",
   "nbconvert_exporter": "python",
   "pygments_lexer": "ipython3",
   "version": "3.12.8"
  }
 },
 "nbformat": 4,
 "nbformat_minor": 5
}
