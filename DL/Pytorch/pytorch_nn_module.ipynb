{
 "cells": [
  {
   "cell_type": "code",
   "execution_count": 1,
   "id": "cae1048c",
   "metadata": {},
   "outputs": [],
   "source": [
    "import torch\n",
    "import torch.nn as nn"
   ]
  },
  {
   "cell_type": "code",
   "execution_count": 2,
   "id": "7f4d757e",
   "metadata": {},
   "outputs": [],
   "source": [
    "class Model(nn.Module):\n",
    "\n",
    "    def __init__(self,num_features):\n",
    "        super().__init__()\n",
    "        self.linear = nn.Linear(num_features,1)\n",
    "        self.sigmoid=nn.Sigmoid()\n",
    "\n",
    "    def forward(self, features):\n",
    "\n",
    "        out=self.linear(features)\n",
    "        out = self.sigmoid(out)\n",
    "        return out"
   ]
  },
  {
   "cell_type": "code",
   "execution_count": 3,
   "id": "68e3315d",
   "metadata": {},
   "outputs": [
    {
     "data": {
      "text/plain": [
       "tensor([[0.4907],\n",
       "        [0.4855],\n",
       "        [0.4827],\n",
       "        [0.4620],\n",
       "        [0.4812],\n",
       "        [0.4665],\n",
       "        [0.5359],\n",
       "        [0.4619],\n",
       "        [0.4866],\n",
       "        [0.4432]], grad_fn=<SigmoidBackward0>)"
      ]
     },
     "execution_count": 3,
     "metadata": {},
     "output_type": "execute_result"
    }
   ],
   "source": [
    "features=torch.rand(10,5)\n",
    "model = Model(features.shape[1])\n",
    "# model.forward(features)\n",
    "model(features)\n",
    "# the above way works beacause __call__ is overriden "
   ]
  },
  {
   "cell_type": "code",
   "execution_count": 4,
   "id": "4c32660f",
   "metadata": {},
   "outputs": [
    {
     "data": {
      "text/plain": [
       "Parameter containing:\n",
       "tensor([[ 0.1186, -0.0749, -0.2525, -0.0448, -0.3913]], requires_grad=True)"
      ]
     },
     "execution_count": 4,
     "metadata": {},
     "output_type": "execute_result"
    }
   ],
   "source": [
    "model.linear.weight"
   ]
  },
  {
   "cell_type": "code",
   "execution_count": 5,
   "id": "7598ce03",
   "metadata": {},
   "outputs": [
    {
     "data": {
      "text/plain": [
       "==========================================================================================\n",
       "Layer (type:depth-idx)                   Output Shape              Param #\n",
       "==========================================================================================\n",
       "Model                                    [10, 1]                   --\n",
       "├─Linear: 1-1                            [10, 1]                   6\n",
       "├─Sigmoid: 1-2                           [10, 1]                   --\n",
       "==========================================================================================\n",
       "Total params: 6\n",
       "Trainable params: 6\n",
       "Non-trainable params: 0\n",
       "Total mult-adds (Units.MEGABYTES): 0.00\n",
       "==========================================================================================\n",
       "Input size (MB): 0.00\n",
       "Forward/backward pass size (MB): 0.00\n",
       "Params size (MB): 0.00\n",
       "Estimated Total Size (MB): 0.00\n",
       "=========================================================================================="
      ]
     },
     "execution_count": 5,
     "metadata": {},
     "output_type": "execute_result"
    }
   ],
   "source": [
    "from torchinfo import summary\n",
    "summary(model, input_size=(10,5))"
   ]
  },
  {
   "cell_type": "code",
   "execution_count": 6,
   "id": "3a171e47",
   "metadata": {},
   "outputs": [],
   "source": [
    "class deepModel(nn.Module):\n",
    "    def __init__(self,num_features):\n",
    "        super().__init__()\n",
    "        self.linear1 = nn.Linear(num_features,3)\n",
    "        self.relu = nn.ReLU()\n",
    "        self.linear2 = nn.Linear(3,1)\n",
    "        self.sigmoid = nn.Sigmoid()\n",
    "\n",
    "    def forward(self, features):\n",
    "        \n",
    "        out = self.linear1(features)\n",
    "        out = self.relu(out)\n",
    "        out = self.linear2(out)\n",
    "        out = self.sigmoid(out)\n",
    "\n",
    "        return out\n",
    "\n"
   ]
  },
  {
   "cell_type": "code",
   "execution_count": 7,
   "id": "59238133",
   "metadata": {},
   "outputs": [
    {
     "data": {
      "text/plain": [
       "deepModel(\n",
       "  (linear1): Linear(in_features=5, out_features=3, bias=True)\n",
       "  (relu): ReLU()\n",
       "  (linear2): Linear(in_features=3, out_features=1, bias=True)\n",
       "  (sigmoid): Sigmoid()\n",
       ")"
      ]
     },
     "execution_count": 7,
     "metadata": {},
     "output_type": "execute_result"
    }
   ],
   "source": [
    "mod = deepModel(5)\n",
    "mod"
   ]
  },
  {
   "cell_type": "code",
   "execution_count": 8,
   "id": "5cde029b",
   "metadata": {},
   "outputs": [
    {
     "data": {
      "text/plain": [
       "==========================================================================================\n",
       "Layer (type:depth-idx)                   Output Shape              Param #\n",
       "==========================================================================================\n",
       "deepModel                                [10, 1]                   --\n",
       "├─Linear: 1-1                            [10, 3]                   18\n",
       "├─ReLU: 1-2                              [10, 3]                   --\n",
       "├─Linear: 1-3                            [10, 1]                   4\n",
       "├─Sigmoid: 1-4                           [10, 1]                   --\n",
       "==========================================================================================\n",
       "Total params: 22\n",
       "Trainable params: 22\n",
       "Non-trainable params: 0\n",
       "Total mult-adds (Units.MEGABYTES): 0.00\n",
       "==========================================================================================\n",
       "Input size (MB): 0.00\n",
       "Forward/backward pass size (MB): 0.00\n",
       "Params size (MB): 0.00\n",
       "Estimated Total Size (MB): 0.00\n",
       "=========================================================================================="
      ]
     },
     "execution_count": 8,
     "metadata": {},
     "output_type": "execute_result"
    }
   ],
   "source": [
    "summary(mod, input_size=(10,5))"
   ]
  },
  {
   "cell_type": "code",
   "execution_count": 9,
   "id": "1381ec93",
   "metadata": {},
   "outputs": [],
   "source": [
    "class Model_compr(nn.Module):\n",
    "\n",
    "    def __init__(self,numfeatures):\n",
    "        super().__init__()\n",
    "\n",
    "        self.network=nn.Sequential(\n",
    "            nn.Linear(numfeatures,4),\n",
    "            nn.ReLU(),\n",
    "            nn.Linear(4,1),\n",
    "            nn.Sigmoid()\n",
    "        )\n",
    "    \n",
    "    def forward(self,features):\n",
    "        return self.network(features)"
   ]
  },
  {
   "cell_type": "code",
   "execution_count": 11,
   "id": "b2e6504d",
   "metadata": {},
   "outputs": [
    {
     "data": {
      "text/plain": [
       "==========================================================================================\n",
       "Layer (type:depth-idx)                   Output Shape              Param #\n",
       "==========================================================================================\n",
       "Model_compr                              [10, 1]                   --\n",
       "├─Sequential: 1-1                        [10, 1]                   --\n",
       "│    └─Linear: 2-1                       [10, 4]                   24\n",
       "│    └─ReLU: 2-2                         [10, 4]                   --\n",
       "│    └─Linear: 2-3                       [10, 1]                   5\n",
       "│    └─Sigmoid: 2-4                      [10, 1]                   --\n",
       "==========================================================================================\n",
       "Total params: 29\n",
       "Trainable params: 29\n",
       "Non-trainable params: 0\n",
       "Total mult-adds (Units.MEGABYTES): 0.00\n",
       "==========================================================================================\n",
       "Input size (MB): 0.00\n",
       "Forward/backward pass size (MB): 0.00\n",
       "Params size (MB): 0.00\n",
       "Estimated Total Size (MB): 0.00\n",
       "=========================================================================================="
      ]
     },
     "execution_count": 11,
     "metadata": {},
     "output_type": "execute_result"
    }
   ],
   "source": [
    "new = Model_compr(5)\n",
    "summary(new,input_size=(10,5))"
   ]
  },
  {
   "cell_type": "code",
   "execution_count": null,
   "id": "546e9960",
   "metadata": {},
   "outputs": [],
   "source": []
  }
 ],
 "metadata": {
  "kernelspec": {
   "display_name": "tf_env",
   "language": "python",
   "name": "python3"
  },
  "language_info": {
   "codemirror_mode": {
    "name": "ipython",
    "version": 3
   },
   "file_extension": ".py",
   "mimetype": "text/x-python",
   "name": "python",
   "nbconvert_exporter": "python",
   "pygments_lexer": "ipython3",
   "version": "3.12.8"
  }
 },
 "nbformat": 4,
 "nbformat_minor": 5
}
