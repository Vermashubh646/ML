{
 "cells": [
  {
   "cell_type": "code",
   "execution_count": 2,
   "id": "39fc7c97",
   "metadata": {},
   "outputs": [],
   "source": [
    "import torch"
   ]
  },
  {
   "cell_type": "code",
   "execution_count": 3,
   "id": "60dfcee6",
   "metadata": {},
   "outputs": [],
   "source": [
    "x= torch.tensor(6.7)#input feature\n",
    "y = torch.tensor(0.0)#True label"
   ]
  },
  {
   "cell_type": "code",
   "execution_count": 4,
   "id": "c29902a7",
   "metadata": {},
   "outputs": [],
   "source": [
    "w = torch.tensor(1.0, requires_grad=True)\n",
    "b = torch.tensor(0.0, requires_grad=True)"
   ]
  },
  {
   "cell_type": "code",
   "execution_count": 5,
   "id": "da30f9b8",
   "metadata": {},
   "outputs": [],
   "source": [
    "z = w*x + b"
   ]
  },
  {
   "cell_type": "code",
   "execution_count": 6,
   "id": "abb4c6a0",
   "metadata": {},
   "outputs": [
    {
     "data": {
      "text/plain": [
       "tensor(6.7000, grad_fn=<AddBackward0>)"
      ]
     },
     "execution_count": 6,
     "metadata": {},
     "output_type": "execute_result"
    }
   ],
   "source": [
    "z"
   ]
  },
  {
   "cell_type": "code",
   "execution_count": 7,
   "id": "d70ff16e",
   "metadata": {},
   "outputs": [],
   "source": [
    "y_pred = torch.sigmoid(z)"
   ]
  },
  {
   "cell_type": "code",
   "execution_count": 8,
   "id": "f9cd0107",
   "metadata": {},
   "outputs": [
    {
     "data": {
      "text/plain": [
       "tensor(0.9988, grad_fn=<SigmoidBackward0>)"
      ]
     },
     "execution_count": 8,
     "metadata": {},
     "output_type": "execute_result"
    }
   ],
   "source": [
    "y_pred"
   ]
  },
  {
   "cell_type": "code",
   "execution_count": 9,
   "id": "0713533b",
   "metadata": {},
   "outputs": [],
   "source": [
    "def binary_cross_entropy_loss(prediction, target):\n",
    "    epsilon = 1e-8  # To prevent log(0)\n",
    "    prediction = torch.clamp(prediction, epsilon, 1 - epsilon)\n",
    "    return -(target * torch.log(prediction) + (1 - target) * torch.log(1 - prediction))"
   ]
  },
  {
   "cell_type": "code",
   "execution_count": 10,
   "id": "6f3cac6b",
   "metadata": {},
   "outputs": [],
   "source": [
    "loss=binary_cross_entropy_loss(y_pred,y)"
   ]
  },
  {
   "cell_type": "code",
   "execution_count": 11,
   "id": "160fb085",
   "metadata": {},
   "outputs": [
    {
     "data": {
      "text/plain": [
       "tensor(6.7012, grad_fn=<NegBackward0>)"
      ]
     },
     "execution_count": 11,
     "metadata": {},
     "output_type": "execute_result"
    }
   ],
   "source": [
    "loss"
   ]
  },
  {
   "cell_type": "code",
   "execution_count": 12,
   "id": "76e15d30",
   "metadata": {},
   "outputs": [],
   "source": [
    "loss.backward()"
   ]
  },
  {
   "cell_type": "code",
   "execution_count": 14,
   "id": "86e2c8b1",
   "metadata": {},
   "outputs": [
    {
     "data": {
      "text/plain": [
       "(tensor(6.6918), tensor(0.9988))"
      ]
     },
     "execution_count": 14,
     "metadata": {},
     "output_type": "execute_result"
    }
   ],
   "source": [
    "w.grad,b.grad"
   ]
  },
  {
   "cell_type": "code",
   "execution_count": null,
   "id": "7d342e7d",
   "metadata": {},
   "outputs": [],
   "source": []
  }
 ],
 "metadata": {
  "kernelspec": {
   "display_name": "tf_env",
   "language": "python",
   "name": "python3"
  },
  "language_info": {
   "codemirror_mode": {
    "name": "ipython",
    "version": 3
   },
   "file_extension": ".py",
   "mimetype": "text/x-python",
   "name": "python",
   "nbconvert_exporter": "python",
   "pygments_lexer": "ipython3",
   "version": "3.12.8"
  }
 },
 "nbformat": 4,
 "nbformat_minor": 5
}
