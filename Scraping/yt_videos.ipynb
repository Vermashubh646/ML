{
 "cells": [
  {
   "cell_type": "code",
   "execution_count": 1,
   "id": "2cf49727",
   "metadata": {},
   "outputs": [],
   "source": [
    "import yt_dlp"
   ]
  },
  {
   "cell_type": "code",
   "execution_count": 6,
   "id": "dfdcbbe5",
   "metadata": {},
   "outputs": [
    {
     "name": "stdout",
     "output_type": "stream",
     "text": [
      "🔗 Found 121 videos in the playlist:\n",
      "1. https://www.youtube.com/watch?v=https://www.youtube.com/watch?v=Jj408N2tXw0\n",
      "2. https://www.youtube.com/watch?v=https://www.youtube.com/watch?v=dLL3l1sfD6k\n",
      "3. https://www.youtube.com/watch?v=https://www.youtube.com/watch?v=tB1GiaGeO_c\n",
      "4. https://www.youtube.com/watch?v=https://www.youtube.com/watch?v=Ja0wD5VfCEw\n",
      "5. https://www.youtube.com/watch?v=https://www.youtube.com/watch?v=l0qzyO-LDyY\n",
      "6. https://www.youtube.com/watch?v=https://www.youtube.com/watch?v=-7hIZyosXB4\n",
      "7. https://www.youtube.com/watch?v=https://www.youtube.com/watch?v=JV-SoKxbxZU\n",
      "8. https://www.youtube.com/watch?v=https://www.youtube.com/watch?v=ZI0vftVIZx8\n",
      "9. https://www.youtube.com/watch?v=https://www.youtube.com/watch?v=o-ODOzIxdMU\n",
      "10. https://www.youtube.com/watch?v=https://www.youtube.com/watch?v=R1mFBBoQ8RU\n",
      "11. https://www.youtube.com/watch?v=https://www.youtube.com/watch?v=_oP854S3LWs\n",
      "12. https://www.youtube.com/watch?v=https://www.youtube.com/watch?v=QGpWufx_Rxw\n",
      "13. https://www.youtube.com/watch?v=https://www.youtube.com/watch?v=a_sEIlG7cXo\n",
      "14. https://www.youtube.com/watch?v=https://www.youtube.com/watch?v=UOAQWcZDBg0\n",
      "15. https://www.youtube.com/watch?v=https://www.youtube.com/watch?v=7HK1ClVCtjA\n",
      "16. https://www.youtube.com/watch?v=https://www.youtube.com/watch?v=bthwifyNP6s\n",
      "17. https://www.youtube.com/watch?v=https://www.youtube.com/watch?v=fqZ6n1VGXFo\n",
      "18. https://www.youtube.com/watch?v=https://www.youtube.com/watch?v=jX90ErC5NR4\n",
      "19. https://www.youtube.com/watch?v=https://www.youtube.com/watch?v=imd80WP2eaI\n",
      "20. https://www.youtube.com/watch?v=https://www.youtube.com/watch?v=n6IBUtAqJJA\n",
      "21. https://www.youtube.com/watch?v=https://www.youtube.com/watch?v=iAwGj7Lsltw\n",
      "22. https://www.youtube.com/watch?v=https://www.youtube.com/watch?v=FnMa4QJKa8Y\n",
      "23. https://www.youtube.com/watch?v=https://www.youtube.com/watch?v=itfk0bCUtXU\n",
      "24. https://www.youtube.com/watch?v=https://www.youtube.com/watch?v=duAjV0Ox_zg\n",
      "25. https://www.youtube.com/watch?v=https://www.youtube.com/watch?v=ECboO0QKxTo\n",
      "26. https://www.youtube.com/watch?v=https://www.youtube.com/watch?v=pM4lHGEXIzw\n",
      "27. https://www.youtube.com/watch?v=https://www.youtube.com/watch?v=conNUAB0uow\n",
      "28. https://www.youtube.com/watch?v=https://www.youtube.com/watch?v=ptE5Y2N9i9Q\n",
      "29. https://www.youtube.com/watch?v=https://www.youtube.com/watch?v=hIvX5zJCvuQ\n",
      "30. https://www.youtube.com/watch?v=https://www.youtube.com/watch?v=Q68APwruCSA\n",
      "31. https://www.youtube.com/watch?v=https://www.youtube.com/watch?v=-5qxcQWF0fw\n",
      "32. https://www.youtube.com/watch?v=https://www.youtube.com/watch?v=Q5b773o8pWU\n",
      "33. https://www.youtube.com/watch?v=https://www.youtube.com/watch?v=kpjNC6drsP8\n",
      "34. https://www.youtube.com/watch?v=https://www.youtube.com/watch?v=Fp3y3POjDqk\n",
      "35. https://www.youtube.com/watch?v=https://www.youtube.com/watch?v=JIGbZmdfPlc\n",
      "36. https://www.youtube.com/watch?v=https://www.youtube.com/watch?v=turIwH9b0EE\n",
      "37. https://www.youtube.com/watch?v=https://www.youtube.com/watch?v=zjlnaq4xei8\n",
      "38. https://www.youtube.com/watch?v=https://www.youtube.com/watch?v=cCmkVs95EFw\n",
      "39. https://www.youtube.com/watch?v=https://www.youtube.com/watch?v=1TRpHABymrs\n",
      "40. https://www.youtube.com/watch?v=https://www.youtube.com/watch?v=aP4d0_NNV54\n",
      "41. https://www.youtube.com/watch?v=https://www.youtube.com/watch?v=kgVaY9-uybs\n",
      "42. https://www.youtube.com/watch?v=https://www.youtube.com/watch?v=dhjPgmyuuiw\n",
      "43. https://www.youtube.com/watch?v=https://www.youtube.com/watch?v=FPtbp3Ha8jA\n",
      "44. https://www.youtube.com/watch?v=https://www.youtube.com/watch?v=PsgvlHX4uxM\n",
      "45. https://www.youtube.com/watch?v=https://www.youtube.com/watch?v=_biDnJj2sRI\n",
      "46. https://www.youtube.com/watch?v=https://www.youtube.com/watch?v=ujQ1TBXSkfQ\n",
      "47. https://www.youtube.com/watch?v=https://www.youtube.com/watch?v=ma2slAtUFv4\n",
      "48. https://www.youtube.com/watch?v=https://www.youtube.com/watch?v=ydn_rpEr6Ic\n",
      "49. https://www.youtube.com/watch?v=https://www.youtube.com/watch?v=1KE0QrnfN14\n",
      "50. https://www.youtube.com/watch?v=https://www.youtube.com/watch?v=Ew8KsRmgbtg\n",
      "51. https://www.youtube.com/watch?v=https://www.youtube.com/watch?v=ft2589QxTYI\n",
      "52. https://www.youtube.com/watch?v=https://www.youtube.com/watch?v=w1rv31EQSHo\n",
      "53. https://www.youtube.com/watch?v=https://www.youtube.com/watch?v=3EXb0ripj0k\n",
      "54. https://www.youtube.com/watch?v=https://www.youtube.com/watch?v=ShdFKJAAtiw\n",
      "55. https://www.youtube.com/watch?v=https://www.youtube.com/watch?v=Yeb_vnQaPhg\n",
      "56. https://www.youtube.com/watch?v=https://www.youtube.com/watch?v=mf7hWckgXJQ\n",
      "57. https://www.youtube.com/watch?v=https://www.youtube.com/watch?v=fxHuYp8CD18\n",
      "58. https://www.youtube.com/watch?v=https://www.youtube.com/watch?v=3a1TEMTNVdU\n",
      "59. https://www.youtube.com/watch?v=https://www.youtube.com/watch?v=3sr_VsGpDEo\n",
      "60. https://www.youtube.com/watch?v=https://www.youtube.com/watch?v=KnCgYzLK0Qw\n",
      "61. https://www.youtube.com/watch?v=https://www.youtube.com/watch?v=pCCk3G3ATq0\n",
      "62. https://www.youtube.com/watch?v=https://www.youtube.com/watch?v=rywQmGmvgn8\n",
      "63. https://www.youtube.com/watch?v=https://www.youtube.com/watch?v=QFwpmEkpy48\n",
      "64. https://www.youtube.com/watch?v=https://www.youtube.com/watch?v=i1nRFHg4q_Y\n",
      "65. https://www.youtube.com/watch?v=https://www.youtube.com/watch?v=aR5PZ6sb75c\n",
      "66. https://www.youtube.com/watch?v=https://www.youtube.com/watch?v=mjAfb3_lwjk\n",
      "67. https://www.youtube.com/watch?v=https://www.youtube.com/watch?v=NDt0xW-Xn9c\n",
      "68. https://www.youtube.com/watch?v=https://www.youtube.com/watch?v=wgw6zzEb0a0\n",
      "69. https://www.youtube.com/watch?v=https://www.youtube.com/watch?v=R-YjySrFKus\n",
      "70. https://www.youtube.com/watch?v=https://www.youtube.com/watch?v=eJDDOqFk4x8\n",
      "71. https://www.youtube.com/watch?v=https://www.youtube.com/watch?v=tDP3qoUjpl4\n",
      "72. https://www.youtube.com/watch?v=https://www.youtube.com/watch?v=gFakipjD9r4\n",
      "73. https://www.youtube.com/watch?v=https://www.youtube.com/watch?v=lgDWN7P6qJg\n",
      "74. https://www.youtube.com/watch?v=https://www.youtube.com/watch?v=10oMg_upF8o\n",
      "75. https://www.youtube.com/watch?v=https://www.youtube.com/watch?v=ESUakyjKqZA\n",
      "76. https://www.youtube.com/watch?v=https://www.youtube.com/watch?v=DPBseDogPzo\n",
      "77. https://www.youtube.com/watch?v=https://www.youtube.com/watch?v=SiPrJ8qr-VE\n",
      "78. https://www.youtube.com/watch?v=https://www.youtube.com/watch?v=0vfAw_XcLxc\n",
      "79. https://www.youtube.com/watch?v=https://www.youtube.com/watch?v=w6PNUGAJDEA\n",
      "80. https://www.youtube.com/watch?v=https://www.youtube.com/watch?v=kitpcJEnZZE\n",
      "81. https://www.youtube.com/watch?v=https://www.youtube.com/watch?v=eW8aHcCn-G8\n",
      "82. https://www.youtube.com/watch?v=https://www.youtube.com/watch?v=oA3rlx0CjVg\n",
      "83. https://www.youtube.com/watch?v=https://www.youtube.com/watch?v=KAps82DZ-CU\n",
      "84. https://www.youtube.com/watch?v=https://www.youtube.com/watch?v=ZNfYXVga-yw\n",
      "85. https://www.youtube.com/watch?v=https://www.youtube.com/watch?v=93TihYXYy_c\n",
      "86. https://www.youtube.com/watch?v=https://www.youtube.com/watch?v=6_HJp8YGz2I\n",
      "87. https://www.youtube.com/watch?v=https://www.youtube.com/watch?v=m82zbEd7tdU\n",
      "88. https://www.youtube.com/watch?v=https://www.youtube.com/watch?v=bW6dNT28CVE\n",
      "89. https://www.youtube.com/watch?v=https://www.youtube.com/watch?v=YbKIHTn7UjI\n",
      "90. https://www.youtube.com/watch?v=https://www.youtube.com/watch?v=ZxsdApxjQ2E\n",
      "91. https://www.youtube.com/watch?v=https://www.youtube.com/watch?v=HmbaRgs3h5M\n",
      "92. https://www.youtube.com/watch?v=https://www.youtube.com/watch?v=r9TRJ4UzfSw\n",
      "93. https://www.youtube.com/watch?v=https://www.youtube.com/watch?v=T6HgADA6VeE\n",
      "94. https://www.youtube.com/watch?v=https://www.youtube.com/watch?v=Zb3kC-hd1IE\n",
      "95. https://www.youtube.com/watch?v=https://www.youtube.com/watch?v=Sk7vOiGt_f8\n",
      "96. https://www.youtube.com/watch?v=https://www.youtube.com/watch?v=o78HCXzABkg\n",
      "97. https://www.youtube.com/watch?v=https://www.youtube.com/watch?v=1CQ_YMhTNNk\n",
      "98. https://www.youtube.com/watch?v=https://www.youtube.com/watch?v=6QzGclNGMJU\n",
      "99. https://www.youtube.com/watch?v=https://www.youtube.com/watch?v=xc43DeHuBoc\n",
      "100. https://www.youtube.com/watch?v=https://www.youtube.com/watch?v=MDi0OZEVFJI\n",
      "101. https://www.youtube.com/watch?v=https://www.youtube.com/watch?v=5N9QAwlU7c0\n",
      "102. https://www.youtube.com/watch?v=https://www.youtube.com/watch?v=fz0eErhiM_I\n",
      "103. https://www.youtube.com/watch?v=https://www.youtube.com/watch?v=H_JbRaiAlZ0\n",
      "104. https://www.youtube.com/watch?v=https://www.youtube.com/watch?v=-YOU4ZloxnM\n",
      "105. https://www.youtube.com/watch?v=https://www.youtube.com/watch?v=XV4bi3aSRFQ\n",
      "106. https://www.youtube.com/watch?v=https://www.youtube.com/watch?v=EX4cKfE9DaM\n",
      "107. https://www.youtube.com/watch?v=https://www.youtube.com/watch?v=h0btCY6Z4Oc\n",
      "108. https://www.youtube.com/watch?v=https://www.youtube.com/watch?v=bzmg71zdhmo\n",
      "109. https://www.youtube.com/watch?v=https://www.youtube.com/watch?v=mql_wlIJn1A\n",
      "110. https://www.youtube.com/watch?v=https://www.youtube.com/watch?v=VobRaclDCW0\n",
      "111. https://www.youtube.com/watch?v=https://www.youtube.com/watch?v=xRpb19v4M34\n",
      "112. https://www.youtube.com/watch?v=https://www.youtube.com/watch?v=lh7QDlNAq48\n",
      "113. https://www.youtube.com/watch?v=https://www.youtube.com/watch?v=5HU3vJEMfZU\n",
      "114. https://www.youtube.com/watch?v=https://www.youtube.com/watch?v=PeakOTFLUr4\n",
      "115. https://www.youtube.com/watch?v=https://www.youtube.com/watch?v=dlh916eBGzA\n",
      "116. https://www.youtube.com/watch?v=https://www.youtube.com/watch?v=UTjRHCbGCl8\n",
      "117. https://www.youtube.com/watch?v=https://www.youtube.com/watch?v=QcWBxu9laX8\n",
      "118. https://www.youtube.com/watch?v=https://www.youtube.com/watch?v=_LQifO8iOe0\n",
      "119. https://www.youtube.com/watch?v=https://www.youtube.com/watch?v=9a2l1k5Z0rw\n",
      "120. https://www.youtube.com/watch?v=https://www.youtube.com/watch?v=Q7R8rLgfaao\n",
      "121. https://www.youtube.com/watch?v=https://www.youtube.com/watch?v=pHQIerF6NTk\n"
     ]
    }
   ],
   "source": [
    "\n",
    "# Paste your playlist URL here\n",
    "playlist_url = \"https://youtube.com/playlist?list=PLbGui_ZYuhigUfO47FLx4ocfmo1071hlc&si=Ez13GXDcgscUkIPf\"\n",
    "\n",
    "\n",
    "# Options to only extract video URLs\n",
    "ydl_opts = {\n",
    "    'quiet': True,\n",
    "    'extract_flat': True,  # Do not resolve full video data\n",
    "    'skip_download': True,\n",
    "    'force_generic_extractor': True,\n",
    "}\n",
    "\n",
    "video_urls = []\n",
    "\n",
    "with yt_dlp.YoutubeDL(ydl_opts) as ydl:\n",
    "    info = ydl.extract_info(playlist_url, download=False)\n",
    "    for entry in info.get('entries', []):\n",
    "        video_urls.append(entry['url'])\n",
    "\n",
    "# Print all video URLs\n",
    "print(f\"🔗 Found {len(video_urls)} videos in the playlist:\")\n",
    "for i, url in enumerate(video_urls, 1):\n",
    "    print(f\"{i}. https://www.youtube.com/watch?v={url}\")\n"
   ]
  },
  {
   "cell_type": "code",
   "execution_count": 7,
   "id": "3db62e6f",
   "metadata": {},
   "outputs": [
    {
     "data": {
      "text/plain": [
       "['https://www.youtube.com/watch?v=Jj408N2tXw0',\n",
       " 'https://www.youtube.com/watch?v=dLL3l1sfD6k',\n",
       " 'https://www.youtube.com/watch?v=tB1GiaGeO_c',\n",
       " 'https://www.youtube.com/watch?v=Ja0wD5VfCEw',\n",
       " 'https://www.youtube.com/watch?v=l0qzyO-LDyY',\n",
       " 'https://www.youtube.com/watch?v=-7hIZyosXB4',\n",
       " 'https://www.youtube.com/watch?v=JV-SoKxbxZU',\n",
       " 'https://www.youtube.com/watch?v=ZI0vftVIZx8',\n",
       " 'https://www.youtube.com/watch?v=o-ODOzIxdMU',\n",
       " 'https://www.youtube.com/watch?v=R1mFBBoQ8RU',\n",
       " 'https://www.youtube.com/watch?v=_oP854S3LWs',\n",
       " 'https://www.youtube.com/watch?v=QGpWufx_Rxw',\n",
       " 'https://www.youtube.com/watch?v=a_sEIlG7cXo',\n",
       " 'https://www.youtube.com/watch?v=UOAQWcZDBg0',\n",
       " 'https://www.youtube.com/watch?v=7HK1ClVCtjA',\n",
       " 'https://www.youtube.com/watch?v=bthwifyNP6s',\n",
       " 'https://www.youtube.com/watch?v=fqZ6n1VGXFo',\n",
       " 'https://www.youtube.com/watch?v=jX90ErC5NR4',\n",
       " 'https://www.youtube.com/watch?v=imd80WP2eaI',\n",
       " 'https://www.youtube.com/watch?v=n6IBUtAqJJA',\n",
       " 'https://www.youtube.com/watch?v=iAwGj7Lsltw',\n",
       " 'https://www.youtube.com/watch?v=FnMa4QJKa8Y',\n",
       " 'https://www.youtube.com/watch?v=itfk0bCUtXU',\n",
       " 'https://www.youtube.com/watch?v=duAjV0Ox_zg',\n",
       " 'https://www.youtube.com/watch?v=ECboO0QKxTo',\n",
       " 'https://www.youtube.com/watch?v=pM4lHGEXIzw',\n",
       " 'https://www.youtube.com/watch?v=conNUAB0uow',\n",
       " 'https://www.youtube.com/watch?v=ptE5Y2N9i9Q',\n",
       " 'https://www.youtube.com/watch?v=hIvX5zJCvuQ',\n",
       " 'https://www.youtube.com/watch?v=Q68APwruCSA',\n",
       " 'https://www.youtube.com/watch?v=-5qxcQWF0fw',\n",
       " 'https://www.youtube.com/watch?v=Q5b773o8pWU',\n",
       " 'https://www.youtube.com/watch?v=kpjNC6drsP8',\n",
       " 'https://www.youtube.com/watch?v=Fp3y3POjDqk',\n",
       " 'https://www.youtube.com/watch?v=JIGbZmdfPlc',\n",
       " 'https://www.youtube.com/watch?v=turIwH9b0EE',\n",
       " 'https://www.youtube.com/watch?v=zjlnaq4xei8',\n",
       " 'https://www.youtube.com/watch?v=cCmkVs95EFw',\n",
       " 'https://www.youtube.com/watch?v=1TRpHABymrs',\n",
       " 'https://www.youtube.com/watch?v=aP4d0_NNV54',\n",
       " 'https://www.youtube.com/watch?v=kgVaY9-uybs',\n",
       " 'https://www.youtube.com/watch?v=dhjPgmyuuiw',\n",
       " 'https://www.youtube.com/watch?v=FPtbp3Ha8jA',\n",
       " 'https://www.youtube.com/watch?v=PsgvlHX4uxM',\n",
       " 'https://www.youtube.com/watch?v=_biDnJj2sRI',\n",
       " 'https://www.youtube.com/watch?v=ujQ1TBXSkfQ',\n",
       " 'https://www.youtube.com/watch?v=ma2slAtUFv4',\n",
       " 'https://www.youtube.com/watch?v=ydn_rpEr6Ic',\n",
       " 'https://www.youtube.com/watch?v=1KE0QrnfN14',\n",
       " 'https://www.youtube.com/watch?v=Ew8KsRmgbtg',\n",
       " 'https://www.youtube.com/watch?v=ft2589QxTYI',\n",
       " 'https://www.youtube.com/watch?v=w1rv31EQSHo',\n",
       " 'https://www.youtube.com/watch?v=3EXb0ripj0k',\n",
       " 'https://www.youtube.com/watch?v=ShdFKJAAtiw',\n",
       " 'https://www.youtube.com/watch?v=Yeb_vnQaPhg',\n",
       " 'https://www.youtube.com/watch?v=mf7hWckgXJQ',\n",
       " 'https://www.youtube.com/watch?v=fxHuYp8CD18',\n",
       " 'https://www.youtube.com/watch?v=3a1TEMTNVdU',\n",
       " 'https://www.youtube.com/watch?v=3sr_VsGpDEo',\n",
       " 'https://www.youtube.com/watch?v=KnCgYzLK0Qw',\n",
       " 'https://www.youtube.com/watch?v=pCCk3G3ATq0',\n",
       " 'https://www.youtube.com/watch?v=rywQmGmvgn8',\n",
       " 'https://www.youtube.com/watch?v=QFwpmEkpy48',\n",
       " 'https://www.youtube.com/watch?v=i1nRFHg4q_Y',\n",
       " 'https://www.youtube.com/watch?v=aR5PZ6sb75c',\n",
       " 'https://www.youtube.com/watch?v=mjAfb3_lwjk',\n",
       " 'https://www.youtube.com/watch?v=NDt0xW-Xn9c',\n",
       " 'https://www.youtube.com/watch?v=wgw6zzEb0a0',\n",
       " 'https://www.youtube.com/watch?v=R-YjySrFKus',\n",
       " 'https://www.youtube.com/watch?v=eJDDOqFk4x8',\n",
       " 'https://www.youtube.com/watch?v=tDP3qoUjpl4',\n",
       " 'https://www.youtube.com/watch?v=gFakipjD9r4',\n",
       " 'https://www.youtube.com/watch?v=lgDWN7P6qJg',\n",
       " 'https://www.youtube.com/watch?v=10oMg_upF8o',\n",
       " 'https://www.youtube.com/watch?v=ESUakyjKqZA',\n",
       " 'https://www.youtube.com/watch?v=DPBseDogPzo',\n",
       " 'https://www.youtube.com/watch?v=SiPrJ8qr-VE',\n",
       " 'https://www.youtube.com/watch?v=0vfAw_XcLxc',\n",
       " 'https://www.youtube.com/watch?v=w6PNUGAJDEA',\n",
       " 'https://www.youtube.com/watch?v=kitpcJEnZZE',\n",
       " 'https://www.youtube.com/watch?v=eW8aHcCn-G8',\n",
       " 'https://www.youtube.com/watch?v=oA3rlx0CjVg',\n",
       " 'https://www.youtube.com/watch?v=KAps82DZ-CU',\n",
       " 'https://www.youtube.com/watch?v=ZNfYXVga-yw',\n",
       " 'https://www.youtube.com/watch?v=93TihYXYy_c',\n",
       " 'https://www.youtube.com/watch?v=6_HJp8YGz2I',\n",
       " 'https://www.youtube.com/watch?v=m82zbEd7tdU',\n",
       " 'https://www.youtube.com/watch?v=bW6dNT28CVE',\n",
       " 'https://www.youtube.com/watch?v=YbKIHTn7UjI',\n",
       " 'https://www.youtube.com/watch?v=ZxsdApxjQ2E',\n",
       " 'https://www.youtube.com/watch?v=HmbaRgs3h5M',\n",
       " 'https://www.youtube.com/watch?v=r9TRJ4UzfSw',\n",
       " 'https://www.youtube.com/watch?v=T6HgADA6VeE',\n",
       " 'https://www.youtube.com/watch?v=Zb3kC-hd1IE',\n",
       " 'https://www.youtube.com/watch?v=Sk7vOiGt_f8',\n",
       " 'https://www.youtube.com/watch?v=o78HCXzABkg',\n",
       " 'https://www.youtube.com/watch?v=1CQ_YMhTNNk',\n",
       " 'https://www.youtube.com/watch?v=6QzGclNGMJU',\n",
       " 'https://www.youtube.com/watch?v=xc43DeHuBoc',\n",
       " 'https://www.youtube.com/watch?v=MDi0OZEVFJI',\n",
       " 'https://www.youtube.com/watch?v=5N9QAwlU7c0',\n",
       " 'https://www.youtube.com/watch?v=fz0eErhiM_I',\n",
       " 'https://www.youtube.com/watch?v=H_JbRaiAlZ0',\n",
       " 'https://www.youtube.com/watch?v=-YOU4ZloxnM',\n",
       " 'https://www.youtube.com/watch?v=XV4bi3aSRFQ',\n",
       " 'https://www.youtube.com/watch?v=EX4cKfE9DaM',\n",
       " 'https://www.youtube.com/watch?v=h0btCY6Z4Oc',\n",
       " 'https://www.youtube.com/watch?v=bzmg71zdhmo',\n",
       " 'https://www.youtube.com/watch?v=mql_wlIJn1A',\n",
       " 'https://www.youtube.com/watch?v=VobRaclDCW0',\n",
       " 'https://www.youtube.com/watch?v=xRpb19v4M34',\n",
       " 'https://www.youtube.com/watch?v=lh7QDlNAq48',\n",
       " 'https://www.youtube.com/watch?v=5HU3vJEMfZU',\n",
       " 'https://www.youtube.com/watch?v=PeakOTFLUr4',\n",
       " 'https://www.youtube.com/watch?v=dlh916eBGzA',\n",
       " 'https://www.youtube.com/watch?v=UTjRHCbGCl8',\n",
       " 'https://www.youtube.com/watch?v=QcWBxu9laX8',\n",
       " 'https://www.youtube.com/watch?v=_LQifO8iOe0',\n",
       " 'https://www.youtube.com/watch?v=9a2l1k5Z0rw',\n",
       " 'https://www.youtube.com/watch?v=Q7R8rLgfaao',\n",
       " 'https://www.youtube.com/watch?v=pHQIerF6NTk']"
      ]
     },
     "execution_count": 7,
     "metadata": {},
     "output_type": "execute_result"
    }
   ],
   "source": [
    "django_geeks=video_urls\n",
    "\n",
    "django_geeks"
   ]
  },
  {
   "cell_type": "code",
   "execution_count": 5,
   "id": "65fed441",
   "metadata": {},
   "outputs": [],
   "source": [
    "import os\n",
    "import yt_dlp\n",
    "\n",
    "def download_playlist(playlist_url, download_dir):\n",
    "    if not os.path.exists(download_dir):\n",
    "        os.makedirs(download_dir)\n",
    "        print(f\"Created folder: {download_dir}\")\n",
    "\n",
    "    ydl_opts = {\n",
    "        'outtmpl': os.path.join(download_dir, '%(title)s.%(ext)s'),\n",
    "        'ignoreerrors': True,\n",
    "        'noplaylist': False,\n",
    "        'format': 'bestvideo[height=1080]+bestaudio/best[height=1080]',\n",
    "        'merge_output_format': 'mp4',  # Ensure output is in mp4\n",
    "        # 'ffmpeg_location': 'C:/path/to/ffmpeg/bin'  # Optional\n",
    "    }\n",
    "\n",
    "    try:\n",
    "        with yt_dlp.YoutubeDL(ydl_opts) as ydl:\n",
    "            ydl.download([playlist_url])\n",
    "    except KeyboardInterrupt:\n",
    "        print(\"\\nDownload interrupted by user.\")\n"
   ]
  },
  {
   "cell_type": "code",
   "execution_count": 10,
   "id": "41eae293",
   "metadata": {},
   "outputs": [
    {
     "name": "stdout",
     "output_type": "stream",
     "text": [
      "[youtube] Extracting URL: https://www.youtube.com/watch?v=jX90ErC5NR4\n",
      "[youtube] jX90ErC5NR4: Downloading webpage\n"
     ]
    },
    {
     "name": "stdout",
     "output_type": "stream",
     "text": [
      "[youtube] jX90ErC5NR4: Downloading tv client config\n",
      "[youtube] jX90ErC5NR4: Downloading player 69b31e11-main\n",
      "[youtube] jX90ErC5NR4: Downloading tv player API JSON\n",
      "[youtube] jX90ErC5NR4: Downloading ios player API JSON\n",
      "[youtube] jX90ErC5NR4: Downloading m3u8 information\n",
      "[info] jX90ErC5NR4: Downloading 1 format(s): 137+251-1\n",
      "[download] Destination: D:\\django\\Learn to use Django Static Files CSS Javascript and Images.f137.mp4\n",
      "[download] 100% of   38.43MiB in 00:00:09 at 3.99MiB/s     \n",
      "[download] Destination: D:\\django\\Learn to use Django Static Files CSS Javascript and Images.f251-1.webm\n",
      "[download] 100% of   14.31MiB in 00:00:03 at 4.14MiB/s   \n",
      "[Merger] Merging formats into \"D:\\django\\Learn to use Django Static Files CSS Javascript and Images.mp4\"\n",
      "Deleting original file D:\\django\\Learn to use Django Static Files CSS Javascript and Images.f137.mp4 (pass -k to keep)\n",
      "Deleting original file D:\\django\\Learn to use Django Static Files CSS Javascript and Images.f251-1.webm (pass -k to keep)\n",
      "[youtube] Extracting URL: https://www.youtube.com/watch?v=imd80WP2eaI\n",
      "[youtube] imd80WP2eaI: Downloading webpage\n",
      "[youtube] imd80WP2eaI: Downloading tv client config\n",
      "[youtube] imd80WP2eaI: Downloading player 69b31e11-main\n",
      "[youtube] imd80WP2eaI: Downloading tv player API JSON\n",
      "[youtube] imd80WP2eaI: Downloading ios player API JSON\n",
      "[youtube] imd80WP2eaI: Downloading m3u8 information\n",
      "[info] imd80WP2eaI: Downloading 1 format(s): 248+251\n",
      "[download] Destination: D:\\django\\Django Template Inheritance or extends and block Tag.f248.webm\n",
      "[download] 100% of   57.42MiB in 00:00:17 at 3.23MiB/s   \n",
      "[download] Destination: D:\\django\\Django Template Inheritance or extends and block Tag.f251.webm\n",
      "[download] 100% of   23.66MiB in 00:00:07 at 3.11MiB/s   \n",
      "[Merger] Merging formats into \"D:\\django\\Django Template Inheritance or extends and block Tag.mp4\"\n",
      "Deleting original file D:\\django\\Django Template Inheritance or extends and block Tag.f251.webm (pass -k to keep)\n",
      "Deleting original file D:\\django\\Django Template Inheritance or extends and block Tag.f248.webm (pass -k to keep)\n",
      "[youtube] Extracting URL: https://www.youtube.com/watch?v=n6IBUtAqJJA\n",
      "[youtube] n6IBUtAqJJA: Downloading webpage\n",
      "[youtube] n6IBUtAqJJA: Downloading tv client config\n",
      "[youtube] n6IBUtAqJJA: Downloading player 584dd955-main\n",
      "[youtube] n6IBUtAqJJA: Downloading tv player API JSON\n",
      "[youtube] n6IBUtAqJJA: Downloading ios player API JSON\n",
      "[youtube] n6IBUtAqJJA: Downloading m3u8 information\n",
      "[info] n6IBUtAqJJA: Downloading 1 format(s): 248+251\n",
      "[download] Destination: D:\\django\\Django Template Inheritance with Static Files.f248.webm\n",
      "[download] 100% of   36.67MiB in 00:00:12 at 2.91MiB/s   \n",
      "[download] Destination: D:\\django\\Django Template Inheritance with Static Files.f251.webm\n",
      "[download] 100% of   15.48MiB in 00:00:07 at 2.17MiB/s   \n",
      "[Merger] Merging formats into \"D:\\django\\Django Template Inheritance with Static Files.mp4\"\n",
      "Deleting original file D:\\django\\Django Template Inheritance with Static Files.f248.webm (pass -k to keep)\n",
      "Deleting original file D:\\django\\Django Template Inheritance with Static Files.f251.webm (pass -k to keep)\n"
     ]
    }
   ],
   "source": [
    "# no of video from which download start\n",
    "start=18\n",
    "# no of video upto which download end\n",
    "end=20\n",
    "url_list=django_geeks\n",
    "download_dir=\"D:/django\"\n",
    "# start-1 as index is 16 for 17'th video, but for end if say 20'th video index is 19, which already works in range like that \n",
    "for i in range(start-1,min(end,len(url_list))):\n",
    "    download_playlist(url_list[i], download_dir)"
   ]
  },
  {
   "cell_type": "code",
   "execution_count": 2,
   "id": "33e41cf7",
   "metadata": {},
   "outputs": [],
   "source": [
    "import os\n",
    "import yt_dlp\n",
    "\n",
    "def list_formats(video_url):\n",
    "    ydl_opts = {\n",
    "        'listformats': True\n",
    "    }\n",
    "    print(\"\\nFetching available formats...\\n\")\n",
    "    with yt_dlp.YoutubeDL({}) as ydl:\n",
    "        info = ydl.extract_info(video_url, download=False)\n",
    "        formats = info.get('formats', [])\n",
    "        format_list = []\n",
    "        for idx, f in enumerate(formats):\n",
    "            # Only show formats with resolution or audio quality\n",
    "            # if f.get('vcodec') != 'none' or f.get('acodec') != 'none':\n",
    "            if f.get('audio_ext') != 'none' and f.get('video_ext') != 'none':\n",
    "                format_list.append(f['format_id'])\n",
    "                fmt_str = f\"{len(format_list)}. Format ID: {f['format_id']} | Ext: {f['ext']} | \"\n",
    "                if f.get('resolution'):\n",
    "                    fmt_str += f\"Video: {f['resolution']}\"\n",
    "                elif f.get('abr'):\n",
    "                    fmt_str += f\"Audio: {f['abr']}kbps\"\n",
    "                fmt_str += f\" | Note: {f.get('format_note', '')}\"\n",
    "                print(fmt_str)\n",
    "    return format_list"
   ]
  },
  {
   "cell_type": "code",
   "execution_count": 30,
   "id": "63b4b1a5",
   "metadata": {},
   "outputs": [
    {
     "name": "stdout",
     "output_type": "stream",
     "text": [
      "\n",
      "Fetching available formats...\n",
      "\n",
      "[youtube] Extracting URL: https://www.youtube.com/watch?v=7HK1ClVCtjA\n",
      "[youtube] 7HK1ClVCtjA: Downloading webpage\n",
      "[youtube] 7HK1ClVCtjA: Downloading tv client config\n",
      "[youtube] 7HK1ClVCtjA: Downloading player 69b31e11-main\n",
      "[youtube] 7HK1ClVCtjA: Downloading tv player API JSON\n",
      "[youtube] 7HK1ClVCtjA: Downloading ios player API JSON\n",
      "[youtube] 7HK1ClVCtjA: Downloading m3u8 information\n"
     ]
    },
    {
     "data": {
      "text/plain": [
       "([],\n",
       " [{'format_id': 'sb3',\n",
       "   'format_note': 'storyboard',\n",
       "   'ext': 'mhtml',\n",
       "   'protocol': 'mhtml',\n",
       "   'acodec': 'none',\n",
       "   'vcodec': 'none',\n",
       "   'url': 'https://i.ytimg.com/sb/7HK1ClVCtjA/storyboard3_L0/default.jpg?sqp=-oaymwENSDfyq4qpAwVwAcABBqLzl_8DBgi-qJW4Bg==&sigh=rs$AOn4CLASjy0CVAF_E4a6yS1PWQ8FxW2tgQ',\n",
       "   'width': 48,\n",
       "   'height': 27,\n",
       "   'fps': 0.08257638315441784,\n",
       "   'rows': 10,\n",
       "   'columns': 10,\n",
       "   'fragments': [{'url': 'https://i.ytimg.com/sb/7HK1ClVCtjA/storyboard3_L0/default.jpg?sqp=-oaymwENSDfyq4qpAwVwAcABBqLzl_8DBgi-qJW4Bg==&sigh=rs$AOn4CLASjy0CVAF_E4a6yS1PWQ8FxW2tgQ',\n",
       "     'duration': 1211.0}],\n",
       "   'audio_ext': 'none',\n",
       "   'video_ext': 'none',\n",
       "   'vbr': 0,\n",
       "   'abr': 0,\n",
       "   'tbr': None,\n",
       "   'resolution': '48x27',\n",
       "   'aspect_ratio': 1.78,\n",
       "   'filesize_approx': None,\n",
       "   'http_headers': {'User-Agent': 'Mozilla/5.0 (Windows NT 10.0; Win64; x64) AppleWebKit/537.36 (KHTML, like Gecko) Chrome/92.0.4515.159 Safari/537.36',\n",
       "    'Accept': 'text/html,application/xhtml+xml,application/xml;q=0.9,*/*;q=0.8',\n",
       "    'Accept-Language': 'en-us,en;q=0.5',\n",
       "    'Sec-Fetch-Mode': 'navigate'},\n",
       "   'format': 'sb3 - 48x27 (storyboard)'},\n",
       "  {'format_id': 'sb2',\n",
       "   'format_note': 'storyboard',\n",
       "   'ext': 'mhtml',\n",
       "   'protocol': 'mhtml',\n",
       "   'acodec': 'none',\n",
       "   'vcodec': 'none',\n",
       "   'url': 'https://i.ytimg.com/sb/7HK1ClVCtjA/storyboard3_L1/M$M.jpg?sqp=-oaymwENSDfyq4qpAwVwAcABBqLzl_8DBgi-qJW4Bg==&sigh=rs$AOn4CLBgtURB6m3ztws4Gt5l1laJ4zBcaw',\n",
       "   'width': 80,\n",
       "   'height': 45,\n",
       "   'fps': 0.10156895127993394,\n",
       "   'rows': 10,\n",
       "   'columns': 10,\n",
       "   'fragments': [{'url': 'https://i.ytimg.com/sb/7HK1ClVCtjA/storyboard3_L1/M0.jpg?sqp=-oaymwENSDfyq4qpAwVwAcABBqLzl_8DBgi-qJW4Bg==&sigh=rs$AOn4CLBgtURB6m3ztws4Gt5l1laJ4zBcaw',\n",
       "     'duration': 984.5528455284554},\n",
       "    {'url': 'https://i.ytimg.com/sb/7HK1ClVCtjA/storyboard3_L1/M1.jpg?sqp=-oaymwENSDfyq4qpAwVwAcABBqLzl_8DBgi-qJW4Bg==&sigh=rs$AOn4CLBgtURB6m3ztws4Gt5l1laJ4zBcaw',\n",
       "     'duration': 226.44715447154465}],\n",
       "   'audio_ext': 'none',\n",
       "   'video_ext': 'none',\n",
       "   'vbr': 0,\n",
       "   'abr': 0,\n",
       "   'tbr': None,\n",
       "   'resolution': '80x45',\n",
       "   'aspect_ratio': 1.78,\n",
       "   'filesize_approx': None,\n",
       "   'http_headers': {'User-Agent': 'Mozilla/5.0 (Windows NT 10.0; Win64; x64) AppleWebKit/537.36 (KHTML, like Gecko) Chrome/92.0.4515.159 Safari/537.36',\n",
       "    'Accept': 'text/html,application/xhtml+xml,application/xml;q=0.9,*/*;q=0.8',\n",
       "    'Accept-Language': 'en-us,en;q=0.5',\n",
       "    'Sec-Fetch-Mode': 'navigate'},\n",
       "   'format': 'sb2 - 80x45 (storyboard)'},\n",
       "  {'format_id': 'sb1',\n",
       "   'format_note': 'storyboard',\n",
       "   'ext': 'mhtml',\n",
       "   'protocol': 'mhtml',\n",
       "   'acodec': 'none',\n",
       "   'vcodec': 'none',\n",
       "   'url': 'https://i.ytimg.com/sb/7HK1ClVCtjA/storyboard3_L2/M$M.jpg?sqp=-oaymwENSDfyq4qpAwVwAcABBqLzl_8DBgi-qJW4Bg==&sigh=rs$AOn4CLB7hBzU5PyG9ToqPgEJeI31wwjH5Q',\n",
       "   'width': 160,\n",
       "   'height': 90,\n",
       "   'fps': 0.10156895127993394,\n",
       "   'rows': 5,\n",
       "   'columns': 5,\n",
       "   'fragments': [{'url': 'https://i.ytimg.com/sb/7HK1ClVCtjA/storyboard3_L2/M0.jpg?sqp=-oaymwENSDfyq4qpAwVwAcABBqLzl_8DBgi-qJW4Bg==&sigh=rs$AOn4CLB7hBzU5PyG9ToqPgEJeI31wwjH5Q',\n",
       "     'duration': 246.13821138211384},\n",
       "    {'url': 'https://i.ytimg.com/sb/7HK1ClVCtjA/storyboard3_L2/M1.jpg?sqp=-oaymwENSDfyq4qpAwVwAcABBqLzl_8DBgi-qJW4Bg==&sigh=rs$AOn4CLB7hBzU5PyG9ToqPgEJeI31wwjH5Q',\n",
       "     'duration': 246.13821138211384},\n",
       "    {'url': 'https://i.ytimg.com/sb/7HK1ClVCtjA/storyboard3_L2/M2.jpg?sqp=-oaymwENSDfyq4qpAwVwAcABBqLzl_8DBgi-qJW4Bg==&sigh=rs$AOn4CLB7hBzU5PyG9ToqPgEJeI31wwjH5Q',\n",
       "     'duration': 246.13821138211384},\n",
       "    {'url': 'https://i.ytimg.com/sb/7HK1ClVCtjA/storyboard3_L2/M3.jpg?sqp=-oaymwENSDfyq4qpAwVwAcABBqLzl_8DBgi-qJW4Bg==&sigh=rs$AOn4CLB7hBzU5PyG9ToqPgEJeI31wwjH5Q',\n",
       "     'duration': 246.13821138211384},\n",
       "    {'url': 'https://i.ytimg.com/sb/7HK1ClVCtjA/storyboard3_L2/M4.jpg?sqp=-oaymwENSDfyq4qpAwVwAcABBqLzl_8DBgi-qJW4Bg==&sigh=rs$AOn4CLB7hBzU5PyG9ToqPgEJeI31wwjH5Q',\n",
       "     'duration': 226.44715447154465}],\n",
       "   'audio_ext': 'none',\n",
       "   'video_ext': 'none',\n",
       "   'vbr': 0,\n",
       "   'abr': 0,\n",
       "   'tbr': None,\n",
       "   'resolution': '160x90',\n",
       "   'aspect_ratio': 1.78,\n",
       "   'filesize_approx': None,\n",
       "   'http_headers': {'User-Agent': 'Mozilla/5.0 (Windows NT 10.0; Win64; x64) AppleWebKit/537.36 (KHTML, like Gecko) Chrome/92.0.4515.159 Safari/537.36',\n",
       "    'Accept': 'text/html,application/xhtml+xml,application/xml;q=0.9,*/*;q=0.8',\n",
       "    'Accept-Language': 'en-us,en;q=0.5',\n",
       "    'Sec-Fetch-Mode': 'navigate'},\n",
       "   'format': 'sb1 - 160x90 (storyboard)'},\n",
       "  {'format_id': 'sb0',\n",
       "   'format_note': 'storyboard',\n",
       "   'ext': 'mhtml',\n",
       "   'protocol': 'mhtml',\n",
       "   'acodec': 'none',\n",
       "   'vcodec': 'none',\n",
       "   'url': 'https://i.ytimg.com/sb/7HK1ClVCtjA/storyboard3_L3/M$M.jpg?sqp=-oaymwENSDfyq4qpAwVwAcABBqLzl_8DBgi-qJW4Bg==&sigh=rs$AOn4CLChyYAN9yUuPV77afN8ANVL4QhFmA',\n",
       "   'width': 320,\n",
       "   'height': 180,\n",
       "   'fps': 0.10156895127993394,\n",
       "   'rows': 3,\n",
       "   'columns': 3,\n",
       "   'fragments': [{'url': 'https://i.ytimg.com/sb/7HK1ClVCtjA/storyboard3_L3/M0.jpg?sqp=-oaymwENSDfyq4qpAwVwAcABBqLzl_8DBgi-qJW4Bg==&sigh=rs$AOn4CLChyYAN9yUuPV77afN8ANVL4QhFmA',\n",
       "     'duration': 88.60975609756098},\n",
       "    {'url': 'https://i.ytimg.com/sb/7HK1ClVCtjA/storyboard3_L3/M1.jpg?sqp=-oaymwENSDfyq4qpAwVwAcABBqLzl_8DBgi-qJW4Bg==&sigh=rs$AOn4CLChyYAN9yUuPV77afN8ANVL4QhFmA',\n",
       "     'duration': 88.60975609756098},\n",
       "    {'url': 'https://i.ytimg.com/sb/7HK1ClVCtjA/storyboard3_L3/M2.jpg?sqp=-oaymwENSDfyq4qpAwVwAcABBqLzl_8DBgi-qJW4Bg==&sigh=rs$AOn4CLChyYAN9yUuPV77afN8ANVL4QhFmA',\n",
       "     'duration': 88.60975609756098},\n",
       "    {'url': 'https://i.ytimg.com/sb/7HK1ClVCtjA/storyboard3_L3/M3.jpg?sqp=-oaymwENSDfyq4qpAwVwAcABBqLzl_8DBgi-qJW4Bg==&sigh=rs$AOn4CLChyYAN9yUuPV77afN8ANVL4QhFmA',\n",
       "     'duration': 88.60975609756098},\n",
       "    {'url': 'https://i.ytimg.com/sb/7HK1ClVCtjA/storyboard3_L3/M4.jpg?sqp=-oaymwENSDfyq4qpAwVwAcABBqLzl_8DBgi-qJW4Bg==&sigh=rs$AOn4CLChyYAN9yUuPV77afN8ANVL4QhFmA',\n",
       "     'duration': 88.60975609756098},\n",
       "    {'url': 'https://i.ytimg.com/sb/7HK1ClVCtjA/storyboard3_L3/M5.jpg?sqp=-oaymwENSDfyq4qpAwVwAcABBqLzl_8DBgi-qJW4Bg==&sigh=rs$AOn4CLChyYAN9yUuPV77afN8ANVL4QhFmA',\n",
       "     'duration': 88.60975609756098},\n",
       "    {'url': 'https://i.ytimg.com/sb/7HK1ClVCtjA/storyboard3_L3/M6.jpg?sqp=-oaymwENSDfyq4qpAwVwAcABBqLzl_8DBgi-qJW4Bg==&sigh=rs$AOn4CLChyYAN9yUuPV77afN8ANVL4QhFmA',\n",
       "     'duration': 88.60975609756098},\n",
       "    {'url': 'https://i.ytimg.com/sb/7HK1ClVCtjA/storyboard3_L3/M7.jpg?sqp=-oaymwENSDfyq4qpAwVwAcABBqLzl_8DBgi-qJW4Bg==&sigh=rs$AOn4CLChyYAN9yUuPV77afN8ANVL4QhFmA',\n",
       "     'duration': 88.60975609756098},\n",
       "    {'url': 'https://i.ytimg.com/sb/7HK1ClVCtjA/storyboard3_L3/M8.jpg?sqp=-oaymwENSDfyq4qpAwVwAcABBqLzl_8DBgi-qJW4Bg==&sigh=rs$AOn4CLChyYAN9yUuPV77afN8ANVL4QhFmA',\n",
       "     'duration': 88.60975609756098},\n",
       "    {'url': 'https://i.ytimg.com/sb/7HK1ClVCtjA/storyboard3_L3/M9.jpg?sqp=-oaymwENSDfyq4qpAwVwAcABBqLzl_8DBgi-qJW4Bg==&sigh=rs$AOn4CLChyYAN9yUuPV77afN8ANVL4QhFmA',\n",
       "     'duration': 88.60975609756098},\n",
       "    {'url': 'https://i.ytimg.com/sb/7HK1ClVCtjA/storyboard3_L3/M10.jpg?sqp=-oaymwENSDfyq4qpAwVwAcABBqLzl_8DBgi-qJW4Bg==&sigh=rs$AOn4CLChyYAN9yUuPV77afN8ANVL4QhFmA',\n",
       "     'duration': 88.60975609756098},\n",
       "    {'url': 'https://i.ytimg.com/sb/7HK1ClVCtjA/storyboard3_L3/M11.jpg?sqp=-oaymwENSDfyq4qpAwVwAcABBqLzl_8DBgi-qJW4Bg==&sigh=rs$AOn4CLChyYAN9yUuPV77afN8ANVL4QhFmA',\n",
       "     'duration': 88.60975609756098},\n",
       "    {'url': 'https://i.ytimg.com/sb/7HK1ClVCtjA/storyboard3_L3/M12.jpg?sqp=-oaymwENSDfyq4qpAwVwAcABBqLzl_8DBgi-qJW4Bg==&sigh=rs$AOn4CLChyYAN9yUuPV77afN8ANVL4QhFmA',\n",
       "     'duration': 88.60975609756098},\n",
       "    {'url': 'https://i.ytimg.com/sb/7HK1ClVCtjA/storyboard3_L3/M13.jpg?sqp=-oaymwENSDfyq4qpAwVwAcABBqLzl_8DBgi-qJW4Bg==&sigh=rs$AOn4CLChyYAN9yUuPV77afN8ANVL4QhFmA',\n",
       "     'duration': 59.07317073170725}],\n",
       "   'audio_ext': 'none',\n",
       "   'video_ext': 'none',\n",
       "   'vbr': 0,\n",
       "   'abr': 0,\n",
       "   'tbr': None,\n",
       "   'resolution': '320x180',\n",
       "   'aspect_ratio': 1.78,\n",
       "   'filesize_approx': None,\n",
       "   'http_headers': {'User-Agent': 'Mozilla/5.0 (Windows NT 10.0; Win64; x64) AppleWebKit/537.36 (KHTML, like Gecko) Chrome/92.0.4515.159 Safari/537.36',\n",
       "    'Accept': 'text/html,application/xhtml+xml,application/xml;q=0.9,*/*;q=0.8',\n",
       "    'Accept-Language': 'en-us,en;q=0.5',\n",
       "    'Sec-Fetch-Mode': 'navigate'},\n",
       "   'format': 'sb0 - 320x180 (storyboard)'},\n",
       "  {'format_id': '233',\n",
       "   'format_note': 'Default, low',\n",
       "   'format_index': None,\n",
       "   'url': 'https://manifest.googlevideo.com/api/manifest/hls_playlist/expire/1752697909/ei/1bd3aOsvidzctQ-fgIygDQ/ip/2401:4900:6577:e2ae:71c6:163d:cbe8:6168/id/ec72b50a5542b630/itag/233/source/youtube/requiressl/yes/ratebypass/yes/pfa/1/goi/134/sgoap/clen%3D7388131%3Bdur%3D1211.477%3Bgir%3Dyes%3Bitag%3D139%3Blmt%3D1728402437229614/rqh/1/hls_chunk_host/rr4---sn-ci5gup-itqd.googlevideo.com/xpc/EgVo2aDSNQ%3D%3D/met/1752676309,/mh/pt/mm/31,29/mn/sn-ci5gup-itqd,sn-ci5gup-cvhe7/ms/au,rdu/mv/m/mvi/4/pl/44/rms/au,au/initcwndbps/390000/bui/AY1jyLMDcvUIOC-sdfRlIFkEp3lc-1QFjXbdhp5rQCXiC_xKTpWFS6sfjSRbucPE0pXA1bqKhP_CjXJy/spc/l3OVKQB-oMuYNCleNXf8Omsi9qV8WUe2azh6C2swJz3Q0SJfFV-FSpX4Mc2mxPIY/vprv/1/playlist_type/DVR/dover/13/txp/6208224/mt/1752675934/fvip/2/short_key/1/keepalive/yes/sparams/expire,ei,ip,id,itag,source,requiressl,ratebypass,pfa,goi,sgoap,rqh,xpc,bui,spc,vprv,playlist_type/sig/AJfQdSswRgIhAJ-q-kR_A3VBq5u6bePIlCLiRuqP1jmHs2W_r2Jv-bKQAiEAzjS4DzZjbe_eNn95WPHGP0BxQhVc0ooOVQqzd1kOWis%3D/lsparams/hls_chunk_host,met,mh,mm,mn,ms,mv,mvi,pl,rms,initcwndbps/lsig/APaTxxMwRQIgam30TWCsU7FSQVa8GAQVOw88sRu8yYuS2UbLseVZ5usCIQDF6FQV7a0VIn0VaW7qErA-HgKOJmZLMY0BMexMNfGEOA%3D%3D/playlist/index.m3u8',\n",
       "   'manifest_url': 'https://manifest.googlevideo.com/api/manifest/hls_variant/expire/1752697909/ei/1bd3aOsvidzctQ-fgIygDQ/ip/2401%3A4900%3A6577%3Ae2ae%3A71c6%3A163d%3Acbe8%3A6168/id/ec72b50a5542b630/source/youtube/requiressl/yes/xpc/EgVo2aDSNQ%3D%3D/playback_host/rr4---sn-ci5gup-itqd.googlevideo.com/met/1752676309%2C/mh/pt/mm/31%2C29/mn/sn-ci5gup-itqd%2Csn-ci5gup-cvhe7/ms/au%2Crdu/mv/m/mvi/4/pl/44/rms/au%2Cau/hfr/1/demuxed/1/tts_caps/1/maudio/1/initcwndbps/390000/bui/AY1jyLMDcvUIOC-sdfRlIFkEp3lc-1QFjXbdhp5rQCXiC_xKTpWFS6sfjSRbucPE0pXA1bqKhP_CjXJy/spc/l3OVKQB-oMuYNCleNXf8Omsi9qV8WUe2azh6C2swJz3Q0SJfFV-FSpX4Mc2mxPIY/vprv/1/go/1/rqh/5/mt/1752675934/fvip/2/nvgoi/1/short_key/1/ncsapi/1/keepalive/yes/dover/13/itag/0/playlist_type/DVR/sparams/expire%2Cei%2Cip%2Cid%2Csource%2Crequiressl%2Cxpc%2Chfr%2Cdemuxed%2Ctts_caps%2Cmaudio%2Cbui%2Cspc%2Cvprv%2Cgo%2Crqh%2Citag%2Cplaylist_type/sig/AJfQdSswRQIgSX4ygihBHw9txcEuiDLXbLa-QXFSJZ7qEqbKwH89X1QCIQDv4ETP_qR2qPMSg2ltqcLutsZLUyg0HIqlp55o4LI0eg%3D%3D/lsparams/playback_host%2Cmet%2Cmh%2Cmm%2Cmn%2Cms%2Cmv%2Cmvi%2Cpl%2Crms%2Cinitcwndbps/lsig/APaTxxMwRQIhAOZuAn9VrOPJFgIHaA8w3mYXa4Xm6v1iWDLdqrJrp51YAiBJ9wcLawoaMYxjjbnkYMZMaU8GNROQYrx9JMJJKMX4Hg%3D%3D/file/index.m3u8',\n",
       "   'language': 'hi',\n",
       "   'ext': 'mp4',\n",
       "   'protocol': 'm3u8_native',\n",
       "   'preference': None,\n",
       "   'quality': -1,\n",
       "   'has_drm': False,\n",
       "   'vcodec': 'none',\n",
       "   'source_preference': 0,\n",
       "   'audio_ext': 'mp4',\n",
       "   'video_ext': 'none',\n",
       "   'vbr': 0,\n",
       "   'abr': None,\n",
       "   'tbr': None,\n",
       "   'resolution': 'audio only',\n",
       "   'aspect_ratio': None,\n",
       "   'http_headers': {'User-Agent': 'Mozilla/5.0 (Windows NT 10.0; Win64; x64) AppleWebKit/537.36 (KHTML, like Gecko) Chrome/92.0.4515.159 Safari/537.36',\n",
       "    'Accept': 'text/html,application/xhtml+xml,application/xml;q=0.9,*/*;q=0.8',\n",
       "    'Accept-Language': 'en-us,en;q=0.5',\n",
       "    'Sec-Fetch-Mode': 'navigate'},\n",
       "   'format': '233 - audio only (Default, low)'},\n",
       "  {'format_id': '234',\n",
       "   'format_note': 'Default, high',\n",
       "   'format_index': None,\n",
       "   'url': 'https://manifest.googlevideo.com/api/manifest/hls_playlist/expire/1752697909/ei/1bd3aOsvidzctQ-fgIygDQ/ip/2401:4900:6577:e2ae:71c6:163d:cbe8:6168/id/ec72b50a5542b630/itag/234/source/youtube/requiressl/yes/ratebypass/yes/pfa/1/goi/134/sgoap/clen%3D19606123%3Bdur%3D1211.408%3Bgir%3Dyes%3Bitag%3D140%3Blmt%3D1728402428333191/rqh/1/hls_chunk_host/rr4---sn-ci5gup-itqd.googlevideo.com/xpc/EgVo2aDSNQ%3D%3D/met/1752676309,/mh/pt/mm/31,29/mn/sn-ci5gup-itqd,sn-ci5gup-cvhe7/ms/au,rdu/mv/m/mvi/4/pl/44/rms/au,au/initcwndbps/390000/bui/AY1jyLMDcvUIOC-sdfRlIFkEp3lc-1QFjXbdhp5rQCXiC_xKTpWFS6sfjSRbucPE0pXA1bqKhP_CjXJy/spc/l3OVKQB-oMuYNCleNXf8Omsi9qV8WUe2azh6C2swJz3Q0SJfFV-FSpX4Mc2mxPIY/vprv/1/playlist_type/DVR/dover/13/txp/6208224/mt/1752675934/fvip/2/short_key/1/keepalive/yes/sparams/expire,ei,ip,id,itag,source,requiressl,ratebypass,pfa,goi,sgoap,rqh,xpc,bui,spc,vprv,playlist_type/sig/AJfQdSswRgIhAPrXNtqp3CQTrLBPKZRZVvLiql7guzoL8q6fspTvpFXTAiEAlQuP_e-0Yk-isWJLNdAwQFp5hxcSAXwcHrotSMHYwxo%3D/lsparams/hls_chunk_host,met,mh,mm,mn,ms,mv,mvi,pl,rms,initcwndbps/lsig/APaTxxMwRAIgCDuU6Gf7S0FAZBpnMiVXVxQ5rGtS2hoHB9Rwvp77CYACIALcSY7scObO47k9VriNaUApTTnSY7NUd_gsYQl8Aqku/playlist/index.m3u8',\n",
       "   'manifest_url': 'https://manifest.googlevideo.com/api/manifest/hls_variant/expire/1752697909/ei/1bd3aOsvidzctQ-fgIygDQ/ip/2401%3A4900%3A6577%3Ae2ae%3A71c6%3A163d%3Acbe8%3A6168/id/ec72b50a5542b630/source/youtube/requiressl/yes/xpc/EgVo2aDSNQ%3D%3D/playback_host/rr4---sn-ci5gup-itqd.googlevideo.com/met/1752676309%2C/mh/pt/mm/31%2C29/mn/sn-ci5gup-itqd%2Csn-ci5gup-cvhe7/ms/au%2Crdu/mv/m/mvi/4/pl/44/rms/au%2Cau/hfr/1/demuxed/1/tts_caps/1/maudio/1/initcwndbps/390000/bui/AY1jyLMDcvUIOC-sdfRlIFkEp3lc-1QFjXbdhp5rQCXiC_xKTpWFS6sfjSRbucPE0pXA1bqKhP_CjXJy/spc/l3OVKQB-oMuYNCleNXf8Omsi9qV8WUe2azh6C2swJz3Q0SJfFV-FSpX4Mc2mxPIY/vprv/1/go/1/rqh/5/mt/1752675934/fvip/2/nvgoi/1/short_key/1/ncsapi/1/keepalive/yes/dover/13/itag/0/playlist_type/DVR/sparams/expire%2Cei%2Cip%2Cid%2Csource%2Crequiressl%2Cxpc%2Chfr%2Cdemuxed%2Ctts_caps%2Cmaudio%2Cbui%2Cspc%2Cvprv%2Cgo%2Crqh%2Citag%2Cplaylist_type/sig/AJfQdSswRQIgSX4ygihBHw9txcEuiDLXbLa-QXFSJZ7qEqbKwH89X1QCIQDv4ETP_qR2qPMSg2ltqcLutsZLUyg0HIqlp55o4LI0eg%3D%3D/lsparams/playback_host%2Cmet%2Cmh%2Cmm%2Cmn%2Cms%2Cmv%2Cmvi%2Cpl%2Crms%2Cinitcwndbps/lsig/APaTxxMwRQIhAOZuAn9VrOPJFgIHaA8w3mYXa4Xm6v1iWDLdqrJrp51YAiBJ9wcLawoaMYxjjbnkYMZMaU8GNROQYrx9JMJJKMX4Hg%3D%3D/file/index.m3u8',\n",
       "   'language': 'hi',\n",
       "   'ext': 'mp4',\n",
       "   'protocol': 'm3u8_native',\n",
       "   'preference': None,\n",
       "   'quality': -1,\n",
       "   'has_drm': False,\n",
       "   'vcodec': 'none',\n",
       "   'source_preference': 1,\n",
       "   'audio_ext': 'mp4',\n",
       "   'video_ext': 'none',\n",
       "   'vbr': 0,\n",
       "   'abr': None,\n",
       "   'tbr': None,\n",
       "   'resolution': 'audio only',\n",
       "   'aspect_ratio': None,\n",
       "   'http_headers': {'User-Agent': 'Mozilla/5.0 (Windows NT 10.0; Win64; x64) AppleWebKit/537.36 (KHTML, like Gecko) Chrome/92.0.4515.159 Safari/537.36',\n",
       "    'Accept': 'text/html,application/xhtml+xml,application/xml;q=0.9,*/*;q=0.8',\n",
       "    'Accept-Language': 'en-us,en;q=0.5',\n",
       "    'Sec-Fetch-Mode': 'navigate'},\n",
       "   'format': '234 - audio only (Default, high)'},\n",
       "  {'asr': 44100,\n",
       "   'filesize': 19606123,\n",
       "   'format_id': '140',\n",
       "   'format_note': 'medium',\n",
       "   'source_preference': -1,\n",
       "   'fps': None,\n",
       "   'audio_channels': 2,\n",
       "   'height': None,\n",
       "   'quality': 3.0,\n",
       "   'has_drm': False,\n",
       "   'tbr': 129.476,\n",
       "   'filesize_approx': 19606032,\n",
       "   'url': 'https://rr4---sn-ci5gup-itqd.googlevideo.com/videoplayback?expire=1752697908&ei=1Ld3aJTFLuiQssUP7dPqmQY&ip=2401%3A4900%3A6577%3Ae2ae%3A71c6%3A163d%3Acbe8%3A6168&id=o-APeA6f1rOGuaDT03bc0Vhl3ZILzeMT79ShT78KhTIwSe&itag=140&source=youtube&requiressl=yes&xpc=EgVo2aDSNQ%3D%3D&met=1752676308%2C&mh=pt&mm=31%2C29&mn=sn-ci5gup-itqd%2Csn-ci5gup-cvhe7&ms=au%2Crdu&mv=m&mvi=4&pl=44&rms=au%2Cau&initcwndbps=390000&bui=AY1jyLPpUIIkqCDPtlEzQGvwMGiHKu_vMaepNXD9x0YV_nTuWZN4SOWDQa99CqfigxALABVdBa_7Sk9M&vprv=1&svpuc=1&mime=audio%2Fmp4&ns=aEIYUejI4IPFIuCa115guwgQ&rqh=1&gir=yes&clen=19606123&dur=1211.408&lmt=1728402428333191&mt=1752675934&fvip=2&keepalive=yes&lmw=1&fexp=51544120&c=TVHTML5&sefc=1&txp=6208224&n=pKFEYJ78sPg9Qg&sparams=expire%2Cei%2Cip%2Cid%2Citag%2Csource%2Crequiressl%2Cxpc%2Cbui%2Cvprv%2Csvpuc%2Cmime%2Cns%2Crqh%2Cgir%2Cclen%2Cdur%2Clmt&sig=AJfQdSswRQIhAOve5AVEjVaqoR9ZCr7UCTFddhSZr-7VCUaGAvxPMEVeAiAwVLI8KKrnekQnYRIJ2z5LkPA8PuA8bjekMnNNx2Vlpg%3D%3D&lsparams=met%2Cmh%2Cmm%2Cmn%2Cms%2Cmv%2Cmvi%2Cpl%2Crms%2Cinitcwndbps&lsig=APaTxxMwRQIhALU7RXyTbLeXFW5vaG_qYmGPYIiMRHBQvsH3i5Ba4TIjAiA3lIcws2nyQMPIJbhYuOMi2g50JnAmB6QWC3HQJw6ouQ%3D%3D',\n",
       "   'width': None,\n",
       "   'language': 'hi',\n",
       "   'language_preference': -1,\n",
       "   'preference': None,\n",
       "   'ext': 'm4a',\n",
       "   'vcodec': 'none',\n",
       "   'acodec': 'mp4a.40.2',\n",
       "   'dynamic_range': None,\n",
       "   'container': 'm4a_dash',\n",
       "   'downloader_options': {'http_chunk_size': 10485760},\n",
       "   'protocol': 'https',\n",
       "   'audio_ext': 'm4a',\n",
       "   'video_ext': 'none',\n",
       "   'vbr': 0,\n",
       "   'abr': 129.476,\n",
       "   'resolution': 'audio only',\n",
       "   'aspect_ratio': None,\n",
       "   'http_headers': {'User-Agent': 'Mozilla/5.0 (Windows NT 10.0; Win64; x64) AppleWebKit/537.36 (KHTML, like Gecko) Chrome/92.0.4515.159 Safari/537.36',\n",
       "    'Accept': 'text/html,application/xhtml+xml,application/xml;q=0.9,*/*;q=0.8',\n",
       "    'Accept-Language': 'en-us,en;q=0.5',\n",
       "    'Sec-Fetch-Mode': 'navigate'},\n",
       "   'format': '140 - audio only (medium)'},\n",
       "  {'asr': 48000,\n",
       "   'filesize': 19114551,\n",
       "   'format_id': '251',\n",
       "   'format_note': 'medium',\n",
       "   'source_preference': -1,\n",
       "   'fps': None,\n",
       "   'audio_channels': 2,\n",
       "   'height': None,\n",
       "   'quality': 3.0,\n",
       "   'has_drm': False,\n",
       "   'tbr': 126.233,\n",
       "   'filesize_approx': 19114532,\n",
       "   'url': 'https://rr4---sn-ci5gup-itqd.googlevideo.com/videoplayback?expire=1752697908&ei=1Ld3aJTFLuiQssUP7dPqmQY&ip=2401%3A4900%3A6577%3Ae2ae%3A71c6%3A163d%3Acbe8%3A6168&id=o-APeA6f1rOGuaDT03bc0Vhl3ZILzeMT79ShT78KhTIwSe&itag=251&source=youtube&requiressl=yes&xpc=EgVo2aDSNQ%3D%3D&met=1752676308%2C&mh=pt&mm=31%2C29&mn=sn-ci5gup-itqd%2Csn-ci5gup-cvhe7&ms=au%2Crdu&mv=m&mvi=4&pl=44&rms=au%2Cau&initcwndbps=390000&bui=AY1jyLPpUIIkqCDPtlEzQGvwMGiHKu_vMaepNXD9x0YV_nTuWZN4SOWDQa99CqfigxALABVdBa_7Sk9M&vprv=1&svpuc=1&mime=audio%2Fwebm&ns=aEIYUejI4IPFIuCa115guwgQ&rqh=1&gir=yes&clen=19114551&dur=1211.381&lmt=1728402461795546&mt=1752675934&fvip=2&keepalive=yes&lmw=1&fexp=51544120&c=TVHTML5&sefc=1&txp=6208224&n=pKFEYJ78sPg9Qg&sparams=expire%2Cei%2Cip%2Cid%2Citag%2Csource%2Crequiressl%2Cxpc%2Cbui%2Cvprv%2Csvpuc%2Cmime%2Cns%2Crqh%2Cgir%2Cclen%2Cdur%2Clmt&sig=AJfQdSswRQIgDDHtOWJuqVo2GQem9ZkjIQ1_IJgpSrW2qdc1gofb4LQCIQCcYggGtRNW7W6C5e9issL0y4xCM-RIPuG2WOPe8YVogg%3D%3D&lsparams=met%2Cmh%2Cmm%2Cmn%2Cms%2Cmv%2Cmvi%2Cpl%2Crms%2Cinitcwndbps&lsig=APaTxxMwRQIhALU7RXyTbLeXFW5vaG_qYmGPYIiMRHBQvsH3i5Ba4TIjAiA3lIcws2nyQMPIJbhYuOMi2g50JnAmB6QWC3HQJw6ouQ%3D%3D',\n",
       "   'width': None,\n",
       "   'language': 'hi',\n",
       "   'language_preference': -1,\n",
       "   'preference': None,\n",
       "   'ext': 'webm',\n",
       "   'vcodec': 'none',\n",
       "   'acodec': 'opus',\n",
       "   'dynamic_range': None,\n",
       "   'container': 'webm_dash',\n",
       "   'downloader_options': {'http_chunk_size': 10485760},\n",
       "   'protocol': 'https',\n",
       "   'audio_ext': 'webm',\n",
       "   'video_ext': 'none',\n",
       "   'vbr': 0,\n",
       "   'abr': 126.233,\n",
       "   'resolution': 'audio only',\n",
       "   'aspect_ratio': None,\n",
       "   'http_headers': {'User-Agent': 'Mozilla/5.0 (Windows NT 10.0; Win64; x64) AppleWebKit/537.36 (KHTML, like Gecko) Chrome/92.0.4515.159 Safari/537.36',\n",
       "    'Accept': 'text/html,application/xhtml+xml,application/xml;q=0.9,*/*;q=0.8',\n",
       "    'Accept-Language': 'en-us,en;q=0.5',\n",
       "    'Sec-Fetch-Mode': 'navigate'},\n",
       "   'format': '251 - audio only (medium)'},\n",
       "  {'format_id': '269',\n",
       "   'format_index': None,\n",
       "   'url': 'https://manifest.googlevideo.com/api/manifest/hls_playlist/expire/1752697909/ei/1bd3aOsvidzctQ-fgIygDQ/ip/2401:4900:6577:e2ae:71c6:163d:cbe8:6168/id/ec72b50a5542b630/itag/269/source/youtube/requiressl/yes/ratebypass/yes/pfa/1/sgovp/clen%3D3150463%3Bdur%3D1211.366%3Bgir%3Dyes%3Bitag%3D160%3Blmt%3D1728402432573418/rqh/1/hls_chunk_host/rr4---sn-ci5gup-itqd.googlevideo.com/xpc/EgVo2aDSNQ%3D%3D/met/1752676309,/mh/pt/mm/31,29/mn/sn-ci5gup-itqd,sn-ci5gup-cvhe7/ms/au,rdu/mv/m/mvi/4/pl/44/rms/au,au/initcwndbps/390000/bui/AY1jyLMDcvUIOC-sdfRlIFkEp3lc-1QFjXbdhp5rQCXiC_xKTpWFS6sfjSRbucPE0pXA1bqKhP_CjXJy/spc/l3OVKQB-oMuYNCleNXf8Omsi9qV8WUe2azh6C2swJz3Q0SJfFV-FSpX4Mc2mxPIY/vprv/1/playlist_type/DVR/dover/13/txp/6209224/mt/1752675934/fvip/2/short_key/1/keepalive/yes/sparams/expire,ei,ip,id,itag,source,requiressl,ratebypass,pfa,sgovp,rqh,xpc,bui,spc,vprv,playlist_type/sig/AJfQdSswRgIhAM54IYv1QHirQXRyQl_oq2TMUeqhRFchL1G3xVBQty6CAiEArJHlYFqntnEN9K37d_JZYjx8iN9hrzCx4G8Krvt5isQ%3D/lsparams/hls_chunk_host,met,mh,mm,mn,ms,mv,mvi,pl,rms,initcwndbps/lsig/APaTxxMwRgIhAKHI4mSH39GNUQUTwnJB5ENWrxfxB46-xQB-krIpJXZsAiEAsGVg7aW8SD8gwfxw8OrbcF8fB64lBJ4J8oIfKiHhd6Q%3D/playlist/index.m3u8',\n",
       "   'manifest_url': 'https://manifest.googlevideo.com/api/manifest/hls_variant/expire/1752697909/ei/1bd3aOsvidzctQ-fgIygDQ/ip/2401%3A4900%3A6577%3Ae2ae%3A71c6%3A163d%3Acbe8%3A6168/id/ec72b50a5542b630/source/youtube/requiressl/yes/xpc/EgVo2aDSNQ%3D%3D/playback_host/rr4---sn-ci5gup-itqd.googlevideo.com/met/1752676309%2C/mh/pt/mm/31%2C29/mn/sn-ci5gup-itqd%2Csn-ci5gup-cvhe7/ms/au%2Crdu/mv/m/mvi/4/pl/44/rms/au%2Cau/hfr/1/demuxed/1/tts_caps/1/maudio/1/initcwndbps/390000/bui/AY1jyLMDcvUIOC-sdfRlIFkEp3lc-1QFjXbdhp5rQCXiC_xKTpWFS6sfjSRbucPE0pXA1bqKhP_CjXJy/spc/l3OVKQB-oMuYNCleNXf8Omsi9qV8WUe2azh6C2swJz3Q0SJfFV-FSpX4Mc2mxPIY/vprv/1/go/1/rqh/5/mt/1752675934/fvip/2/nvgoi/1/short_key/1/ncsapi/1/keepalive/yes/dover/13/itag/0/playlist_type/DVR/sparams/expire%2Cei%2Cip%2Cid%2Csource%2Crequiressl%2Cxpc%2Chfr%2Cdemuxed%2Ctts_caps%2Cmaudio%2Cbui%2Cspc%2Cvprv%2Cgo%2Crqh%2Citag%2Cplaylist_type/sig/AJfQdSswRQIgSX4ygihBHw9txcEuiDLXbLa-QXFSJZ7qEqbKwH89X1QCIQDv4ETP_qR2qPMSg2ltqcLutsZLUyg0HIqlp55o4LI0eg%3D%3D/lsparams/playback_host%2Cmet%2Cmh%2Cmm%2Cmn%2Cms%2Cmv%2Cmvi%2Cpl%2Crms%2Cinitcwndbps/lsig/APaTxxMwRQIhAOZuAn9VrOPJFgIHaA8w3mYXa4Xm6v1iWDLdqrJrp51YAiBJ9wcLawoaMYxjjbnkYMZMaU8GNROQYrx9JMJJKMX4Hg%3D%3D/file/index.m3u8',\n",
       "   'tbr': 127.353,\n",
       "   'ext': 'mp4',\n",
       "   'fps': 30.0,\n",
       "   'protocol': 'm3u8_native',\n",
       "   'preference': None,\n",
       "   'quality': 0,\n",
       "   'has_drm': False,\n",
       "   'width': 256,\n",
       "   'height': 144,\n",
       "   'vcodec': 'avc1.4D400C',\n",
       "   'acodec': 'none',\n",
       "   'dynamic_range': 'SDR',\n",
       "   'source_preference': -1,\n",
       "   'video_ext': 'mp4',\n",
       "   'audio_ext': 'none',\n",
       "   'abr': 0,\n",
       "   'vbr': 127.353,\n",
       "   'resolution': '256x144',\n",
       "   'aspect_ratio': 1.78,\n",
       "   'http_headers': {'User-Agent': 'Mozilla/5.0 (Windows NT 10.0; Win64; x64) AppleWebKit/537.36 (KHTML, like Gecko) Chrome/92.0.4515.159 Safari/537.36',\n",
       "    'Accept': 'text/html,application/xhtml+xml,application/xml;q=0.9,*/*;q=0.8',\n",
       "    'Accept-Language': 'en-us,en;q=0.5',\n",
       "    'Sec-Fetch-Mode': 'navigate'},\n",
       "   'format': '269 - 256x144'},\n",
       "  {'asr': None,\n",
       "   'filesize': 3150463,\n",
       "   'format_id': '160',\n",
       "   'format_note': '144p',\n",
       "   'source_preference': -1,\n",
       "   'fps': 30,\n",
       "   'audio_channels': None,\n",
       "   'height': 144,\n",
       "   'quality': 0.0,\n",
       "   'has_drm': False,\n",
       "   'tbr': 20.806,\n",
       "   'filesize_approx': 3150460,\n",
       "   'url': 'https://rr4---sn-ci5gup-itqd.googlevideo.com/videoplayback?expire=1752697908&ei=1Ld3aJTFLuiQssUP7dPqmQY&ip=2401%3A4900%3A6577%3Ae2ae%3A71c6%3A163d%3Acbe8%3A6168&id=o-APeA6f1rOGuaDT03bc0Vhl3ZILzeMT79ShT78KhTIwSe&itag=160&aitags=134%2C136%2C137%2C160%2C243&source=youtube&requiressl=yes&xpc=EgVo2aDSNQ%3D%3D&met=1752676308%2C&mh=pt&mm=31%2C29&mn=sn-ci5gup-itqd%2Csn-ci5gup-cvhe7&ms=au%2Crdu&mv=m&mvi=4&pl=44&rms=au%2Cau&initcwndbps=390000&bui=AY1jyLPpUIIkqCDPtlEzQGvwMGiHKu_vMaepNXD9x0YV_nTuWZN4SOWDQa99CqfigxALABVdBa_7Sk9M&vprv=1&svpuc=1&mime=video%2Fmp4&ns=aEIYUejI4IPFIuCa115guwgQ&rqh=1&gir=yes&clen=3150463&dur=1211.366&lmt=1728402432573418&mt=1752675934&fvip=2&keepalive=yes&lmw=1&fexp=51544120&c=TVHTML5&sefc=1&txp=6209224&n=pKFEYJ78sPg9Qg&sparams=expire%2Cei%2Cip%2Cid%2Caitags%2Csource%2Crequiressl%2Cxpc%2Cbui%2Cvprv%2Csvpuc%2Cmime%2Cns%2Crqh%2Cgir%2Cclen%2Cdur%2Clmt&sig=AJfQdSswRQIgYK7wQMEQveQx24BIA4PL92EmlvCY1NonbqqmWBOST44CIQCS1EsFm5CvL3czil8K66GzbcY56_gkvqkSb9Ur019RUg%3D%3D&lsparams=met%2Cmh%2Cmm%2Cmn%2Cms%2Cmv%2Cmvi%2Cpl%2Crms%2Cinitcwndbps&lsig=APaTxxMwRQIhALU7RXyTbLeXFW5vaG_qYmGPYIiMRHBQvsH3i5Ba4TIjAiA3lIcws2nyQMPIJbhYuOMi2g50JnAmB6QWC3HQJw6ouQ%3D%3D',\n",
       "   'width': 256,\n",
       "   'language': None,\n",
       "   'language_preference': -1,\n",
       "   'preference': None,\n",
       "   'ext': 'mp4',\n",
       "   'vcodec': 'avc1.4d400c',\n",
       "   'acodec': 'none',\n",
       "   'dynamic_range': 'SDR',\n",
       "   'container': 'mp4_dash',\n",
       "   'downloader_options': {'http_chunk_size': 10485760},\n",
       "   'protocol': 'https',\n",
       "   'video_ext': 'mp4',\n",
       "   'audio_ext': 'none',\n",
       "   'abr': 0,\n",
       "   'vbr': 20.806,\n",
       "   'resolution': '256x144',\n",
       "   'aspect_ratio': 1.78,\n",
       "   'http_headers': {'User-Agent': 'Mozilla/5.0 (Windows NT 10.0; Win64; x64) AppleWebKit/537.36 (KHTML, like Gecko) Chrome/92.0.4515.159 Safari/537.36',\n",
       "    'Accept': 'text/html,application/xhtml+xml,application/xml;q=0.9,*/*;q=0.8',\n",
       "    'Accept-Language': 'en-us,en;q=0.5',\n",
       "    'Sec-Fetch-Mode': 'navigate'},\n",
       "   'format': '160 - 256x144 (144p)'},\n",
       "  {'format_id': '230',\n",
       "   'format_index': None,\n",
       "   'url': 'https://manifest.googlevideo.com/api/manifest/hls_playlist/expire/1752697909/ei/1bd3aOsvidzctQ-fgIygDQ/ip/2401:4900:6577:e2ae:71c6:163d:cbe8:6168/id/ec72b50a5542b630/itag/230/source/youtube/requiressl/yes/ratebypass/yes/pfa/1/sgovp/clen%3D9394503%3Bdur%3D1211.366%3Bgir%3Dyes%3Bitag%3D134%3Blmt%3D1728402432723647/rqh/1/hls_chunk_host/rr4---sn-ci5gup-itqd.googlevideo.com/xpc/EgVo2aDSNQ%3D%3D/met/1752676309,/mh/pt/mm/31,29/mn/sn-ci5gup-itqd,sn-ci5gup-cvhe7/ms/au,rdu/mv/m/mvi/4/pl/44/rms/au,au/initcwndbps/390000/bui/AY1jyLMDcvUIOC-sdfRlIFkEp3lc-1QFjXbdhp5rQCXiC_xKTpWFS6sfjSRbucPE0pXA1bqKhP_CjXJy/spc/l3OVKQB-oMuYNCleNXf8Omsi9qV8WUe2azh6C2swJz3Q0SJfFV-FSpX4Mc2mxPIY/vprv/1/playlist_type/DVR/dover/13/txp/6209224/mt/1752675934/fvip/2/short_key/1/keepalive/yes/sparams/expire,ei,ip,id,itag,source,requiressl,ratebypass,pfa,sgovp,rqh,xpc,bui,spc,vprv,playlist_type/sig/AJfQdSswRAIgIedcmjb8N-QwTCOtakwE7tvVEIem69yz9sT2_8vuueoCIEovvYSmz_HvpEj_cEXGcTn1MO_QyIFTmXjvJkGb2Cmm/lsparams/hls_chunk_host,met,mh,mm,mn,ms,mv,mvi,pl,rms,initcwndbps/lsig/APaTxxMwRQIhAOVLmkUSPuKTj_5eNxTsDEv7laizEpyufvdYFOFb2oYHAiB30Hi6AiDtyS5lxwtxF6SzkL1ooMXM91qSuTu04UxYfg%3D%3D/playlist/index.m3u8',\n",
       "   'manifest_url': 'https://manifest.googlevideo.com/api/manifest/hls_variant/expire/1752697909/ei/1bd3aOsvidzctQ-fgIygDQ/ip/2401%3A4900%3A6577%3Ae2ae%3A71c6%3A163d%3Acbe8%3A6168/id/ec72b50a5542b630/source/youtube/requiressl/yes/xpc/EgVo2aDSNQ%3D%3D/playback_host/rr4---sn-ci5gup-itqd.googlevideo.com/met/1752676309%2C/mh/pt/mm/31%2C29/mn/sn-ci5gup-itqd%2Csn-ci5gup-cvhe7/ms/au%2Crdu/mv/m/mvi/4/pl/44/rms/au%2Cau/hfr/1/demuxed/1/tts_caps/1/maudio/1/initcwndbps/390000/bui/AY1jyLMDcvUIOC-sdfRlIFkEp3lc-1QFjXbdhp5rQCXiC_xKTpWFS6sfjSRbucPE0pXA1bqKhP_CjXJy/spc/l3OVKQB-oMuYNCleNXf8Omsi9qV8WUe2azh6C2swJz3Q0SJfFV-FSpX4Mc2mxPIY/vprv/1/go/1/rqh/5/mt/1752675934/fvip/2/nvgoi/1/short_key/1/ncsapi/1/keepalive/yes/dover/13/itag/0/playlist_type/DVR/sparams/expire%2Cei%2Cip%2Cid%2Csource%2Crequiressl%2Cxpc%2Chfr%2Cdemuxed%2Ctts_caps%2Cmaudio%2Cbui%2Cspc%2Cvprv%2Cgo%2Crqh%2Citag%2Cplaylist_type/sig/AJfQdSswRQIgSX4ygihBHw9txcEuiDLXbLa-QXFSJZ7qEqbKwH89X1QCIQDv4ETP_qR2qPMSg2ltqcLutsZLUyg0HIqlp55o4LI0eg%3D%3D/lsparams/playback_host%2Cmet%2Cmh%2Cmm%2Cmn%2Cms%2Cmv%2Cmvi%2Cpl%2Crms%2Cinitcwndbps/lsig/APaTxxMwRQIhAOZuAn9VrOPJFgIHaA8w3mYXa4Xm6v1iWDLdqrJrp51YAiBJ9wcLawoaMYxjjbnkYMZMaU8GNROQYrx9JMJJKMX4Hg%3D%3D/file/index.m3u8',\n",
       "   'tbr': 406.062,\n",
       "   'ext': 'mp4',\n",
       "   'fps': 30.0,\n",
       "   'protocol': 'm3u8_native',\n",
       "   'preference': None,\n",
       "   'quality': 6,\n",
       "   'has_drm': False,\n",
       "   'width': 640,\n",
       "   'height': 360,\n",
       "   'vcodec': 'avc1.4D401E',\n",
       "   'acodec': 'none',\n",
       "   'dynamic_range': 'SDR',\n",
       "   'source_preference': -1,\n",
       "   'video_ext': 'mp4',\n",
       "   'audio_ext': 'none',\n",
       "   'abr': 0,\n",
       "   'vbr': 406.062,\n",
       "   'resolution': '640x360',\n",
       "   'aspect_ratio': 1.78,\n",
       "   'http_headers': {'User-Agent': 'Mozilla/5.0 (Windows NT 10.0; Win64; x64) AppleWebKit/537.36 (KHTML, like Gecko) Chrome/92.0.4515.159 Safari/537.36',\n",
       "    'Accept': 'text/html,application/xhtml+xml,application/xml;q=0.9,*/*;q=0.8',\n",
       "    'Accept-Language': 'en-us,en;q=0.5',\n",
       "    'Sec-Fetch-Mode': 'navigate'},\n",
       "   'format': '230 - 640x360'},\n",
       "  {'asr': None,\n",
       "   'filesize': 9394503,\n",
       "   'format_id': '134',\n",
       "   'format_note': '360p',\n",
       "   'source_preference': -1,\n",
       "   'fps': 30,\n",
       "   'audio_channels': None,\n",
       "   'height': 360,\n",
       "   'quality': 6.0,\n",
       "   'has_drm': False,\n",
       "   'tbr': 62.042,\n",
       "   'filesize_approx': 9394446,\n",
       "   'url': 'https://rr4---sn-ci5gup-itqd.googlevideo.com/videoplayback?expire=1752697908&ei=1Ld3aJTFLuiQssUP7dPqmQY&ip=2401%3A4900%3A6577%3Ae2ae%3A71c6%3A163d%3Acbe8%3A6168&id=o-APeA6f1rOGuaDT03bc0Vhl3ZILzeMT79ShT78KhTIwSe&itag=134&aitags=134%2C136%2C137%2C160%2C243&source=youtube&requiressl=yes&xpc=EgVo2aDSNQ%3D%3D&met=1752676308%2C&mh=pt&mm=31%2C29&mn=sn-ci5gup-itqd%2Csn-ci5gup-cvhe7&ms=au%2Crdu&mv=m&mvi=4&pl=44&rms=au%2Cau&initcwndbps=390000&bui=AY1jyLPpUIIkqCDPtlEzQGvwMGiHKu_vMaepNXD9x0YV_nTuWZN4SOWDQa99CqfigxALABVdBa_7Sk9M&vprv=1&svpuc=1&mime=video%2Fmp4&ns=aEIYUejI4IPFIuCa115guwgQ&rqh=1&gir=yes&clen=9394503&dur=1211.366&lmt=1728402432723647&mt=1752675934&fvip=2&keepalive=yes&lmw=1&fexp=51544120&c=TVHTML5&sefc=1&txp=6209224&n=pKFEYJ78sPg9Qg&sparams=expire%2Cei%2Cip%2Cid%2Caitags%2Csource%2Crequiressl%2Cxpc%2Cbui%2Cvprv%2Csvpuc%2Cmime%2Cns%2Crqh%2Cgir%2Cclen%2Cdur%2Clmt&sig=AJfQdSswRgIhAOWy3kBFis9KdGv5fYi1jGVrv0x7Fdkb3ptd1-dZ_leeAiEAu0o3ZZcNB82Zfemfefs7UvfCZ5gYxcFjLb3_PaOOgDs%3D&lsparams=met%2Cmh%2Cmm%2Cmn%2Cms%2Cmv%2Cmvi%2Cpl%2Crms%2Cinitcwndbps&lsig=APaTxxMwRQIhALU7RXyTbLeXFW5vaG_qYmGPYIiMRHBQvsH3i5Ba4TIjAiA3lIcws2nyQMPIJbhYuOMi2g50JnAmB6QWC3HQJw6ouQ%3D%3D',\n",
       "   'width': 640,\n",
       "   'language': None,\n",
       "   'language_preference': -1,\n",
       "   'preference': None,\n",
       "   'ext': 'mp4',\n",
       "   'vcodec': 'avc1.4d401e',\n",
       "   'acodec': 'none',\n",
       "   'dynamic_range': 'SDR',\n",
       "   'container': 'mp4_dash',\n",
       "   'downloader_options': {'http_chunk_size': 10485760},\n",
       "   'protocol': 'https',\n",
       "   'video_ext': 'mp4',\n",
       "   'audio_ext': 'none',\n",
       "   'abr': 0,\n",
       "   'vbr': 62.042,\n",
       "   'resolution': '640x360',\n",
       "   'aspect_ratio': 1.78,\n",
       "   'http_headers': {'User-Agent': 'Mozilla/5.0 (Windows NT 10.0; Win64; x64) AppleWebKit/537.36 (KHTML, like Gecko) Chrome/92.0.4515.159 Safari/537.36',\n",
       "    'Accept': 'text/html,application/xhtml+xml,application/xml;q=0.9,*/*;q=0.8',\n",
       "    'Accept-Language': 'en-us,en;q=0.5',\n",
       "    'Sec-Fetch-Mode': 'navigate'},\n",
       "   'format': '134 - 640x360 (360p)'},\n",
       "  {'asr': 44100,\n",
       "   'filesize': None,\n",
       "   'format_id': '18',\n",
       "   'format_note': '360p',\n",
       "   'source_preference': -1,\n",
       "   'fps': 30,\n",
       "   'audio_channels': 2,\n",
       "   'height': 360,\n",
       "   'quality': 6.0,\n",
       "   'has_drm': False,\n",
       "   'tbr': 190.141,\n",
       "   'filesize_approx': 28792291,\n",
       "   'url': 'https://rr4---sn-ci5gup-itqd.googlevideo.com/videoplayback?expire=1752697908&ei=1Ld3aJTFLuiQssUP7dPqmQY&ip=2401%3A4900%3A6577%3Ae2ae%3A71c6%3A163d%3Acbe8%3A6168&id=o-APeA6f1rOGuaDT03bc0Vhl3ZILzeMT79ShT78KhTIwSe&itag=18&source=youtube&requiressl=yes&xpc=EgVo2aDSNQ%3D%3D&met=1752676308%2C&mh=pt&mm=31%2C29&mn=sn-ci5gup-itqd%2Csn-ci5gup-cvhe7&ms=au%2Crdu&mv=m&mvi=4&pl=44&rms=au%2Cau&initcwndbps=390000&bui=AY1jyLOZyurwjZ9ZYdCxS4Qj4bt0soj1GHeu8HUh7-fv_0HKSqnw1LSSnQrc5kSfoJBHRb8_k9DMv_p8&vprv=1&svpuc=1&mime=video%2Fmp4&ns=1o0O3XRr9-9S12dVXLZVYSkQ&rqh=1&cnr=14&ratebypass=yes&dur=1211.408&lmt=1733976858960974&mt=1752675934&fvip=2&lmw=1&fexp=51544120&c=TVHTML5&sefc=1&txp=6208224&n=MpWxJ9aVTQ5T6A&sparams=expire%2Cei%2Cip%2Cid%2Citag%2Csource%2Crequiressl%2Cxpc%2Cbui%2Cvprv%2Csvpuc%2Cmime%2Cns%2Crqh%2Ccnr%2Cratebypass%2Cdur%2Clmt&sig=AJfQdSswRQIgV6EJwsFsc9eCspGKhQ8cP-Nu5HYw8DC9l9AUIZGbkdYCIQDeG7_n86r_8Yqsi4lRQ0MiurmmJvOiiL_gjp-FZJcjAA%3D%3D&lsparams=met%2Cmh%2Cmm%2Cmn%2Cms%2Cmv%2Cmvi%2Cpl%2Crms%2Cinitcwndbps&lsig=APaTxxMwRQIhALU7RXyTbLeXFW5vaG_qYmGPYIiMRHBQvsH3i5Ba4TIjAiA3lIcws2nyQMPIJbhYuOMi2g50JnAmB6QWC3HQJw6ouQ%3D%3D',\n",
       "   'width': 640,\n",
       "   'language': 'hi',\n",
       "   'language_preference': -1,\n",
       "   'preference': None,\n",
       "   'ext': 'mp4',\n",
       "   'vcodec': 'avc1.42001E',\n",
       "   'acodec': 'mp4a.40.2',\n",
       "   'dynamic_range': 'SDR',\n",
       "   'downloader_options': {'http_chunk_size': 10485760},\n",
       "   'protocol': 'https',\n",
       "   'video_ext': 'mp4',\n",
       "   'audio_ext': 'none',\n",
       "   'vbr': None,\n",
       "   'abr': None,\n",
       "   'resolution': '640x360',\n",
       "   'aspect_ratio': 1.78,\n",
       "   'http_headers': {'User-Agent': 'Mozilla/5.0 (Windows NT 10.0; Win64; x64) AppleWebKit/537.36 (KHTML, like Gecko) Chrome/92.0.4515.159 Safari/537.36',\n",
       "    'Accept': 'text/html,application/xhtml+xml,application/xml;q=0.9,*/*;q=0.8',\n",
       "    'Accept-Language': 'en-us,en;q=0.5',\n",
       "    'Sec-Fetch-Mode': 'navigate'},\n",
       "   'format': '18 - 640x360 (360p)'},\n",
       "  {'format_id': '605',\n",
       "   'format_index': None,\n",
       "   'url': 'https://manifest.googlevideo.com/api/manifest/hls_playlist/expire/1752697909/ei/1bd3aOsvidzctQ-fgIygDQ/ip/2401:4900:6577:e2ae:71c6:163d:cbe8:6168/id/ec72b50a5542b630/itag/605/source/youtube/requiressl/yes/ratebypass/yes/pfa/1/wft/1/sgovp/clen%3D9145472%3Bdur%3D1211.366%3Bgir%3Dyes%3Bitag%3D243%3Blmt%3D1728402437653470/rqh/1/hls_chunk_host/rr4---sn-ci5gup-itqd.googlevideo.com/xpc/EgVo2aDSNQ%3D%3D/met/1752676309,/mh/pt/mm/31,29/mn/sn-ci5gup-itqd,sn-ci5gup-cvhe7/ms/au,rdu/mv/m/mvi/4/pl/44/rms/au,au/initcwndbps/390000/bui/AY1jyLMDcvUIOC-sdfRlIFkEp3lc-1QFjXbdhp5rQCXiC_xKTpWFS6sfjSRbucPE0pXA1bqKhP_CjXJy/spc/l3OVKQB-oMuYNCleNXf8Omsi9qV8WUe2azh6C2swJz3Q0SJfFV-FSpX4Mc2mxPIY/vprv/1/playlist_type/DVR/dover/13/txp/6209224/mt/1752675934/fvip/2/short_key/1/keepalive/yes/sparams/expire,ei,ip,id,itag,source,requiressl,ratebypass,pfa,wft,sgovp,rqh,xpc,bui,spc,vprv,playlist_type/sig/AJfQdSswRQIgBmSCrIt09nautEJXiq3uyyJ4pUVFhAlMc_xqTD0Z05ECIQCnS0Xoc9DZUeu4GJF70ZjU4mxLWXDmwVmUJN1JzHbeRg%3D%3D/lsparams/hls_chunk_host,met,mh,mm,mn,ms,mv,mvi,pl,rms,initcwndbps/lsig/APaTxxMwRQIhAKBn6gm2DjDgMX_rgJvboX3VmnBcesCs8guDmmcbHB1cAiBIo2xAx0giTgNNKTRwALaox4Z07DGHjhC2khXwijQ6-A%3D%3D/playlist/index.m3u8',\n",
       "   'manifest_url': 'https://manifest.googlevideo.com/api/manifest/hls_variant/expire/1752697909/ei/1bd3aOsvidzctQ-fgIygDQ/ip/2401%3A4900%3A6577%3Ae2ae%3A71c6%3A163d%3Acbe8%3A6168/id/ec72b50a5542b630/source/youtube/requiressl/yes/xpc/EgVo2aDSNQ%3D%3D/playback_host/rr4---sn-ci5gup-itqd.googlevideo.com/met/1752676309%2C/mh/pt/mm/31%2C29/mn/sn-ci5gup-itqd%2Csn-ci5gup-cvhe7/ms/au%2Crdu/mv/m/mvi/4/pl/44/rms/au%2Cau/hfr/1/demuxed/1/tts_caps/1/maudio/1/initcwndbps/390000/bui/AY1jyLMDcvUIOC-sdfRlIFkEp3lc-1QFjXbdhp5rQCXiC_xKTpWFS6sfjSRbucPE0pXA1bqKhP_CjXJy/spc/l3OVKQB-oMuYNCleNXf8Omsi9qV8WUe2azh6C2swJz3Q0SJfFV-FSpX4Mc2mxPIY/vprv/1/go/1/rqh/5/mt/1752675934/fvip/2/nvgoi/1/short_key/1/ncsapi/1/keepalive/yes/dover/13/itag/0/playlist_type/DVR/sparams/expire%2Cei%2Cip%2Cid%2Csource%2Crequiressl%2Cxpc%2Chfr%2Cdemuxed%2Ctts_caps%2Cmaudio%2Cbui%2Cspc%2Cvprv%2Cgo%2Crqh%2Citag%2Cplaylist_type/sig/AJfQdSswRQIgSX4ygihBHw9txcEuiDLXbLa-QXFSJZ7qEqbKwH89X1QCIQDv4ETP_qR2qPMSg2ltqcLutsZLUyg0HIqlp55o4LI0eg%3D%3D/lsparams/playback_host%2Cmet%2Cmh%2Cmm%2Cmn%2Cms%2Cmv%2Cmvi%2Cpl%2Crms%2Cinitcwndbps/lsig/APaTxxMwRQIhAOZuAn9VrOPJFgIHaA8w3mYXa4Xm6v1iWDLdqrJrp51YAiBJ9wcLawoaMYxjjbnkYMZMaU8GNROQYrx9JMJJKMX4Hg%3D%3D/file/index.m3u8',\n",
       "   'tbr': 336.701,\n",
       "   'ext': 'mp4',\n",
       "   'fps': 30.0,\n",
       "   'protocol': 'm3u8_native',\n",
       "   'preference': None,\n",
       "   'quality': 6,\n",
       "   'has_drm': False,\n",
       "   'width': 640,\n",
       "   'height': 360,\n",
       "   'vcodec': 'vp09.00.21.08',\n",
       "   'acodec': 'none',\n",
       "   'dynamic_range': 'SDR',\n",
       "   'source_preference': -1,\n",
       "   'video_ext': 'mp4',\n",
       "   'audio_ext': 'none',\n",
       "   'abr': 0,\n",
       "   'vbr': 336.701,\n",
       "   'resolution': '640x360',\n",
       "   'aspect_ratio': 1.78,\n",
       "   'http_headers': {'User-Agent': 'Mozilla/5.0 (Windows NT 10.0; Win64; x64) AppleWebKit/537.36 (KHTML, like Gecko) Chrome/92.0.4515.159 Safari/537.36',\n",
       "    'Accept': 'text/html,application/xhtml+xml,application/xml;q=0.9,*/*;q=0.8',\n",
       "    'Accept-Language': 'en-us,en;q=0.5',\n",
       "    'Sec-Fetch-Mode': 'navigate'},\n",
       "   'format': '605 - 640x360'},\n",
       "  {'asr': None,\n",
       "   'filesize': 9145472,\n",
       "   'format_id': '243',\n",
       "   'format_note': '360p',\n",
       "   'source_preference': -1,\n",
       "   'fps': 30,\n",
       "   'audio_channels': None,\n",
       "   'height': 360,\n",
       "   'quality': 6.0,\n",
       "   'has_drm': False,\n",
       "   'tbr': 60.397,\n",
       "   'filesize_approx': 9145359,\n",
       "   'url': 'https://rr4---sn-ci5gup-itqd.googlevideo.com/videoplayback?expire=1752697908&ei=1Ld3aJTFLuiQssUP7dPqmQY&ip=2401%3A4900%3A6577%3Ae2ae%3A71c6%3A163d%3Acbe8%3A6168&id=o-APeA6f1rOGuaDT03bc0Vhl3ZILzeMT79ShT78KhTIwSe&itag=243&aitags=134%2C136%2C137%2C160%2C243&source=youtube&requiressl=yes&xpc=EgVo2aDSNQ%3D%3D&met=1752676308%2C&mh=pt&mm=31%2C29&mn=sn-ci5gup-itqd%2Csn-ci5gup-cvhe7&ms=au%2Crdu&mv=m&mvi=4&pl=44&rms=au%2Cau&initcwndbps=390000&bui=AY1jyLPpUIIkqCDPtlEzQGvwMGiHKu_vMaepNXD9x0YV_nTuWZN4SOWDQa99CqfigxALABVdBa_7Sk9M&vprv=1&svpuc=1&mime=video%2Fwebm&ns=aEIYUejI4IPFIuCa115guwgQ&rqh=1&gir=yes&clen=9145472&dur=1211.366&lmt=1728402437653470&mt=1752675934&fvip=2&keepalive=yes&lmw=1&fexp=51544120&c=TVHTML5&sefc=1&txp=6209224&n=pKFEYJ78sPg9Qg&sparams=expire%2Cei%2Cip%2Cid%2Caitags%2Csource%2Crequiressl%2Cxpc%2Cbui%2Cvprv%2Csvpuc%2Cmime%2Cns%2Crqh%2Cgir%2Cclen%2Cdur%2Clmt&sig=AJfQdSswRQIhAPDihTDb30lX_duVG6ZbplXcE_UzbgBQyG-TXBmU1cYgAiBwfX5UXGXa8g8LxSKKYApOjKCQ4e458131pk92QpTTCA%3D%3D&lsparams=met%2Cmh%2Cmm%2Cmn%2Cms%2Cmv%2Cmvi%2Cpl%2Crms%2Cinitcwndbps&lsig=APaTxxMwRQIhALU7RXyTbLeXFW5vaG_qYmGPYIiMRHBQvsH3i5Ba4TIjAiA3lIcws2nyQMPIJbhYuOMi2g50JnAmB6QWC3HQJw6ouQ%3D%3D',\n",
       "   'width': 640,\n",
       "   'language': None,\n",
       "   'language_preference': -1,\n",
       "   'preference': None,\n",
       "   'ext': 'webm',\n",
       "   'vcodec': 'vp9',\n",
       "   'acodec': 'none',\n",
       "   'dynamic_range': 'SDR',\n",
       "   'container': 'webm_dash',\n",
       "   'downloader_options': {'http_chunk_size': 10485760},\n",
       "   'protocol': 'https',\n",
       "   'video_ext': 'webm',\n",
       "   'audio_ext': 'none',\n",
       "   'abr': 0,\n",
       "   'vbr': 60.397,\n",
       "   'resolution': '640x360',\n",
       "   'aspect_ratio': 1.78,\n",
       "   'http_headers': {'User-Agent': 'Mozilla/5.0 (Windows NT 10.0; Win64; x64) AppleWebKit/537.36 (KHTML, like Gecko) Chrome/92.0.4515.159 Safari/537.36',\n",
       "    'Accept': 'text/html,application/xhtml+xml,application/xml;q=0.9,*/*;q=0.8',\n",
       "    'Accept-Language': 'en-us,en;q=0.5',\n",
       "    'Sec-Fetch-Mode': 'navigate'},\n",
       "   'format': '243 - 640x360 (360p)'},\n",
       "  {'format_id': '232',\n",
       "   'format_index': None,\n",
       "   'url': 'https://manifest.googlevideo.com/api/manifest/hls_playlist/expire/1752697909/ei/1bd3aOsvidzctQ-fgIygDQ/ip/2401:4900:6577:e2ae:71c6:163d:cbe8:6168/id/ec72b50a5542b630/itag/232/source/youtube/requiressl/yes/ratebypass/yes/pfa/1/sgovp/clen%3D23165245%3Bdur%3D1211.366%3Bgir%3Dyes%3Bitag%3D136%3Blmt%3D1728402432737295/rqh/1/hls_chunk_host/rr4---sn-ci5gup-itqd.googlevideo.com/xpc/EgVo2aDSNQ%3D%3D/met/1752676309,/mh/pt/mm/31,29/mn/sn-ci5gup-itqd,sn-ci5gup-cvhe7/ms/au,rdu/mv/m/mvi/4/pl/44/rms/au,au/initcwndbps/390000/bui/AY1jyLMDcvUIOC-sdfRlIFkEp3lc-1QFjXbdhp5rQCXiC_xKTpWFS6sfjSRbucPE0pXA1bqKhP_CjXJy/spc/l3OVKQB-oMuYNCleNXf8Omsi9qV8WUe2azh6C2swJz3Q0SJfFV-FSpX4Mc2mxPIY/vprv/1/playlist_type/DVR/dover/13/txp/6209224/mt/1752675934/fvip/2/short_key/1/keepalive/yes/sparams/expire,ei,ip,id,itag,source,requiressl,ratebypass,pfa,sgovp,rqh,xpc,bui,spc,vprv,playlist_type/sig/AJfQdSswRgIhAOKfV9PktIKv-WuMXyiwSDEw8P-YOV4pfv8lRgbFv_gdAiEA2jan7nafrnzXfCnsZ5DNeB9I20DlsjBcfeb40RZ5p94%3D/lsparams/hls_chunk_host,met,mh,mm,mn,ms,mv,mvi,pl,rms,initcwndbps/lsig/APaTxxMwRAIgS_kdX7LrhHG7n_me0l_JJbLdgHg_Ya8_5wSElM-Ff0gCICOt3VNrebO6zxtE9GMQ0j9BmxNXmzXt5-D9OTbRt8g7/playlist/index.m3u8',\n",
       "   'manifest_url': 'https://manifest.googlevideo.com/api/manifest/hls_variant/expire/1752697909/ei/1bd3aOsvidzctQ-fgIygDQ/ip/2401%3A4900%3A6577%3Ae2ae%3A71c6%3A163d%3Acbe8%3A6168/id/ec72b50a5542b630/source/youtube/requiressl/yes/xpc/EgVo2aDSNQ%3D%3D/playback_host/rr4---sn-ci5gup-itqd.googlevideo.com/met/1752676309%2C/mh/pt/mm/31%2C29/mn/sn-ci5gup-itqd%2Csn-ci5gup-cvhe7/ms/au%2Crdu/mv/m/mvi/4/pl/44/rms/au%2Cau/hfr/1/demuxed/1/tts_caps/1/maudio/1/initcwndbps/390000/bui/AY1jyLMDcvUIOC-sdfRlIFkEp3lc-1QFjXbdhp5rQCXiC_xKTpWFS6sfjSRbucPE0pXA1bqKhP_CjXJy/spc/l3OVKQB-oMuYNCleNXf8Omsi9qV8WUe2azh6C2swJz3Q0SJfFV-FSpX4Mc2mxPIY/vprv/1/go/1/rqh/5/mt/1752675934/fvip/2/nvgoi/1/short_key/1/ncsapi/1/keepalive/yes/dover/13/itag/0/playlist_type/DVR/sparams/expire%2Cei%2Cip%2Cid%2Csource%2Crequiressl%2Cxpc%2Chfr%2Cdemuxed%2Ctts_caps%2Cmaudio%2Cbui%2Cspc%2Cvprv%2Cgo%2Crqh%2Citag%2Cplaylist_type/sig/AJfQdSswRQIgSX4ygihBHw9txcEuiDLXbLa-QXFSJZ7qEqbKwH89X1QCIQDv4ETP_qR2qPMSg2ltqcLutsZLUyg0HIqlp55o4LI0eg%3D%3D/lsparams/playback_host%2Cmet%2Cmh%2Cmm%2Cmn%2Cms%2Cmv%2Cmvi%2Cpl%2Crms%2Cinitcwndbps/lsig/APaTxxMwRQIhAOZuAn9VrOPJFgIHaA8w3mYXa4Xm6v1iWDLdqrJrp51YAiBJ9wcLawoaMYxjjbnkYMZMaU8GNROQYrx9JMJJKMX4Hg%3D%3D/file/index.m3u8',\n",
       "   'tbr': 1088.906,\n",
       "   'ext': 'mp4',\n",
       "   'fps': 30.0,\n",
       "   'protocol': 'm3u8_native',\n",
       "   'preference': None,\n",
       "   'quality': 8,\n",
       "   'has_drm': False,\n",
       "   'width': 1280,\n",
       "   'height': 720,\n",
       "   'vcodec': 'avc1.64001F',\n",
       "   'acodec': 'none',\n",
       "   'dynamic_range': 'SDR',\n",
       "   'source_preference': -1,\n",
       "   'video_ext': 'mp4',\n",
       "   'audio_ext': 'none',\n",
       "   'abr': 0,\n",
       "   'vbr': 1088.906,\n",
       "   'resolution': '1280x720',\n",
       "   'aspect_ratio': 1.78,\n",
       "   'http_headers': {'User-Agent': 'Mozilla/5.0 (Windows NT 10.0; Win64; x64) AppleWebKit/537.36 (KHTML, like Gecko) Chrome/92.0.4515.159 Safari/537.36',\n",
       "    'Accept': 'text/html,application/xhtml+xml,application/xml;q=0.9,*/*;q=0.8',\n",
       "    'Accept-Language': 'en-us,en;q=0.5',\n",
       "    'Sec-Fetch-Mode': 'navigate'},\n",
       "   'format': '232 - 1280x720'},\n",
       "  {'asr': None,\n",
       "   'filesize': 23165245,\n",
       "   'format_id': '136',\n",
       "   'format_note': '720p',\n",
       "   'source_preference': -1,\n",
       "   'fps': 30,\n",
       "   'audio_channels': None,\n",
       "   'height': 720,\n",
       "   'quality': 8.0,\n",
       "   'has_drm': False,\n",
       "   'tbr': 152.985,\n",
       "   'filesize_approx': 23165103,\n",
       "   'url': 'https://rr4---sn-ci5gup-itqd.googlevideo.com/videoplayback?expire=1752697908&ei=1Ld3aJTFLuiQssUP7dPqmQY&ip=2401%3A4900%3A6577%3Ae2ae%3A71c6%3A163d%3Acbe8%3A6168&id=o-APeA6f1rOGuaDT03bc0Vhl3ZILzeMT79ShT78KhTIwSe&itag=136&aitags=134%2C136%2C137%2C160%2C243&source=youtube&requiressl=yes&xpc=EgVo2aDSNQ%3D%3D&met=1752676308%2C&mh=pt&mm=31%2C29&mn=sn-ci5gup-itqd%2Csn-ci5gup-cvhe7&ms=au%2Crdu&mv=m&mvi=4&pl=44&rms=au%2Cau&initcwndbps=390000&bui=AY1jyLPpUIIkqCDPtlEzQGvwMGiHKu_vMaepNXD9x0YV_nTuWZN4SOWDQa99CqfigxALABVdBa_7Sk9M&vprv=1&svpuc=1&mime=video%2Fmp4&ns=aEIYUejI4IPFIuCa115guwgQ&rqh=1&gir=yes&clen=23165245&dur=1211.366&lmt=1728402432737295&mt=1752675934&fvip=2&keepalive=yes&lmw=1&fexp=51544120&c=TVHTML5&sefc=1&txp=6209224&n=pKFEYJ78sPg9Qg&sparams=expire%2Cei%2Cip%2Cid%2Caitags%2Csource%2Crequiressl%2Cxpc%2Cbui%2Cvprv%2Csvpuc%2Cmime%2Cns%2Crqh%2Cgir%2Cclen%2Cdur%2Clmt&sig=AJfQdSswRAIgM8LeIkN22_rGpWYCtFKbh29stX6EqbPjvZ3AI6ciEpsCIG1Db7qwlJ_NrRb0IcKPKiBZYksGLir-si27awEJLIjY&lsparams=met%2Cmh%2Cmm%2Cmn%2Cms%2Cmv%2Cmvi%2Cpl%2Crms%2Cinitcwndbps&lsig=APaTxxMwRQIhALU7RXyTbLeXFW5vaG_qYmGPYIiMRHBQvsH3i5Ba4TIjAiA3lIcws2nyQMPIJbhYuOMi2g50JnAmB6QWC3HQJw6ouQ%3D%3D',\n",
       "   'width': 1280,\n",
       "   'language': None,\n",
       "   'language_preference': -1,\n",
       "   'preference': None,\n",
       "   'ext': 'mp4',\n",
       "   'vcodec': 'avc1.64001f',\n",
       "   'acodec': 'none',\n",
       "   'dynamic_range': 'SDR',\n",
       "   'container': 'mp4_dash',\n",
       "   'downloader_options': {'http_chunk_size': 10485760},\n",
       "   'protocol': 'https',\n",
       "   'video_ext': 'mp4',\n",
       "   'audio_ext': 'none',\n",
       "   'abr': 0,\n",
       "   'vbr': 152.985,\n",
       "   'resolution': '1280x720',\n",
       "   'aspect_ratio': 1.78,\n",
       "   'http_headers': {'User-Agent': 'Mozilla/5.0 (Windows NT 10.0; Win64; x64) AppleWebKit/537.36 (KHTML, like Gecko) Chrome/92.0.4515.159 Safari/537.36',\n",
       "    'Accept': 'text/html,application/xhtml+xml,application/xml;q=0.9,*/*;q=0.8',\n",
       "    'Accept-Language': 'en-us,en;q=0.5',\n",
       "    'Sec-Fetch-Mode': 'navigate'},\n",
       "   'format': '136 - 1280x720 (720p)'},\n",
       "  {'format_id': '270',\n",
       "   'format_index': None,\n",
       "   'url': 'https://manifest.googlevideo.com/api/manifest/hls_playlist/expire/1752697909/ei/1bd3aOsvidzctQ-fgIygDQ/ip/2401:4900:6577:e2ae:71c6:163d:cbe8:6168/id/ec72b50a5542b630/itag/270/source/youtube/requiressl/yes/ratebypass/yes/pfa/1/sgovp/clen%3D39143253%3Bdur%3D1211.366%3Bgir%3Dyes%3Bitag%3D137%3Blmt%3D1728402433361948/rqh/1/hls_chunk_host/rr4---sn-ci5gup-itqd.googlevideo.com/xpc/EgVo2aDSNQ%3D%3D/met/1752676309,/mh/pt/mm/31,29/mn/sn-ci5gup-itqd,sn-ci5gup-cvhe7/ms/au,rdu/mv/m/mvi/4/pl/44/rms/au,au/initcwndbps/390000/bui/AY1jyLMDcvUIOC-sdfRlIFkEp3lc-1QFjXbdhp5rQCXiC_xKTpWFS6sfjSRbucPE0pXA1bqKhP_CjXJy/spc/l3OVKQB-oMuYNCleNXf8Omsi9qV8WUe2azh6C2swJz3Q0SJfFV-FSpX4Mc2mxPIY/vprv/1/playlist_type/DVR/dover/13/txp/6209224/mt/1752675934/fvip/2/short_key/1/keepalive/yes/sparams/expire,ei,ip,id,itag,source,requiressl,ratebypass,pfa,sgovp,rqh,xpc,bui,spc,vprv,playlist_type/sig/AJfQdSswRQIhAJ59NYTEbuxl6o8e5IaZenawNMRq3Dw69D_xv1y4nV2UAiAW-Ux7jp4hUqJOeBYHX-tf9sJn6S1traR00dBxX79ieQ%3D%3D/lsparams/hls_chunk_host,met,mh,mm,mn,ms,mv,mvi,pl,rms,initcwndbps/lsig/APaTxxMwRAIgbqHpwVnksEwndliWLGyn776B3FTNNwv_vvyDEJtqbL8CIAJpHPkA2tOs4Fz6w0r4UA3rNKUfOtiFccA9sWu_ylLL/playlist/index.m3u8',\n",
       "   'manifest_url': 'https://manifest.googlevideo.com/api/manifest/hls_variant/expire/1752697909/ei/1bd3aOsvidzctQ-fgIygDQ/ip/2401%3A4900%3A6577%3Ae2ae%3A71c6%3A163d%3Acbe8%3A6168/id/ec72b50a5542b630/source/youtube/requiressl/yes/xpc/EgVo2aDSNQ%3D%3D/playback_host/rr4---sn-ci5gup-itqd.googlevideo.com/met/1752676309%2C/mh/pt/mm/31%2C29/mn/sn-ci5gup-itqd%2Csn-ci5gup-cvhe7/ms/au%2Crdu/mv/m/mvi/4/pl/44/rms/au%2Cau/hfr/1/demuxed/1/tts_caps/1/maudio/1/initcwndbps/390000/bui/AY1jyLMDcvUIOC-sdfRlIFkEp3lc-1QFjXbdhp5rQCXiC_xKTpWFS6sfjSRbucPE0pXA1bqKhP_CjXJy/spc/l3OVKQB-oMuYNCleNXf8Omsi9qV8WUe2azh6C2swJz3Q0SJfFV-FSpX4Mc2mxPIY/vprv/1/go/1/rqh/5/mt/1752675934/fvip/2/nvgoi/1/short_key/1/ncsapi/1/keepalive/yes/dover/13/itag/0/playlist_type/DVR/sparams/expire%2Cei%2Cip%2Cid%2Csource%2Crequiressl%2Cxpc%2Chfr%2Cdemuxed%2Ctts_caps%2Cmaudio%2Cbui%2Cspc%2Cvprv%2Cgo%2Crqh%2Citag%2Cplaylist_type/sig/AJfQdSswRQIgSX4ygihBHw9txcEuiDLXbLa-QXFSJZ7qEqbKwH89X1QCIQDv4ETP_qR2qPMSg2ltqcLutsZLUyg0HIqlp55o4LI0eg%3D%3D/lsparams/playback_host%2Cmet%2Cmh%2Cmm%2Cmn%2Cms%2Cmv%2Cmvi%2Cpl%2Crms%2Cinitcwndbps/lsig/APaTxxMwRQIhAOZuAn9VrOPJFgIHaA8w3mYXa4Xm6v1iWDLdqrJrp51YAiBJ9wcLawoaMYxjjbnkYMZMaU8GNROQYrx9JMJJKMX4Hg%3D%3D/file/index.m3u8',\n",
       "   'tbr': 1979.228,\n",
       "   'ext': 'mp4',\n",
       "   'fps': 30.0,\n",
       "   'protocol': 'm3u8_native',\n",
       "   'preference': None,\n",
       "   'quality': 9,\n",
       "   'has_drm': False,\n",
       "   'width': 1920,\n",
       "   'height': 1080,\n",
       "   'vcodec': 'avc1.640028',\n",
       "   'acodec': 'none',\n",
       "   'dynamic_range': 'SDR',\n",
       "   'source_preference': -1,\n",
       "   'video_ext': 'mp4',\n",
       "   'audio_ext': 'none',\n",
       "   'abr': 0,\n",
       "   'vbr': 1979.228,\n",
       "   'resolution': '1920x1080',\n",
       "   'aspect_ratio': 1.78,\n",
       "   'http_headers': {'User-Agent': 'Mozilla/5.0 (Windows NT 10.0; Win64; x64) AppleWebKit/537.36 (KHTML, like Gecko) Chrome/92.0.4515.159 Safari/537.36',\n",
       "    'Accept': 'text/html,application/xhtml+xml,application/xml;q=0.9,*/*;q=0.8',\n",
       "    'Accept-Language': 'en-us,en;q=0.5',\n",
       "    'Sec-Fetch-Mode': 'navigate'},\n",
       "   'format': '270 - 1920x1080'},\n",
       "  {'asr': None,\n",
       "   'filesize': 39143253,\n",
       "   'format_id': '137',\n",
       "   'format_note': '1080p',\n",
       "   'source_preference': -1,\n",
       "   'fps': 30,\n",
       "   'audio_channels': None,\n",
       "   'height': 1080,\n",
       "   'quality': 9.0,\n",
       "   'has_drm': False,\n",
       "   'tbr': 258.506,\n",
       "   'filesize_approx': 39143172,\n",
       "   'url': 'https://rr4---sn-ci5gup-itqd.googlevideo.com/videoplayback?expire=1752697908&ei=1Ld3aJTFLuiQssUP7dPqmQY&ip=2401%3A4900%3A6577%3Ae2ae%3A71c6%3A163d%3Acbe8%3A6168&id=o-APeA6f1rOGuaDT03bc0Vhl3ZILzeMT79ShT78KhTIwSe&itag=137&aitags=134%2C136%2C137%2C160%2C243&source=youtube&requiressl=yes&xpc=EgVo2aDSNQ%3D%3D&met=1752676308%2C&mh=pt&mm=31%2C29&mn=sn-ci5gup-itqd%2Csn-ci5gup-cvhe7&ms=au%2Crdu&mv=m&mvi=4&pl=44&rms=au%2Cau&initcwndbps=390000&bui=AY1jyLPpUIIkqCDPtlEzQGvwMGiHKu_vMaepNXD9x0YV_nTuWZN4SOWDQa99CqfigxALABVdBa_7Sk9M&vprv=1&svpuc=1&mime=video%2Fmp4&ns=aEIYUejI4IPFIuCa115guwgQ&rqh=1&gir=yes&clen=39143253&dur=1211.366&lmt=1728402433361948&mt=1752675934&fvip=2&keepalive=yes&lmw=1&fexp=51544120&c=TVHTML5&sefc=1&txp=6209224&n=pKFEYJ78sPg9Qg&sparams=expire%2Cei%2Cip%2Cid%2Caitags%2Csource%2Crequiressl%2Cxpc%2Cbui%2Cvprv%2Csvpuc%2Cmime%2Cns%2Crqh%2Cgir%2Cclen%2Cdur%2Clmt&sig=AJfQdSswRgIhAIwxyY6p2xqn2qsqs8oOzIaEN9CJOplawK2O5X14nfvBAiEAz25NPJN8SJhKsElJezDQ918QBw9ul-TC6T-ABNFBtPI%3D&lsparams=met%2Cmh%2Cmm%2Cmn%2Cms%2Cmv%2Cmvi%2Cpl%2Crms%2Cinitcwndbps&lsig=APaTxxMwRQIhALU7RXyTbLeXFW5vaG_qYmGPYIiMRHBQvsH3i5Ba4TIjAiA3lIcws2nyQMPIJbhYuOMi2g50JnAmB6QWC3HQJw6ouQ%3D%3D',\n",
       "   'width': 1920,\n",
       "   'language': None,\n",
       "   'language_preference': -1,\n",
       "   'preference': None,\n",
       "   'ext': 'mp4',\n",
       "   'vcodec': 'avc1.640028',\n",
       "   'acodec': 'none',\n",
       "   'dynamic_range': 'SDR',\n",
       "   'container': 'mp4_dash',\n",
       "   'downloader_options': {'http_chunk_size': 10485760},\n",
       "   'protocol': 'https',\n",
       "   'video_ext': 'mp4',\n",
       "   'audio_ext': 'none',\n",
       "   'abr': 0,\n",
       "   'vbr': 258.506,\n",
       "   'resolution': '1920x1080',\n",
       "   'aspect_ratio': 1.78,\n",
       "   'http_headers': {'User-Agent': 'Mozilla/5.0 (Windows NT 10.0; Win64; x64) AppleWebKit/537.36 (KHTML, like Gecko) Chrome/92.0.4515.159 Safari/537.36',\n",
       "    'Accept': 'text/html,application/xhtml+xml,application/xml;q=0.9,*/*;q=0.8',\n",
       "    'Accept-Language': 'en-us,en;q=0.5',\n",
       "    'Sec-Fetch-Mode': 'navigate'},\n",
       "   'format': '137 - 1920x1080 (1080p)'}])"
      ]
     },
     "execution_count": 30,
     "metadata": {},
     "output_type": "execute_result"
    }
   ],
   "source": [
    "list_formats('https://www.youtube.com/watch?v=7HK1ClVCtjA')"
   ]
  },
  {
   "cell_type": "code",
   "execution_count": 28,
   "id": "f8e3c14b",
   "metadata": {},
   "outputs": [
    {
     "data": {
      "text/plain": [
       "[{'format_id': 'sb3',\n",
       "  'format_note': 'storyboard',\n",
       "  'ext': 'mhtml',\n",
       "  'protocol': 'mhtml',\n",
       "  'acodec': 'none',\n",
       "  'vcodec': 'none',\n",
       "  'url': 'https://i.ytimg.com/sb/7HK1ClVCtjA/storyboard3_L0/default.jpg?sqp=-oaymwENSDfyq4qpAwVwAcABBqLzl_8DBgi-qJW4Bg==&sigh=rs$AOn4CLASjy0CVAF_E4a6yS1PWQ8FxW2tgQ',\n",
       "  'width': 48,\n",
       "  'height': 27,\n",
       "  'fps': 0.08257638315441784,\n",
       "  'rows': 10,\n",
       "  'columns': 10,\n",
       "  'fragments': [{'url': 'https://i.ytimg.com/sb/7HK1ClVCtjA/storyboard3_L0/default.jpg?sqp=-oaymwENSDfyq4qpAwVwAcABBqLzl_8DBgi-qJW4Bg==&sigh=rs$AOn4CLASjy0CVAF_E4a6yS1PWQ8FxW2tgQ',\n",
       "    'duration': 1211.0}],\n",
       "  'audio_ext': 'none',\n",
       "  'video_ext': 'none',\n",
       "  'vbr': 0,\n",
       "  'abr': 0,\n",
       "  'tbr': None,\n",
       "  'resolution': '48x27',\n",
       "  'aspect_ratio': 1.78,\n",
       "  'filesize_approx': None,\n",
       "  'http_headers': {'User-Agent': 'Mozilla/5.0 (Windows NT 10.0; Win64; x64) AppleWebKit/537.36 (KHTML, like Gecko) Chrome/92.0.4515.159 Safari/537.36',\n",
       "   'Accept': 'text/html,application/xhtml+xml,application/xml;q=0.9,*/*;q=0.8',\n",
       "   'Accept-Language': 'en-us,en;q=0.5',\n",
       "   'Sec-Fetch-Mode': 'navigate'},\n",
       "  'format': 'sb3 - 48x27 (storyboard)'},\n",
       " {'format_id': 'sb2',\n",
       "  'format_note': 'storyboard',\n",
       "  'ext': 'mhtml',\n",
       "  'protocol': 'mhtml',\n",
       "  'acodec': 'none',\n",
       "  'vcodec': 'none',\n",
       "  'url': 'https://i.ytimg.com/sb/7HK1ClVCtjA/storyboard3_L1/M$M.jpg?sqp=-oaymwENSDfyq4qpAwVwAcABBqLzl_8DBgi-qJW4Bg==&sigh=rs$AOn4CLBgtURB6m3ztws4Gt5l1laJ4zBcaw',\n",
       "  'width': 80,\n",
       "  'height': 45,\n",
       "  'fps': 0.10156895127993394,\n",
       "  'rows': 10,\n",
       "  'columns': 10,\n",
       "  'fragments': [{'url': 'https://i.ytimg.com/sb/7HK1ClVCtjA/storyboard3_L1/M0.jpg?sqp=-oaymwENSDfyq4qpAwVwAcABBqLzl_8DBgi-qJW4Bg==&sigh=rs$AOn4CLBgtURB6m3ztws4Gt5l1laJ4zBcaw',\n",
       "    'duration': 984.5528455284554},\n",
       "   {'url': 'https://i.ytimg.com/sb/7HK1ClVCtjA/storyboard3_L1/M1.jpg?sqp=-oaymwENSDfyq4qpAwVwAcABBqLzl_8DBgi-qJW4Bg==&sigh=rs$AOn4CLBgtURB6m3ztws4Gt5l1laJ4zBcaw',\n",
       "    'duration': 226.44715447154465}],\n",
       "  'audio_ext': 'none',\n",
       "  'video_ext': 'none',\n",
       "  'vbr': 0,\n",
       "  'abr': 0,\n",
       "  'tbr': None,\n",
       "  'resolution': '80x45',\n",
       "  'aspect_ratio': 1.78,\n",
       "  'filesize_approx': None,\n",
       "  'http_headers': {'User-Agent': 'Mozilla/5.0 (Windows NT 10.0; Win64; x64) AppleWebKit/537.36 (KHTML, like Gecko) Chrome/92.0.4515.159 Safari/537.36',\n",
       "   'Accept': 'text/html,application/xhtml+xml,application/xml;q=0.9,*/*;q=0.8',\n",
       "   'Accept-Language': 'en-us,en;q=0.5',\n",
       "   'Sec-Fetch-Mode': 'navigate'},\n",
       "  'format': 'sb2 - 80x45 (storyboard)'},\n",
       " {'format_id': 'sb1',\n",
       "  'format_note': 'storyboard',\n",
       "  'ext': 'mhtml',\n",
       "  'protocol': 'mhtml',\n",
       "  'acodec': 'none',\n",
       "  'vcodec': 'none',\n",
       "  'url': 'https://i.ytimg.com/sb/7HK1ClVCtjA/storyboard3_L2/M$M.jpg?sqp=-oaymwENSDfyq4qpAwVwAcABBqLzl_8DBgi-qJW4Bg==&sigh=rs$AOn4CLB7hBzU5PyG9ToqPgEJeI31wwjH5Q',\n",
       "  'width': 160,\n",
       "  'height': 90,\n",
       "  'fps': 0.10156895127993394,\n",
       "  'rows': 5,\n",
       "  'columns': 5,\n",
       "  'fragments': [{'url': 'https://i.ytimg.com/sb/7HK1ClVCtjA/storyboard3_L2/M0.jpg?sqp=-oaymwENSDfyq4qpAwVwAcABBqLzl_8DBgi-qJW4Bg==&sigh=rs$AOn4CLB7hBzU5PyG9ToqPgEJeI31wwjH5Q',\n",
       "    'duration': 246.13821138211384},\n",
       "   {'url': 'https://i.ytimg.com/sb/7HK1ClVCtjA/storyboard3_L2/M1.jpg?sqp=-oaymwENSDfyq4qpAwVwAcABBqLzl_8DBgi-qJW4Bg==&sigh=rs$AOn4CLB7hBzU5PyG9ToqPgEJeI31wwjH5Q',\n",
       "    'duration': 246.13821138211384},\n",
       "   {'url': 'https://i.ytimg.com/sb/7HK1ClVCtjA/storyboard3_L2/M2.jpg?sqp=-oaymwENSDfyq4qpAwVwAcABBqLzl_8DBgi-qJW4Bg==&sigh=rs$AOn4CLB7hBzU5PyG9ToqPgEJeI31wwjH5Q',\n",
       "    'duration': 246.13821138211384},\n",
       "   {'url': 'https://i.ytimg.com/sb/7HK1ClVCtjA/storyboard3_L2/M3.jpg?sqp=-oaymwENSDfyq4qpAwVwAcABBqLzl_8DBgi-qJW4Bg==&sigh=rs$AOn4CLB7hBzU5PyG9ToqPgEJeI31wwjH5Q',\n",
       "    'duration': 246.13821138211384},\n",
       "   {'url': 'https://i.ytimg.com/sb/7HK1ClVCtjA/storyboard3_L2/M4.jpg?sqp=-oaymwENSDfyq4qpAwVwAcABBqLzl_8DBgi-qJW4Bg==&sigh=rs$AOn4CLB7hBzU5PyG9ToqPgEJeI31wwjH5Q',\n",
       "    'duration': 226.44715447154465}],\n",
       "  'audio_ext': 'none',\n",
       "  'video_ext': 'none',\n",
       "  'vbr': 0,\n",
       "  'abr': 0,\n",
       "  'tbr': None,\n",
       "  'resolution': '160x90',\n",
       "  'aspect_ratio': 1.78,\n",
       "  'filesize_approx': None,\n",
       "  'http_headers': {'User-Agent': 'Mozilla/5.0 (Windows NT 10.0; Win64; x64) AppleWebKit/537.36 (KHTML, like Gecko) Chrome/92.0.4515.159 Safari/537.36',\n",
       "   'Accept': 'text/html,application/xhtml+xml,application/xml;q=0.9,*/*;q=0.8',\n",
       "   'Accept-Language': 'en-us,en;q=0.5',\n",
       "   'Sec-Fetch-Mode': 'navigate'},\n",
       "  'format': 'sb1 - 160x90 (storyboard)'},\n",
       " {'format_id': 'sb0',\n",
       "  'format_note': 'storyboard',\n",
       "  'ext': 'mhtml',\n",
       "  'protocol': 'mhtml',\n",
       "  'acodec': 'none',\n",
       "  'vcodec': 'none',\n",
       "  'url': 'https://i.ytimg.com/sb/7HK1ClVCtjA/storyboard3_L3/M$M.jpg?sqp=-oaymwENSDfyq4qpAwVwAcABBqLzl_8DBgi-qJW4Bg==&sigh=rs$AOn4CLChyYAN9yUuPV77afN8ANVL4QhFmA',\n",
       "  'width': 320,\n",
       "  'height': 180,\n",
       "  'fps': 0.10156895127993394,\n",
       "  'rows': 3,\n",
       "  'columns': 3,\n",
       "  'fragments': [{'url': 'https://i.ytimg.com/sb/7HK1ClVCtjA/storyboard3_L3/M0.jpg?sqp=-oaymwENSDfyq4qpAwVwAcABBqLzl_8DBgi-qJW4Bg==&sigh=rs$AOn4CLChyYAN9yUuPV77afN8ANVL4QhFmA',\n",
       "    'duration': 88.60975609756098},\n",
       "   {'url': 'https://i.ytimg.com/sb/7HK1ClVCtjA/storyboard3_L3/M1.jpg?sqp=-oaymwENSDfyq4qpAwVwAcABBqLzl_8DBgi-qJW4Bg==&sigh=rs$AOn4CLChyYAN9yUuPV77afN8ANVL4QhFmA',\n",
       "    'duration': 88.60975609756098},\n",
       "   {'url': 'https://i.ytimg.com/sb/7HK1ClVCtjA/storyboard3_L3/M2.jpg?sqp=-oaymwENSDfyq4qpAwVwAcABBqLzl_8DBgi-qJW4Bg==&sigh=rs$AOn4CLChyYAN9yUuPV77afN8ANVL4QhFmA',\n",
       "    'duration': 88.60975609756098},\n",
       "   {'url': 'https://i.ytimg.com/sb/7HK1ClVCtjA/storyboard3_L3/M3.jpg?sqp=-oaymwENSDfyq4qpAwVwAcABBqLzl_8DBgi-qJW4Bg==&sigh=rs$AOn4CLChyYAN9yUuPV77afN8ANVL4QhFmA',\n",
       "    'duration': 88.60975609756098},\n",
       "   {'url': 'https://i.ytimg.com/sb/7HK1ClVCtjA/storyboard3_L3/M4.jpg?sqp=-oaymwENSDfyq4qpAwVwAcABBqLzl_8DBgi-qJW4Bg==&sigh=rs$AOn4CLChyYAN9yUuPV77afN8ANVL4QhFmA',\n",
       "    'duration': 88.60975609756098},\n",
       "   {'url': 'https://i.ytimg.com/sb/7HK1ClVCtjA/storyboard3_L3/M5.jpg?sqp=-oaymwENSDfyq4qpAwVwAcABBqLzl_8DBgi-qJW4Bg==&sigh=rs$AOn4CLChyYAN9yUuPV77afN8ANVL4QhFmA',\n",
       "    'duration': 88.60975609756098},\n",
       "   {'url': 'https://i.ytimg.com/sb/7HK1ClVCtjA/storyboard3_L3/M6.jpg?sqp=-oaymwENSDfyq4qpAwVwAcABBqLzl_8DBgi-qJW4Bg==&sigh=rs$AOn4CLChyYAN9yUuPV77afN8ANVL4QhFmA',\n",
       "    'duration': 88.60975609756098},\n",
       "   {'url': 'https://i.ytimg.com/sb/7HK1ClVCtjA/storyboard3_L3/M7.jpg?sqp=-oaymwENSDfyq4qpAwVwAcABBqLzl_8DBgi-qJW4Bg==&sigh=rs$AOn4CLChyYAN9yUuPV77afN8ANVL4QhFmA',\n",
       "    'duration': 88.60975609756098},\n",
       "   {'url': 'https://i.ytimg.com/sb/7HK1ClVCtjA/storyboard3_L3/M8.jpg?sqp=-oaymwENSDfyq4qpAwVwAcABBqLzl_8DBgi-qJW4Bg==&sigh=rs$AOn4CLChyYAN9yUuPV77afN8ANVL4QhFmA',\n",
       "    'duration': 88.60975609756098},\n",
       "   {'url': 'https://i.ytimg.com/sb/7HK1ClVCtjA/storyboard3_L3/M9.jpg?sqp=-oaymwENSDfyq4qpAwVwAcABBqLzl_8DBgi-qJW4Bg==&sigh=rs$AOn4CLChyYAN9yUuPV77afN8ANVL4QhFmA',\n",
       "    'duration': 88.60975609756098},\n",
       "   {'url': 'https://i.ytimg.com/sb/7HK1ClVCtjA/storyboard3_L3/M10.jpg?sqp=-oaymwENSDfyq4qpAwVwAcABBqLzl_8DBgi-qJW4Bg==&sigh=rs$AOn4CLChyYAN9yUuPV77afN8ANVL4QhFmA',\n",
       "    'duration': 88.60975609756098},\n",
       "   {'url': 'https://i.ytimg.com/sb/7HK1ClVCtjA/storyboard3_L3/M11.jpg?sqp=-oaymwENSDfyq4qpAwVwAcABBqLzl_8DBgi-qJW4Bg==&sigh=rs$AOn4CLChyYAN9yUuPV77afN8ANVL4QhFmA',\n",
       "    'duration': 88.60975609756098},\n",
       "   {'url': 'https://i.ytimg.com/sb/7HK1ClVCtjA/storyboard3_L3/M12.jpg?sqp=-oaymwENSDfyq4qpAwVwAcABBqLzl_8DBgi-qJW4Bg==&sigh=rs$AOn4CLChyYAN9yUuPV77afN8ANVL4QhFmA',\n",
       "    'duration': 88.60975609756098},\n",
       "   {'url': 'https://i.ytimg.com/sb/7HK1ClVCtjA/storyboard3_L3/M13.jpg?sqp=-oaymwENSDfyq4qpAwVwAcABBqLzl_8DBgi-qJW4Bg==&sigh=rs$AOn4CLChyYAN9yUuPV77afN8ANVL4QhFmA',\n",
       "    'duration': 59.07317073170725}],\n",
       "  'audio_ext': 'none',\n",
       "  'video_ext': 'none',\n",
       "  'vbr': 0,\n",
       "  'abr': 0,\n",
       "  'tbr': None,\n",
       "  'resolution': '320x180',\n",
       "  'aspect_ratio': 1.78,\n",
       "  'filesize_approx': None,\n",
       "  'http_headers': {'User-Agent': 'Mozilla/5.0 (Windows NT 10.0; Win64; x64) AppleWebKit/537.36 (KHTML, like Gecko) Chrome/92.0.4515.159 Safari/537.36',\n",
       "   'Accept': 'text/html,application/xhtml+xml,application/xml;q=0.9,*/*;q=0.8',\n",
       "   'Accept-Language': 'en-us,en;q=0.5',\n",
       "   'Sec-Fetch-Mode': 'navigate'},\n",
       "  'format': 'sb0 - 320x180 (storyboard)'},\n",
       " {'format_id': '233',\n",
       "  'format_note': 'Default, low',\n",
       "  'format_index': None,\n",
       "  'url': 'https://manifest.googlevideo.com/api/manifest/hls_playlist/expire/1752697491/ei/M7Z3aNSxCOvLssUP2qjeuQY/ip/2401:4900:6577:e2ae:71c6:163d:cbe8:6168/id/ec72b50a5542b630/itag/233/source/youtube/requiressl/yes/ratebypass/yes/pfa/1/goi/134/sgoap/clen%3D7388131%3Bdur%3D1211.477%3Bgir%3Dyes%3Bitag%3D139%3Blmt%3D1728402437229614/rqh/1/hls_chunk_host/rr4---sn-ci5gup-itqd.googlevideo.com/xpc/EgVo2aDSNQ%3D%3D/met/1752675891,/mh/pt/mm/31,29/mn/sn-ci5gup-itqd,sn-ci5gup-cvhe7/ms/au,rdu/mv/m/mvi/4/pcm2cms/yes/pl/44/rms/au,au/initcwndbps/415000/bui/AY1jyLM9Vl67lSv9g_-VLdiyXcnaCB_SW8k71USMizfmih5bePmu44MsqF8a9P3bW6fEiLobovCawPQk/spc/l3OVKb9Uk4KQsz4e6Bw2Cb8vo8v9h5_w68Yx9TwkEHWn__78HlSqZxCL8HRUN14w/vprv/1/playlist_type/DVR/dover/13/txp/6208224/mt/1752675463/fvip/2/short_key/1/keepalive/yes/sparams/expire,ei,ip,id,itag,source,requiressl,ratebypass,pfa,goi,sgoap,rqh,xpc,bui,spc,vprv,playlist_type/sig/AJfQdSswRQIgbcSn1Vz-w3GkCQCYxK8Gxv9xKczfGoFoKG1IC2QpKFECIQCAF9Dmsebc2yHbrZ2V36jrIL7GGIAcMB2lKaixSi3j3w%3D%3D/lsparams/hls_chunk_host,met,mh,mm,mn,ms,mv,mvi,pcm2cms,pl,rms,initcwndbps/lsig/APaTxxMwRQIgZgTVtZZt2Sh5-zqNlCJGTpU6ue8pwrwFSciqPrrx1DICIQC72wCwW2uxIgxPqKAAwbsJZDpPBn78nBGD9wY3sqJUBQ%3D%3D/playlist/index.m3u8',\n",
       "  'manifest_url': 'https://manifest.googlevideo.com/api/manifest/hls_variant/expire/1752697491/ei/M7Z3aNSxCOvLssUP2qjeuQY/ip/2401%3A4900%3A6577%3Ae2ae%3A71c6%3A163d%3Acbe8%3A6168/id/ec72b50a5542b630/source/youtube/requiressl/yes/xpc/EgVo2aDSNQ%3D%3D/playback_host/rr4---sn-ci5gup-itqd.googlevideo.com/met/1752675891%2C/mh/pt/mm/31%2C29/mn/sn-ci5gup-itqd%2Csn-ci5gup-cvhe7/ms/au%2Crdu/mv/m/mvi/4/pcm2cms/yes/pl/44/rms/au%2Cau/hfr/1/demuxed/1/tts_caps/1/maudio/1/initcwndbps/415000/bui/AY1jyLM9Vl67lSv9g_-VLdiyXcnaCB_SW8k71USMizfmih5bePmu44MsqF8a9P3bW6fEiLobovCawPQk/spc/l3OVKb9Uk4KQsz4e6Bw2Cb8vo8v9h5_w68Yx9TwkEHWn__78HlSqZxCL8HRUN14w/vprv/1/go/1/rqh/5/mt/1752675463/fvip/2/nvgoi/1/short_key/1/ncsapi/1/keepalive/yes/dover/13/itag/0/playlist_type/DVR/sparams/expire%2Cei%2Cip%2Cid%2Csource%2Crequiressl%2Cxpc%2Chfr%2Cdemuxed%2Ctts_caps%2Cmaudio%2Cbui%2Cspc%2Cvprv%2Cgo%2Crqh%2Citag%2Cplaylist_type/sig/AJfQdSswRAIgJCDCJUK496aU8zT7HUaceBEPvIJPB4M2Owoa1toCwjMCIEZSSNpUUTT8iPywTnWWCo_2brlN85Wf2Ej7w7r9QKZM/lsparams/playback_host%2Cmet%2Cmh%2Cmm%2Cmn%2Cms%2Cmv%2Cmvi%2Cpcm2cms%2Cpl%2Crms%2Cinitcwndbps/lsig/APaTxxMwRgIhAI5ok19_f9pEIgYuuE8DSQDEUBuF4T3mmBaGx6yJLkjdAiEArT5bMn6l8rmSLgaO1W-e4FL2qCeYp3R_w20JsiKFgEI%3D/file/index.m3u8',\n",
       "  'language': 'hi',\n",
       "  'ext': 'mp4',\n",
       "  'protocol': 'm3u8_native',\n",
       "  'preference': None,\n",
       "  'quality': -1,\n",
       "  'has_drm': False,\n",
       "  'vcodec': 'none',\n",
       "  'source_preference': 0,\n",
       "  'audio_ext': 'mp4',\n",
       "  'video_ext': 'none',\n",
       "  'vbr': 0,\n",
       "  'abr': None,\n",
       "  'tbr': None,\n",
       "  'resolution': 'audio only',\n",
       "  'aspect_ratio': None,\n",
       "  'http_headers': {'User-Agent': 'Mozilla/5.0 (Windows NT 10.0; Win64; x64) AppleWebKit/537.36 (KHTML, like Gecko) Chrome/92.0.4515.159 Safari/537.36',\n",
       "   'Accept': 'text/html,application/xhtml+xml,application/xml;q=0.9,*/*;q=0.8',\n",
       "   'Accept-Language': 'en-us,en;q=0.5',\n",
       "   'Sec-Fetch-Mode': 'navigate'},\n",
       "  'format': '233 - audio only (Default, low)'},\n",
       " {'format_id': '234',\n",
       "  'format_note': 'Default, high',\n",
       "  'format_index': None,\n",
       "  'url': 'https://manifest.googlevideo.com/api/manifest/hls_playlist/expire/1752697491/ei/M7Z3aNSxCOvLssUP2qjeuQY/ip/2401:4900:6577:e2ae:71c6:163d:cbe8:6168/id/ec72b50a5542b630/itag/234/source/youtube/requiressl/yes/ratebypass/yes/pfa/1/goi/134/sgoap/clen%3D19606123%3Bdur%3D1211.408%3Bgir%3Dyes%3Bitag%3D140%3Blmt%3D1728402428333191/rqh/1/hls_chunk_host/rr4---sn-ci5gup-itqd.googlevideo.com/xpc/EgVo2aDSNQ%3D%3D/met/1752675891,/mh/pt/mm/31,29/mn/sn-ci5gup-itqd,sn-ci5gup-cvhe7/ms/au,rdu/mv/m/mvi/4/pcm2cms/yes/pl/44/rms/au,au/initcwndbps/415000/bui/AY1jyLM9Vl67lSv9g_-VLdiyXcnaCB_SW8k71USMizfmih5bePmu44MsqF8a9P3bW6fEiLobovCawPQk/spc/l3OVKb9Uk4KQsz4e6Bw2Cb8vo8v9h5_w68Yx9TwkEHWn__78HlSqZxCL8HRUN14w/vprv/1/playlist_type/DVR/dover/13/txp/6208224/mt/1752675463/fvip/2/short_key/1/keepalive/yes/sparams/expire,ei,ip,id,itag,source,requiressl,ratebypass,pfa,goi,sgoap,rqh,xpc,bui,spc,vprv,playlist_type/sig/AJfQdSswRQIhAPEls1oOZTMVxPt1X_5lMQT5np_jcVUpkQAYyT-oOYbfAiAqkm2XmKUMklQFdW5JmLc-8WSTT9QqoTO7vdX9MNz4-w%3D%3D/lsparams/hls_chunk_host,met,mh,mm,mn,ms,mv,mvi,pcm2cms,pl,rms,initcwndbps/lsig/APaTxxMwRQIhAJcTVMnANPT3Ui2j-0WGSIpFDDf-IAVA4EzhU_RrPU5OAiA6m4LGzGxnKPguYKTFejqVDSmGG_eV5XGdpaUGLTzrMg%3D%3D/playlist/index.m3u8',\n",
       "  'manifest_url': 'https://manifest.googlevideo.com/api/manifest/hls_variant/expire/1752697491/ei/M7Z3aNSxCOvLssUP2qjeuQY/ip/2401%3A4900%3A6577%3Ae2ae%3A71c6%3A163d%3Acbe8%3A6168/id/ec72b50a5542b630/source/youtube/requiressl/yes/xpc/EgVo2aDSNQ%3D%3D/playback_host/rr4---sn-ci5gup-itqd.googlevideo.com/met/1752675891%2C/mh/pt/mm/31%2C29/mn/sn-ci5gup-itqd%2Csn-ci5gup-cvhe7/ms/au%2Crdu/mv/m/mvi/4/pcm2cms/yes/pl/44/rms/au%2Cau/hfr/1/demuxed/1/tts_caps/1/maudio/1/initcwndbps/415000/bui/AY1jyLM9Vl67lSv9g_-VLdiyXcnaCB_SW8k71USMizfmih5bePmu44MsqF8a9P3bW6fEiLobovCawPQk/spc/l3OVKb9Uk4KQsz4e6Bw2Cb8vo8v9h5_w68Yx9TwkEHWn__78HlSqZxCL8HRUN14w/vprv/1/go/1/rqh/5/mt/1752675463/fvip/2/nvgoi/1/short_key/1/ncsapi/1/keepalive/yes/dover/13/itag/0/playlist_type/DVR/sparams/expire%2Cei%2Cip%2Cid%2Csource%2Crequiressl%2Cxpc%2Chfr%2Cdemuxed%2Ctts_caps%2Cmaudio%2Cbui%2Cspc%2Cvprv%2Cgo%2Crqh%2Citag%2Cplaylist_type/sig/AJfQdSswRAIgJCDCJUK496aU8zT7HUaceBEPvIJPB4M2Owoa1toCwjMCIEZSSNpUUTT8iPywTnWWCo_2brlN85Wf2Ej7w7r9QKZM/lsparams/playback_host%2Cmet%2Cmh%2Cmm%2Cmn%2Cms%2Cmv%2Cmvi%2Cpcm2cms%2Cpl%2Crms%2Cinitcwndbps/lsig/APaTxxMwRgIhAI5ok19_f9pEIgYuuE8DSQDEUBuF4T3mmBaGx6yJLkjdAiEArT5bMn6l8rmSLgaO1W-e4FL2qCeYp3R_w20JsiKFgEI%3D/file/index.m3u8',\n",
       "  'language': 'hi',\n",
       "  'ext': 'mp4',\n",
       "  'protocol': 'm3u8_native',\n",
       "  'preference': None,\n",
       "  'quality': -1,\n",
       "  'has_drm': False,\n",
       "  'vcodec': 'none',\n",
       "  'source_preference': 1,\n",
       "  'audio_ext': 'mp4',\n",
       "  'video_ext': 'none',\n",
       "  'vbr': 0,\n",
       "  'abr': None,\n",
       "  'tbr': None,\n",
       "  'resolution': 'audio only',\n",
       "  'aspect_ratio': None,\n",
       "  'http_headers': {'User-Agent': 'Mozilla/5.0 (Windows NT 10.0; Win64; x64) AppleWebKit/537.36 (KHTML, like Gecko) Chrome/92.0.4515.159 Safari/537.36',\n",
       "   'Accept': 'text/html,application/xhtml+xml,application/xml;q=0.9,*/*;q=0.8',\n",
       "   'Accept-Language': 'en-us,en;q=0.5',\n",
       "   'Sec-Fetch-Mode': 'navigate'},\n",
       "  'format': '234 - audio only (Default, high)'},\n",
       " {'format_id': '269',\n",
       "  'format_index': None,\n",
       "  'url': 'https://manifest.googlevideo.com/api/manifest/hls_playlist/expire/1752697491/ei/M7Z3aNSxCOvLssUP2qjeuQY/ip/2401:4900:6577:e2ae:71c6:163d:cbe8:6168/id/ec72b50a5542b630/itag/269/source/youtube/requiressl/yes/ratebypass/yes/pfa/1/sgovp/clen%3D3150463%3Bdur%3D1211.366%3Bgir%3Dyes%3Bitag%3D160%3Blmt%3D1728402432573418/rqh/1/hls_chunk_host/rr4---sn-ci5gup-itqd.googlevideo.com/xpc/EgVo2aDSNQ%3D%3D/met/1752675891,/mh/pt/mm/31,29/mn/sn-ci5gup-itqd,sn-ci5gup-cvhe7/ms/au,rdu/mv/m/mvi/4/pcm2cms/yes/pl/44/rms/au,au/initcwndbps/415000/bui/AY1jyLM9Vl67lSv9g_-VLdiyXcnaCB_SW8k71USMizfmih5bePmu44MsqF8a9P3bW6fEiLobovCawPQk/spc/l3OVKb9Uk4KQsz4e6Bw2Cb8vo8v9h5_w68Yx9TwkEHWn__78HlSqZxCL8HRUN14w/vprv/1/playlist_type/DVR/dover/13/txp/6209224/mt/1752675463/fvip/2/short_key/1/keepalive/yes/sparams/expire,ei,ip,id,itag,source,requiressl,ratebypass,pfa,sgovp,rqh,xpc,bui,spc,vprv,playlist_type/sig/AJfQdSswRAIgYmepL2w2hkoqV0_Erwew97q0-02vZaMeakuIK_yxQrsCIBhDozpo3havAzE1a-6r3GORjFKAeZlDI8lTamJXTFyo/lsparams/hls_chunk_host,met,mh,mm,mn,ms,mv,mvi,pcm2cms,pl,rms,initcwndbps/lsig/APaTxxMwRQIhAN6TH5RBOeAUN0MnRyT0aDqGP7mvF6VVosr7g1en3_XnAiBML1Lgnuog369aZOzSVx7YcnVfKUFfdIWzPW04RDB5fw%3D%3D/playlist/index.m3u8',\n",
       "  'manifest_url': 'https://manifest.googlevideo.com/api/manifest/hls_variant/expire/1752697491/ei/M7Z3aNSxCOvLssUP2qjeuQY/ip/2401%3A4900%3A6577%3Ae2ae%3A71c6%3A163d%3Acbe8%3A6168/id/ec72b50a5542b630/source/youtube/requiressl/yes/xpc/EgVo2aDSNQ%3D%3D/playback_host/rr4---sn-ci5gup-itqd.googlevideo.com/met/1752675891%2C/mh/pt/mm/31%2C29/mn/sn-ci5gup-itqd%2Csn-ci5gup-cvhe7/ms/au%2Crdu/mv/m/mvi/4/pcm2cms/yes/pl/44/rms/au%2Cau/hfr/1/demuxed/1/tts_caps/1/maudio/1/initcwndbps/415000/bui/AY1jyLM9Vl67lSv9g_-VLdiyXcnaCB_SW8k71USMizfmih5bePmu44MsqF8a9P3bW6fEiLobovCawPQk/spc/l3OVKb9Uk4KQsz4e6Bw2Cb8vo8v9h5_w68Yx9TwkEHWn__78HlSqZxCL8HRUN14w/vprv/1/go/1/rqh/5/mt/1752675463/fvip/2/nvgoi/1/short_key/1/ncsapi/1/keepalive/yes/dover/13/itag/0/playlist_type/DVR/sparams/expire%2Cei%2Cip%2Cid%2Csource%2Crequiressl%2Cxpc%2Chfr%2Cdemuxed%2Ctts_caps%2Cmaudio%2Cbui%2Cspc%2Cvprv%2Cgo%2Crqh%2Citag%2Cplaylist_type/sig/AJfQdSswRAIgJCDCJUK496aU8zT7HUaceBEPvIJPB4M2Owoa1toCwjMCIEZSSNpUUTT8iPywTnWWCo_2brlN85Wf2Ej7w7r9QKZM/lsparams/playback_host%2Cmet%2Cmh%2Cmm%2Cmn%2Cms%2Cmv%2Cmvi%2Cpcm2cms%2Cpl%2Crms%2Cinitcwndbps/lsig/APaTxxMwRgIhAI5ok19_f9pEIgYuuE8DSQDEUBuF4T3mmBaGx6yJLkjdAiEArT5bMn6l8rmSLgaO1W-e4FL2qCeYp3R_w20JsiKFgEI%3D/file/index.m3u8',\n",
       "  'tbr': 127.353,\n",
       "  'ext': 'mp4',\n",
       "  'fps': 30.0,\n",
       "  'protocol': 'm3u8_native',\n",
       "  'preference': None,\n",
       "  'quality': 0,\n",
       "  'has_drm': False,\n",
       "  'width': 256,\n",
       "  'height': 144,\n",
       "  'vcodec': 'avc1.4D400C',\n",
       "  'acodec': 'none',\n",
       "  'dynamic_range': 'SDR',\n",
       "  'source_preference': -1,\n",
       "  'video_ext': 'mp4',\n",
       "  'audio_ext': 'none',\n",
       "  'abr': 0,\n",
       "  'vbr': 127.353,\n",
       "  'resolution': '256x144',\n",
       "  'aspect_ratio': 1.78,\n",
       "  'http_headers': {'User-Agent': 'Mozilla/5.0 (Windows NT 10.0; Win64; x64) AppleWebKit/537.36 (KHTML, like Gecko) Chrome/92.0.4515.159 Safari/537.36',\n",
       "   'Accept': 'text/html,application/xhtml+xml,application/xml;q=0.9,*/*;q=0.8',\n",
       "   'Accept-Language': 'en-us,en;q=0.5',\n",
       "   'Sec-Fetch-Mode': 'navigate'},\n",
       "  'format': '269 - 256x144'},\n",
       " {'format_id': '230',\n",
       "  'format_index': None,\n",
       "  'url': 'https://manifest.googlevideo.com/api/manifest/hls_playlist/expire/1752697491/ei/M7Z3aNSxCOvLssUP2qjeuQY/ip/2401:4900:6577:e2ae:71c6:163d:cbe8:6168/id/ec72b50a5542b630/itag/230/source/youtube/requiressl/yes/ratebypass/yes/pfa/1/sgovp/clen%3D9394503%3Bdur%3D1211.366%3Bgir%3Dyes%3Bitag%3D134%3Blmt%3D1728402432723647/rqh/1/hls_chunk_host/rr4---sn-ci5gup-itqd.googlevideo.com/xpc/EgVo2aDSNQ%3D%3D/met/1752675891,/mh/pt/mm/31,29/mn/sn-ci5gup-itqd,sn-ci5gup-cvhe7/ms/au,rdu/mv/m/mvi/4/pcm2cms/yes/pl/44/rms/au,au/initcwndbps/415000/bui/AY1jyLM9Vl67lSv9g_-VLdiyXcnaCB_SW8k71USMizfmih5bePmu44MsqF8a9P3bW6fEiLobovCawPQk/spc/l3OVKb9Uk4KQsz4e6Bw2Cb8vo8v9h5_w68Yx9TwkEHWn__78HlSqZxCL8HRUN14w/vprv/1/playlist_type/DVR/dover/13/txp/6209224/mt/1752675463/fvip/2/short_key/1/keepalive/yes/sparams/expire,ei,ip,id,itag,source,requiressl,ratebypass,pfa,sgovp,rqh,xpc,bui,spc,vprv,playlist_type/sig/AJfQdSswRAIgMiBbGMd_Hn-FynuYHNA5X6t8JiJp6Y0BR5DBlrhMw34CIBpmPjxekb9Ua2DENO790cJbzW8g40SywbXdhgwT9qLp/lsparams/hls_chunk_host,met,mh,mm,mn,ms,mv,mvi,pcm2cms,pl,rms,initcwndbps/lsig/APaTxxMwRQIgI2cITCvUAHxxMXi1EUU3CtRXiv2LaW782lOd_qHtv7cCIQCrdE-LiC1TYBFD25UrT6m7_B6-MDT7RG3SXjGN03etLg%3D%3D/playlist/index.m3u8',\n",
       "  'manifest_url': 'https://manifest.googlevideo.com/api/manifest/hls_variant/expire/1752697491/ei/M7Z3aNSxCOvLssUP2qjeuQY/ip/2401%3A4900%3A6577%3Ae2ae%3A71c6%3A163d%3Acbe8%3A6168/id/ec72b50a5542b630/source/youtube/requiressl/yes/xpc/EgVo2aDSNQ%3D%3D/playback_host/rr4---sn-ci5gup-itqd.googlevideo.com/met/1752675891%2C/mh/pt/mm/31%2C29/mn/sn-ci5gup-itqd%2Csn-ci5gup-cvhe7/ms/au%2Crdu/mv/m/mvi/4/pcm2cms/yes/pl/44/rms/au%2Cau/hfr/1/demuxed/1/tts_caps/1/maudio/1/initcwndbps/415000/bui/AY1jyLM9Vl67lSv9g_-VLdiyXcnaCB_SW8k71USMizfmih5bePmu44MsqF8a9P3bW6fEiLobovCawPQk/spc/l3OVKb9Uk4KQsz4e6Bw2Cb8vo8v9h5_w68Yx9TwkEHWn__78HlSqZxCL8HRUN14w/vprv/1/go/1/rqh/5/mt/1752675463/fvip/2/nvgoi/1/short_key/1/ncsapi/1/keepalive/yes/dover/13/itag/0/playlist_type/DVR/sparams/expire%2Cei%2Cip%2Cid%2Csource%2Crequiressl%2Cxpc%2Chfr%2Cdemuxed%2Ctts_caps%2Cmaudio%2Cbui%2Cspc%2Cvprv%2Cgo%2Crqh%2Citag%2Cplaylist_type/sig/AJfQdSswRAIgJCDCJUK496aU8zT7HUaceBEPvIJPB4M2Owoa1toCwjMCIEZSSNpUUTT8iPywTnWWCo_2brlN85Wf2Ej7w7r9QKZM/lsparams/playback_host%2Cmet%2Cmh%2Cmm%2Cmn%2Cms%2Cmv%2Cmvi%2Cpcm2cms%2Cpl%2Crms%2Cinitcwndbps/lsig/APaTxxMwRgIhAI5ok19_f9pEIgYuuE8DSQDEUBuF4T3mmBaGx6yJLkjdAiEArT5bMn6l8rmSLgaO1W-e4FL2qCeYp3R_w20JsiKFgEI%3D/file/index.m3u8',\n",
       "  'tbr': 406.062,\n",
       "  'ext': 'mp4',\n",
       "  'fps': 30.0,\n",
       "  'protocol': 'm3u8_native',\n",
       "  'preference': None,\n",
       "  'quality': 6,\n",
       "  'has_drm': False,\n",
       "  'width': 640,\n",
       "  'height': 360,\n",
       "  'vcodec': 'avc1.4D401E',\n",
       "  'acodec': 'none',\n",
       "  'dynamic_range': 'SDR',\n",
       "  'source_preference': -1,\n",
       "  'video_ext': 'mp4',\n",
       "  'audio_ext': 'none',\n",
       "  'abr': 0,\n",
       "  'vbr': 406.062,\n",
       "  'resolution': '640x360',\n",
       "  'aspect_ratio': 1.78,\n",
       "  'http_headers': {'User-Agent': 'Mozilla/5.0 (Windows NT 10.0; Win64; x64) AppleWebKit/537.36 (KHTML, like Gecko) Chrome/92.0.4515.159 Safari/537.36',\n",
       "   'Accept': 'text/html,application/xhtml+xml,application/xml;q=0.9,*/*;q=0.8',\n",
       "   'Accept-Language': 'en-us,en;q=0.5',\n",
       "   'Sec-Fetch-Mode': 'navigate'},\n",
       "  'format': '230 - 640x360'},\n",
       " {'asr': 44100,\n",
       "  'filesize': None,\n",
       "  'format_id': '18',\n",
       "  'format_note': '360p',\n",
       "  'source_preference': -1,\n",
       "  'fps': 30,\n",
       "  'audio_channels': 2,\n",
       "  'height': 360,\n",
       "  'quality': 6.0,\n",
       "  'has_drm': False,\n",
       "  'tbr': 190.141,\n",
       "  'filesize_approx': 28792291,\n",
       "  'url': 'https://rr4---sn-ci5gup-itqd.googlevideo.com/videoplayback?expire=1752697487&ei=L7Z3aIK5FPaGpt8PpMPviQs&ip=2401%3A4900%3A6577%3Ae2ae%3A71c6%3A163d%3Acbe8%3A6168&id=o-AH0wV0Ox-Yfm8lBRp5liESQStBe4VTjA5CsRqDBAJHGz&itag=18&source=youtube&requiressl=yes&xpc=EgVo2aDSNQ%3D%3D&met=1752675887%2C&mh=pt&mm=31%2C29&mn=sn-ci5gup-itqd%2Csn-ci5gup-cvhe7&ms=au%2Crdu&mv=m&mvi=4&pcm2cms=yes&pl=44&rms=au%2Cau&initcwndbps=415000&bui=AY1jyLNk1UMMAQeMv9hydKEh_t129CkzOmRlmCWxjWf8EeyN0y1liCreOIrHpeRL3-6Zm-FXqrjAJ8lW&spc=l3OVKcOamm2jcqNJtewWK1eZmZnIi-UTCny_pllUQ5Wms6MBpiUmGKPqIo9tQByTUhml7HNZtWdx9w&vprv=1&svpuc=1&mime=video%2Fmp4&ns=T8BqsQoJa3lCZggqmKVVDvUQ&rqh=1&cnr=14&ratebypass=yes&dur=1211.408&lmt=1733976858960974&mt=1752675463&fvip=2&fexp=51355912&c=WEB&sefc=1&txp=6208224&n=sGKUxLlFfuNUDQ&sparams=expire%2Cei%2Cip%2Cid%2Citag%2Csource%2Crequiressl%2Cxpc%2Cbui%2Cspc%2Cvprv%2Csvpuc%2Cmime%2Cns%2Crqh%2Ccnr%2Cratebypass%2Cdur%2Clmt&sig=AJfQdSswRQIgASl3BX2-skyYMqzPBNHbLyChCiPXxXeT0-m2bX39W60CIQDc6oAy_91HOCYMMB9sniR1D_YYvoj3TPpcNLrEjf6zcg%3D%3D&lsparams=met%2Cmh%2Cmm%2Cmn%2Cms%2Cmv%2Cmvi%2Cpcm2cms%2Cpl%2Crms%2Cinitcwndbps&lsig=APaTxxMwRgIhAPHzbzgmidFLKaAJF90IUu4lK4NIU7o9Xd3afxqQA7ObAiEA77Ifw2QjW2LHAJPvUknyZ5K4TmImpFWYHDhi_QkbrsY%3D',\n",
       "  'width': 640,\n",
       "  'language': 'hi',\n",
       "  'language_preference': -1,\n",
       "  'preference': None,\n",
       "  'ext': 'mp4',\n",
       "  'vcodec': 'avc1.42001E',\n",
       "  'acodec': 'mp4a.40.2',\n",
       "  'dynamic_range': 'SDR',\n",
       "  'downloader_options': {'http_chunk_size': 10485760},\n",
       "  'protocol': 'https',\n",
       "  'video_ext': 'mp4',\n",
       "  'audio_ext': 'none',\n",
       "  'vbr': None,\n",
       "  'abr': None,\n",
       "  'resolution': '640x360',\n",
       "  'aspect_ratio': 1.78,\n",
       "  'http_headers': {'User-Agent': 'Mozilla/5.0 (Windows NT 10.0; Win64; x64) AppleWebKit/537.36 (KHTML, like Gecko) Chrome/92.0.4515.159 Safari/537.36',\n",
       "   'Accept': 'text/html,application/xhtml+xml,application/xml;q=0.9,*/*;q=0.8',\n",
       "   'Accept-Language': 'en-us,en;q=0.5',\n",
       "   'Sec-Fetch-Mode': 'navigate'},\n",
       "  'format': '18 - 640x360 (360p)'},\n",
       " {'format_id': '605',\n",
       "  'format_index': None,\n",
       "  'url': 'https://manifest.googlevideo.com/api/manifest/hls_playlist/expire/1752697491/ei/M7Z3aNSxCOvLssUP2qjeuQY/ip/2401:4900:6577:e2ae:71c6:163d:cbe8:6168/id/ec72b50a5542b630/itag/605/source/youtube/requiressl/yes/ratebypass/yes/pfa/1/wft/1/sgovp/clen%3D9145472%3Bdur%3D1211.366%3Bgir%3Dyes%3Bitag%3D243%3Blmt%3D1728402437653470/rqh/1/hls_chunk_host/rr4---sn-ci5gup-itqd.googlevideo.com/xpc/EgVo2aDSNQ%3D%3D/met/1752675891,/mh/pt/mm/31,29/mn/sn-ci5gup-itqd,sn-ci5gup-cvhe7/ms/au,rdu/mv/m/mvi/4/pcm2cms/yes/pl/44/rms/au,au/initcwndbps/415000/bui/AY1jyLM9Vl67lSv9g_-VLdiyXcnaCB_SW8k71USMizfmih5bePmu44MsqF8a9P3bW6fEiLobovCawPQk/spc/l3OVKb9Uk4KQsz4e6Bw2Cb8vo8v9h5_w68Yx9TwkEHWn__78HlSqZxCL8HRUN14w/vprv/1/playlist_type/DVR/dover/13/txp/6209224/mt/1752675463/fvip/2/short_key/1/keepalive/yes/sparams/expire,ei,ip,id,itag,source,requiressl,ratebypass,pfa,wft,sgovp,rqh,xpc,bui,spc,vprv,playlist_type/sig/AJfQdSswRgIhALwgBh8vjLYLIfgaRJFZkVQdrGCU_95_nGTEfbEJ96agAiEA7RWDBWtr8yMDUtgPPDvH7sZeq9Xu9zPVH_H3zshUFsA%3D/lsparams/hls_chunk_host,met,mh,mm,mn,ms,mv,mvi,pcm2cms,pl,rms,initcwndbps/lsig/APaTxxMwRQIgOsPhUBc6OjDayNBL9qBYEsx_NKRreQxhcLx9LM8WBf8CIQCkb6PqiWmprW2F5A89uVmlM5JrvuWKrBRci3C5MVyijw%3D%3D/playlist/index.m3u8',\n",
       "  'manifest_url': 'https://manifest.googlevideo.com/api/manifest/hls_variant/expire/1752697491/ei/M7Z3aNSxCOvLssUP2qjeuQY/ip/2401%3A4900%3A6577%3Ae2ae%3A71c6%3A163d%3Acbe8%3A6168/id/ec72b50a5542b630/source/youtube/requiressl/yes/xpc/EgVo2aDSNQ%3D%3D/playback_host/rr4---sn-ci5gup-itqd.googlevideo.com/met/1752675891%2C/mh/pt/mm/31%2C29/mn/sn-ci5gup-itqd%2Csn-ci5gup-cvhe7/ms/au%2Crdu/mv/m/mvi/4/pcm2cms/yes/pl/44/rms/au%2Cau/hfr/1/demuxed/1/tts_caps/1/maudio/1/initcwndbps/415000/bui/AY1jyLM9Vl67lSv9g_-VLdiyXcnaCB_SW8k71USMizfmih5bePmu44MsqF8a9P3bW6fEiLobovCawPQk/spc/l3OVKb9Uk4KQsz4e6Bw2Cb8vo8v9h5_w68Yx9TwkEHWn__78HlSqZxCL8HRUN14w/vprv/1/go/1/rqh/5/mt/1752675463/fvip/2/nvgoi/1/short_key/1/ncsapi/1/keepalive/yes/dover/13/itag/0/playlist_type/DVR/sparams/expire%2Cei%2Cip%2Cid%2Csource%2Crequiressl%2Cxpc%2Chfr%2Cdemuxed%2Ctts_caps%2Cmaudio%2Cbui%2Cspc%2Cvprv%2Cgo%2Crqh%2Citag%2Cplaylist_type/sig/AJfQdSswRAIgJCDCJUK496aU8zT7HUaceBEPvIJPB4M2Owoa1toCwjMCIEZSSNpUUTT8iPywTnWWCo_2brlN85Wf2Ej7w7r9QKZM/lsparams/playback_host%2Cmet%2Cmh%2Cmm%2Cmn%2Cms%2Cmv%2Cmvi%2Cpcm2cms%2Cpl%2Crms%2Cinitcwndbps/lsig/APaTxxMwRgIhAI5ok19_f9pEIgYuuE8DSQDEUBuF4T3mmBaGx6yJLkjdAiEArT5bMn6l8rmSLgaO1W-e4FL2qCeYp3R_w20JsiKFgEI%3D/file/index.m3u8',\n",
       "  'tbr': 336.701,\n",
       "  'ext': 'mp4',\n",
       "  'fps': 30.0,\n",
       "  'protocol': 'm3u8_native',\n",
       "  'preference': None,\n",
       "  'quality': 6,\n",
       "  'has_drm': False,\n",
       "  'width': 640,\n",
       "  'height': 360,\n",
       "  'vcodec': 'vp09.00.21.08',\n",
       "  'acodec': 'none',\n",
       "  'dynamic_range': 'SDR',\n",
       "  'source_preference': -1,\n",
       "  'video_ext': 'mp4',\n",
       "  'audio_ext': 'none',\n",
       "  'abr': 0,\n",
       "  'vbr': 336.701,\n",
       "  'resolution': '640x360',\n",
       "  'aspect_ratio': 1.78,\n",
       "  'http_headers': {'User-Agent': 'Mozilla/5.0 (Windows NT 10.0; Win64; x64) AppleWebKit/537.36 (KHTML, like Gecko) Chrome/92.0.4515.159 Safari/537.36',\n",
       "   'Accept': 'text/html,application/xhtml+xml,application/xml;q=0.9,*/*;q=0.8',\n",
       "   'Accept-Language': 'en-us,en;q=0.5',\n",
       "   'Sec-Fetch-Mode': 'navigate'},\n",
       "  'format': '605 - 640x360'},\n",
       " {'format_id': '232',\n",
       "  'format_index': None,\n",
       "  'url': 'https://manifest.googlevideo.com/api/manifest/hls_playlist/expire/1752697491/ei/M7Z3aNSxCOvLssUP2qjeuQY/ip/2401:4900:6577:e2ae:71c6:163d:cbe8:6168/id/ec72b50a5542b630/itag/232/source/youtube/requiressl/yes/ratebypass/yes/pfa/1/sgovp/clen%3D23165245%3Bdur%3D1211.366%3Bgir%3Dyes%3Bitag%3D136%3Blmt%3D1728402432737295/rqh/1/hls_chunk_host/rr4---sn-ci5gup-itqd.googlevideo.com/xpc/EgVo2aDSNQ%3D%3D/met/1752675891,/mh/pt/mm/31,29/mn/sn-ci5gup-itqd,sn-ci5gup-cvhe7/ms/au,rdu/mv/m/mvi/4/pcm2cms/yes/pl/44/rms/au,au/initcwndbps/415000/bui/AY1jyLM9Vl67lSv9g_-VLdiyXcnaCB_SW8k71USMizfmih5bePmu44MsqF8a9P3bW6fEiLobovCawPQk/spc/l3OVKb9Uk4KQsz4e6Bw2Cb8vo8v9h5_w68Yx9TwkEHWn__78HlSqZxCL8HRUN14w/vprv/1/playlist_type/DVR/dover/13/txp/6209224/mt/1752675463/fvip/2/short_key/1/keepalive/yes/sparams/expire,ei,ip,id,itag,source,requiressl,ratebypass,pfa,sgovp,rqh,xpc,bui,spc,vprv,playlist_type/sig/AJfQdSswRgIhAMHEbT8G3dpJa3ztvvscLePR9Y06ILgXWGkM9HB6GgCGAiEAn-mY_1p5vZetYQGLNYJYf9b9IhanH44goRJuSBSHpYI%3D/lsparams/hls_chunk_host,met,mh,mm,mn,ms,mv,mvi,pcm2cms,pl,rms,initcwndbps/lsig/APaTxxMwRQIhAMP0sNxe6KF57xszrr9DvlVVRoluWRqElImSLtzYjRm5AiBXyhOapF5ZpGWeilRkC2XHZwkgi3wGEeGhNB-cMdS_iA%3D%3D/playlist/index.m3u8',\n",
       "  'manifest_url': 'https://manifest.googlevideo.com/api/manifest/hls_variant/expire/1752697491/ei/M7Z3aNSxCOvLssUP2qjeuQY/ip/2401%3A4900%3A6577%3Ae2ae%3A71c6%3A163d%3Acbe8%3A6168/id/ec72b50a5542b630/source/youtube/requiressl/yes/xpc/EgVo2aDSNQ%3D%3D/playback_host/rr4---sn-ci5gup-itqd.googlevideo.com/met/1752675891%2C/mh/pt/mm/31%2C29/mn/sn-ci5gup-itqd%2Csn-ci5gup-cvhe7/ms/au%2Crdu/mv/m/mvi/4/pcm2cms/yes/pl/44/rms/au%2Cau/hfr/1/demuxed/1/tts_caps/1/maudio/1/initcwndbps/415000/bui/AY1jyLM9Vl67lSv9g_-VLdiyXcnaCB_SW8k71USMizfmih5bePmu44MsqF8a9P3bW6fEiLobovCawPQk/spc/l3OVKb9Uk4KQsz4e6Bw2Cb8vo8v9h5_w68Yx9TwkEHWn__78HlSqZxCL8HRUN14w/vprv/1/go/1/rqh/5/mt/1752675463/fvip/2/nvgoi/1/short_key/1/ncsapi/1/keepalive/yes/dover/13/itag/0/playlist_type/DVR/sparams/expire%2Cei%2Cip%2Cid%2Csource%2Crequiressl%2Cxpc%2Chfr%2Cdemuxed%2Ctts_caps%2Cmaudio%2Cbui%2Cspc%2Cvprv%2Cgo%2Crqh%2Citag%2Cplaylist_type/sig/AJfQdSswRAIgJCDCJUK496aU8zT7HUaceBEPvIJPB4M2Owoa1toCwjMCIEZSSNpUUTT8iPywTnWWCo_2brlN85Wf2Ej7w7r9QKZM/lsparams/playback_host%2Cmet%2Cmh%2Cmm%2Cmn%2Cms%2Cmv%2Cmvi%2Cpcm2cms%2Cpl%2Crms%2Cinitcwndbps/lsig/APaTxxMwRgIhAI5ok19_f9pEIgYuuE8DSQDEUBuF4T3mmBaGx6yJLkjdAiEArT5bMn6l8rmSLgaO1W-e4FL2qCeYp3R_w20JsiKFgEI%3D/file/index.m3u8',\n",
       "  'tbr': 1088.906,\n",
       "  'ext': 'mp4',\n",
       "  'fps': 30.0,\n",
       "  'protocol': 'm3u8_native',\n",
       "  'preference': None,\n",
       "  'quality': 8,\n",
       "  'has_drm': False,\n",
       "  'width': 1280,\n",
       "  'height': 720,\n",
       "  'vcodec': 'avc1.64001F',\n",
       "  'acodec': 'none',\n",
       "  'dynamic_range': 'SDR',\n",
       "  'source_preference': -1,\n",
       "  'video_ext': 'mp4',\n",
       "  'audio_ext': 'none',\n",
       "  'abr': 0,\n",
       "  'vbr': 1088.906,\n",
       "  'resolution': '1280x720',\n",
       "  'aspect_ratio': 1.78,\n",
       "  'http_headers': {'User-Agent': 'Mozilla/5.0 (Windows NT 10.0; Win64; x64) AppleWebKit/537.36 (KHTML, like Gecko) Chrome/92.0.4515.159 Safari/537.36',\n",
       "   'Accept': 'text/html,application/xhtml+xml,application/xml;q=0.9,*/*;q=0.8',\n",
       "   'Accept-Language': 'en-us,en;q=0.5',\n",
       "   'Sec-Fetch-Mode': 'navigate'},\n",
       "  'format': '232 - 1280x720'},\n",
       " {'format_id': '270',\n",
       "  'format_index': None,\n",
       "  'url': 'https://manifest.googlevideo.com/api/manifest/hls_playlist/expire/1752697491/ei/M7Z3aNSxCOvLssUP2qjeuQY/ip/2401:4900:6577:e2ae:71c6:163d:cbe8:6168/id/ec72b50a5542b630/itag/270/source/youtube/requiressl/yes/ratebypass/yes/pfa/1/sgovp/clen%3D39143253%3Bdur%3D1211.366%3Bgir%3Dyes%3Bitag%3D137%3Blmt%3D1728402433361948/rqh/1/hls_chunk_host/rr4---sn-ci5gup-itqd.googlevideo.com/xpc/EgVo2aDSNQ%3D%3D/met/1752675891,/mh/pt/mm/31,29/mn/sn-ci5gup-itqd,sn-ci5gup-cvhe7/ms/au,rdu/mv/m/mvi/4/pcm2cms/yes/pl/44/rms/au,au/initcwndbps/415000/bui/AY1jyLM9Vl67lSv9g_-VLdiyXcnaCB_SW8k71USMizfmih5bePmu44MsqF8a9P3bW6fEiLobovCawPQk/spc/l3OVKb9Uk4KQsz4e6Bw2Cb8vo8v9h5_w68Yx9TwkEHWn__78HlSqZxCL8HRUN14w/vprv/1/playlist_type/DVR/dover/13/txp/6209224/mt/1752675463/fvip/2/short_key/1/keepalive/yes/sparams/expire,ei,ip,id,itag,source,requiressl,ratebypass,pfa,sgovp,rqh,xpc,bui,spc,vprv,playlist_type/sig/AJfQdSswRQIhALFn9zutCytjwe5fgttA59nEdROllZ-qBDDA-arNhNPsAiAcsEuzChrHTTzzjJ9UjhRZCq_1sZlExyxwfKbyDb385g%3D%3D/lsparams/hls_chunk_host,met,mh,mm,mn,ms,mv,mvi,pcm2cms,pl,rms,initcwndbps/lsig/APaTxxMwRQIgPunK77j_My5oK8bMYZUvb3c3dfuRnId1ErxbYvDRY24CIQDH-I-m0nJVg_IZ8oM1-wO08SBog4iX7FylMY5ZHW8dpQ%3D%3D/playlist/index.m3u8',\n",
       "  'manifest_url': 'https://manifest.googlevideo.com/api/manifest/hls_variant/expire/1752697491/ei/M7Z3aNSxCOvLssUP2qjeuQY/ip/2401%3A4900%3A6577%3Ae2ae%3A71c6%3A163d%3Acbe8%3A6168/id/ec72b50a5542b630/source/youtube/requiressl/yes/xpc/EgVo2aDSNQ%3D%3D/playback_host/rr4---sn-ci5gup-itqd.googlevideo.com/met/1752675891%2C/mh/pt/mm/31%2C29/mn/sn-ci5gup-itqd%2Csn-ci5gup-cvhe7/ms/au%2Crdu/mv/m/mvi/4/pcm2cms/yes/pl/44/rms/au%2Cau/hfr/1/demuxed/1/tts_caps/1/maudio/1/initcwndbps/415000/bui/AY1jyLM9Vl67lSv9g_-VLdiyXcnaCB_SW8k71USMizfmih5bePmu44MsqF8a9P3bW6fEiLobovCawPQk/spc/l3OVKb9Uk4KQsz4e6Bw2Cb8vo8v9h5_w68Yx9TwkEHWn__78HlSqZxCL8HRUN14w/vprv/1/go/1/rqh/5/mt/1752675463/fvip/2/nvgoi/1/short_key/1/ncsapi/1/keepalive/yes/dover/13/itag/0/playlist_type/DVR/sparams/expire%2Cei%2Cip%2Cid%2Csource%2Crequiressl%2Cxpc%2Chfr%2Cdemuxed%2Ctts_caps%2Cmaudio%2Cbui%2Cspc%2Cvprv%2Cgo%2Crqh%2Citag%2Cplaylist_type/sig/AJfQdSswRAIgJCDCJUK496aU8zT7HUaceBEPvIJPB4M2Owoa1toCwjMCIEZSSNpUUTT8iPywTnWWCo_2brlN85Wf2Ej7w7r9QKZM/lsparams/playback_host%2Cmet%2Cmh%2Cmm%2Cmn%2Cms%2Cmv%2Cmvi%2Cpcm2cms%2Cpl%2Crms%2Cinitcwndbps/lsig/APaTxxMwRgIhAI5ok19_f9pEIgYuuE8DSQDEUBuF4T3mmBaGx6yJLkjdAiEArT5bMn6l8rmSLgaO1W-e4FL2qCeYp3R_w20JsiKFgEI%3D/file/index.m3u8',\n",
       "  'tbr': 1979.228,\n",
       "  'ext': 'mp4',\n",
       "  'fps': 30.0,\n",
       "  'protocol': 'm3u8_native',\n",
       "  'preference': None,\n",
       "  'quality': 9,\n",
       "  'has_drm': False,\n",
       "  'width': 1920,\n",
       "  'height': 1080,\n",
       "  'vcodec': 'avc1.640028',\n",
       "  'acodec': 'none',\n",
       "  'dynamic_range': 'SDR',\n",
       "  'source_preference': -1,\n",
       "  'video_ext': 'mp4',\n",
       "  'audio_ext': 'none',\n",
       "  'abr': 0,\n",
       "  'vbr': 1979.228,\n",
       "  'resolution': '1920x1080',\n",
       "  'aspect_ratio': 1.78,\n",
       "  'http_headers': {'User-Agent': 'Mozilla/5.0 (Windows NT 10.0; Win64; x64) AppleWebKit/537.36 (KHTML, like Gecko) Chrome/92.0.4515.159 Safari/537.36',\n",
       "   'Accept': 'text/html,application/xhtml+xml,application/xml;q=0.9,*/*;q=0.8',\n",
       "   'Accept-Language': 'en-us,en;q=0.5',\n",
       "   'Sec-Fetch-Mode': 'navigate'},\n",
       "  'format': '270 - 1920x1080'}]"
      ]
     },
     "execution_count": 28,
     "metadata": {},
     "output_type": "execute_result"
    }
   ],
   "source": [
    "formats"
   ]
  },
  {
   "cell_type": "code",
   "execution_count": 3,
   "id": "d5d77f95",
   "metadata": {},
   "outputs": [
    {
     "name": "stderr",
     "output_type": "stream",
     "text": [
      "WARNING: [youtube:tab] Incomplete data received. Retrying (1/3)...\n",
      "WARNING: [youtube:tab] Incomplete data received. Retrying (2/3)...\n",
      "WARNING: [youtube:tab] Incomplete data received. Retrying (3/3)...\n",
      "WARNING: [youtube:tab] Incomplete data received. Giving up after 3 retries\n"
     ]
    },
    {
     "name": "stdout",
     "output_type": "stream",
     "text": [
      "🔗 Found 84 videos in the playlist:\n",
      "1. https://www.youtube.com/watch?v=https://www.youtube.com/watch?v=2dH_qjc9mFg\n",
      "2. https://www.youtube.com/watch?v=https://www.youtube.com/watch?v=fHF22Wxuyw4\n",
      "3. https://www.youtube.com/watch?v=https://www.youtube.com/watch?v=fne_UE7hDn0\n",
      "4. https://www.youtube.com/watch?v=https://www.youtube.com/watch?v=X7iIKPoZ0Sw\n",
      "5. https://www.youtube.com/watch?v=https://www.youtube.com/watch?v=Lu2bruOHN6g\n",
      "6. https://www.youtube.com/watch?v=https://www.youtube.com/watch?v=2_gCL5RAkHc\n",
      "7. https://www.youtube.com/watch?v=https://www.youtube.com/watch?v=Jp44b27VnOg\n",
      "8. https://www.youtube.com/watch?v=https://www.youtube.com/watch?v=H0_3SJh4Rqs\n",
      "9. https://www.youtube.com/watch?v=https://www.youtube.com/watch?v=qw7wFGgNCSU\n",
      "10. https://www.youtube.com/watch?v=https://www.youtube.com/watch?v=7MuiScUkboE\n",
      "11. https://www.youtube.com/watch?v=https://www.youtube.com/watch?v=9wmImImmgcI\n",
      "12. https://www.youtube.com/watch?v=https://www.youtube.com/watch?v=3xPT2Pk0Jds\n",
      "13. https://www.youtube.com/watch?v=https://www.youtube.com/watch?v=RCmiPBiA4qg\n",
      "14. https://www.youtube.com/watch?v=https://www.youtube.com/watch?v=gb5nm_3jBIo\n",
      "15. https://www.youtube.com/watch?v=https://www.youtube.com/watch?v=6M1wWQmcUjQ\n",
      "16. https://www.youtube.com/watch?v=https://www.youtube.com/watch?v=ma6hWrU-LaI\n",
      "17. https://www.youtube.com/watch?v=https://www.youtube.com/watch?v=6xO-x8y0YSY\n",
      "18. https://www.youtube.com/watch?v=https://www.youtube.com/watch?v=rW0eeTXas4k\n",
      "19. https://www.youtube.com/watch?v=https://www.youtube.com/watch?v=7z6yXpYk7sw\n",
      "20. https://www.youtube.com/watch?v=https://www.youtube.com/watch?v=uCrevbBh0zM\n",
      "21. https://www.youtube.com/watch?v=https://www.youtube.com/watch?v=Ue_6n1yT_R8\n",
      "22. https://www.youtube.com/watch?v=https://www.youtube.com/watch?v=Ygvskt5HadI\n",
      "23. https://www.youtube.com/watch?v=https://www.youtube.com/watch?v=mzRO0cVppQ0\n",
      "24. https://www.youtube.com/watch?v=https://www.youtube.com/watch?v=gyTlcHVeBjM\n",
      "25. https://www.youtube.com/watch?v=https://www.youtube.com/watch?v=tgIx04ML7-Y\n",
      "26. https://www.youtube.com/watch?v=https://www.youtube.com/watch?v=4xRonrhtkzc\n",
      "27. https://www.youtube.com/watch?v=https://www.youtube.com/watch?v=7LcUkgzx3AY\n",
      "28. https://www.youtube.com/watch?v=https://www.youtube.com/watch?v=2OwWs7Hzr9g\n",
      "29. https://www.youtube.com/watch?v=https://www.youtube.com/watch?v=2MSY0HwH5Ss\n",
      "30. https://www.youtube.com/watch?v=https://www.youtube.com/watch?v=nwVOSgcrbQI\n",
      "31. https://www.youtube.com/watch?v=https://www.youtube.com/watch?v=2AscwXePInA\n",
      "32. https://www.youtube.com/watch?v=https://www.youtube.com/watch?v=iCTTnQJn50E\n",
      "33. https://www.youtube.com/watch?v=https://www.youtube.com/watch?v=jAqVuYJ8TP8\n",
      "34. https://www.youtube.com/watch?v=https://www.youtube.com/watch?v=vVS4csXRlcQ\n",
      "35. https://www.youtube.com/watch?v=https://www.youtube.com/watch?v=rKG9E6rce1c\n",
      "36. https://www.youtube.com/watch?v=https://www.youtube.com/watch?v=nqL9xYmhEpg\n",
      "37. https://www.youtube.com/watch?v=https://www.youtube.com/watch?v=p0wSmKslWi0\n",
      "38. https://www.youtube.com/watch?v=https://www.youtube.com/watch?v=N5AynalXD9g\n",
      "39. https://www.youtube.com/watch?v=https://www.youtube.com/watch?v=oYnyNLj8RMA\n",
      "40. https://www.youtube.com/watch?v=https://www.youtube.com/watch?v=hDVFXf74P-U\n",
      "41. https://www.youtube.com/watch?v=https://www.youtube.com/watch?v=aslTGS9ef98\n",
      "42. https://www.youtube.com/watch?v=https://www.youtube.com/watch?v=cgJx3GvQ5y8\n",
      "43. https://www.youtube.com/watch?v=https://www.youtube.com/watch?v=btWE6SsdDZA\n",
      "44. https://www.youtube.com/watch?v=https://www.youtube.com/watch?v=DwmGefkowCU\n",
      "45. https://www.youtube.com/watch?v=https://www.youtube.com/watch?v=ewsvsJQOuTI\n",
      "46. https://www.youtube.com/watch?v=https://www.youtube.com/watch?v=niE5DRKvD_E\n",
      "47. https://www.youtube.com/watch?v=https://www.youtube.com/watch?v=RvCCFttGFMY\n",
      "48. https://www.youtube.com/watch?v=https://www.youtube.com/watch?v=OoSDzOodY3Y\n",
      "49. https://www.youtube.com/watch?v=https://www.youtube.com/watch?v=0K4J_PTgysc\n",
      "50. https://www.youtube.com/watch?v=https://www.youtube.com/watch?v=sM2C-SsREgM\n",
      "51. https://www.youtube.com/watch?v=https://www.youtube.com/watch?v=0MVXteg7TB4\n",
      "52. https://www.youtube.com/watch?v=https://www.youtube.com/watch?v=WJysB1RK2vM\n",
      "53. https://www.youtube.com/watch?v=https://www.youtube.com/watch?v=WWcgHjuKVqA\n",
      "54. https://www.youtube.com/watch?v=https://www.youtube.com/watch?v=OvQQP1QVru8\n",
      "55. https://www.youtube.com/watch?v=https://www.youtube.com/watch?v=4KpRP-YUw6c\n",
      "56. https://www.youtube.com/watch?v=https://www.youtube.com/watch?v=BjWqCcbusMM\n",
      "57. https://www.youtube.com/watch?v=https://www.youtube.com/watch?v=JgnbwKnHMZQ\n",
      "58. https://www.youtube.com/watch?v=https://www.youtube.com/watch?v=TkOBxzhIySg\n",
      "59. https://www.youtube.com/watch?v=https://www.youtube.com/watch?v=OvCz1acvt-k\n",
      "60. https://www.youtube.com/watch?v=https://www.youtube.com/watch?v=AWHSZzp96kM\n",
      "61. https://www.youtube.com/watch?v=https://www.youtube.com/watch?v=z7IPBg6MyrU\n",
      "62. https://www.youtube.com/watch?v=https://www.youtube.com/watch?v=Akv3poqqwI4\n",
      "63. https://www.youtube.com/watch?v=https://www.youtube.com/watch?v=fiqo6uPCJVI\n",
      "64. https://www.youtube.com/watch?v=https://www.youtube.com/watch?v=QQfZAoNGQmE\n",
      "65. https://www.youtube.com/watch?v=https://www.youtube.com/watch?v=mlDkTrlLaio\n",
      "66. https://www.youtube.com/watch?v=https://www.youtube.com/watch?v=k2NSm3MNdYg\n",
      "67. https://www.youtube.com/watch?v=https://www.youtube.com/watch?v=8fX3rOjTloc\n",
      "68. https://www.youtube.com/watch?v=https://www.youtube.com/watch?v=KiL74WsgxoA\n",
      "69. https://www.youtube.com/watch?v=https://www.youtube.com/watch?v=rj5V6q6-XUM\n",
      "70. https://www.youtube.com/watch?v=https://www.youtube.com/watch?v=0hZT4_fHfNQ\n",
      "71. https://www.youtube.com/watch?v=https://www.youtube.com/watch?v=BjRVS2wTtcA\n",
      "72. https://www.youtube.com/watch?v=https://www.youtube.com/watch?v=XnGGmvpDLA0\n",
      "73. https://www.youtube.com/watch?v=https://www.youtube.com/watch?v=-tCKPl_8Xb8\n",
      "74. https://www.youtube.com/watch?v=https://www.youtube.com/watch?v=r7mAt0iVqwo\n",
      "75. https://www.youtube.com/watch?v=https://www.youtube.com/watch?v=5ZgGuujZSbs\n",
      "76. https://www.youtube.com/watch?v=https://www.youtube.com/watch?v=o4ZVA0TuDRg\n",
      "77. https://www.youtube.com/watch?v=https://www.youtube.com/watch?v=bX2QwpjsmuA\n",
      "78. https://www.youtube.com/watch?v=https://www.youtube.com/watch?v=GeoQBNNqIbM\n",
      "79. https://www.youtube.com/watch?v=https://www.youtube.com/watch?v=qti0QPdaelg\n",
      "80. https://www.youtube.com/watch?v=https://www.youtube.com/watch?v=Vs87qcdm8l0\n",
      "81. https://www.youtube.com/watch?v=https://www.youtube.com/watch?v=m6onaKFzF94\n",
      "82. https://www.youtube.com/watch?v=https://www.youtube.com/watch?v=smOnJtCevoU\n",
      "83. https://www.youtube.com/watch?v=https://www.youtube.com/watch?v=DI2_hrAulYo\n",
      "84. https://www.youtube.com/watch?v=https://www.youtube.com/watch?v=FtsMOzlwxws\n"
     ]
    }
   ],
   "source": [
    "# Paste your playlist URL here\n",
    "playlist_url = \"https://youtube.com/playlist?list=PLKnIA16_RmvYuZauWaPlRTC54KxSNLtNn&si=6n6sH76vadOhLm40\"\n",
    "\n",
    "\n",
    "# Options to only extract video URLs\n",
    "ydl_opts = {\n",
    "    'quiet': True,\n",
    "    'extract_flat': True,  # Do not resolve full video data\n",
    "    'skip_download': True,\n",
    "    'force_generic_extractor': True,\n",
    "}\n",
    "\n",
    "video_urls = []\n",
    "\n",
    "with yt_dlp.YoutubeDL(ydl_opts) as ydl:\n",
    "    info = ydl.extract_info(playlist_url, download=False)\n",
    "    for entry in info.get('entries', []):\n",
    "        video_urls.append(entry['url'])\n",
    "\n",
    "# Print all video URLs\n",
    "print(f\"🔗 Found {len(video_urls)} videos in the playlist:\")\n",
    "for i, url in enumerate(video_urls, 1):\n",
    "    print(f\"{i}. https://www.youtube.com/watch?v={url}\")"
   ]
  },
  {
   "cell_type": "code",
   "execution_count": 8,
   "id": "664a0bbc",
   "metadata": {},
   "outputs": [
    {
     "name": "stdout",
     "output_type": "stream",
     "text": [
      "[youtube] Extracting URL: https://www.youtube.com/watch?v=smOnJtCevoU\n",
      "[youtube] smOnJtCevoU: Downloading webpage\n",
      "[youtube] smOnJtCevoU: Downloading tv client config\n",
      "[youtube] smOnJtCevoU: Downloading player a1f2424c-main\n",
      "[youtube] smOnJtCevoU: Downloading tv player API JSON\n",
      "[youtube] smOnJtCevoU: Downloading ios player API JSON\n",
      "[youtube] smOnJtCevoU: Downloading m3u8 information\n",
      "[info] smOnJtCevoU: Downloading 1 format(s): 248+251\n",
      "[download] Destination: D:\\100_day_dl\\Cross Attention in Transformers ｜ 100 Days Of Deep Learning ｜ CampusX.f248.webm\n",
      "[download] 100% of   44.01MiB in 00:00:20 at 2.17MiB/s     \n",
      "[download] Destination: D:\\100_day_dl\\Cross Attention in Transformers ｜ 100 Days Of Deep Learning ｜ CampusX.f251.webm\n",
      "[download] 100% of   27.56MiB in 00:00:09 at 2.77MiB/s   \n",
      "[Merger] Merging formats into \"D:\\100_day_dl\\Cross Attention in Transformers ｜ 100 Days Of Deep Learning ｜ CampusX.mp4\"\n",
      "Deleting original file D:\\100_day_dl\\Cross Attention in Transformers ｜ 100 Days Of Deep Learning ｜ CampusX.f248.webm (pass -k to keep)\n",
      "Deleting original file D:\\100_day_dl\\Cross Attention in Transformers ｜ 100 Days Of Deep Learning ｜ CampusX.f251.webm (pass -k to keep)\n",
      "[youtube] Extracting URL: https://www.youtube.com/watch?v=DI2_hrAulYo\n",
      "[youtube] DI2_hrAulYo: Downloading webpage\n",
      "[youtube] DI2_hrAulYo: Downloading tv client config\n",
      "[youtube] DI2_hrAulYo: Downloading player a1f2424c-main\n",
      "[youtube] DI2_hrAulYo: Downloading tv player API JSON\n",
      "[youtube] DI2_hrAulYo: Downloading ios player API JSON\n",
      "[youtube] DI2_hrAulYo: Downloading m3u8 information\n",
      "[info] DI2_hrAulYo: Downloading 1 format(s): 248+251\n",
      "[download] Destination: D:\\100_day_dl\\Transformer Decoder Architecture ｜ Deep Learning ｜ CampusX.f248.webm\n",
      "[download] 100% of   57.25MiB in 00:00:19 at 2.99MiB/s   \n",
      "[download] Destination: D:\\100_day_dl\\Transformer Decoder Architecture ｜ Deep Learning ｜ CampusX.f251.webm\n",
      "[download] 100% of   39.80MiB in 00:00:15 at 2.49MiB/s   \n",
      "[Merger] Merging formats into \"D:\\100_day_dl\\Transformer Decoder Architecture ｜ Deep Learning ｜ CampusX.mp4\"\n",
      "Deleting original file D:\\100_day_dl\\Transformer Decoder Architecture ｜ Deep Learning ｜ CampusX.f251.webm (pass -k to keep)\n",
      "Deleting original file D:\\100_day_dl\\Transformer Decoder Architecture ｜ Deep Learning ｜ CampusX.f248.webm (pass -k to keep)\n",
      "[youtube] Extracting URL: https://www.youtube.com/watch?v=FtsMOzlwxws\n",
      "[youtube] FtsMOzlwxws: Downloading webpage\n",
      "[youtube] FtsMOzlwxws: Downloading tv client config\n",
      "[youtube] FtsMOzlwxws: Downloading player a1f2424c-main\n",
      "[youtube] FtsMOzlwxws: Downloading tv player API JSON\n",
      "[youtube] FtsMOzlwxws: Downloading ios player API JSON\n",
      "[youtube] FtsMOzlwxws: Downloading m3u8 information\n",
      "[info] FtsMOzlwxws: Downloading 1 format(s): 248+251\n",
      "[download] Destination: D:\\100_day_dl\\Transformer Inference ｜ How Inference is done in Transformer？ ｜ Deep Learning ｜ CampusX.f248.webm\n",
      "[download] 100% of   60.68MiB in 00:00:28 at 2.13MiB/s   \n",
      "[download] Destination: D:\\100_day_dl\\Transformer Inference ｜ How Inference is done in Transformer？ ｜ Deep Learning ｜ CampusX.f251.webm\n",
      "[download] 100% of   36.15MiB in 00:00:15 at 2.32MiB/s   \n",
      "[Merger] Merging formats into \"D:\\100_day_dl\\Transformer Inference ｜ How Inference is done in Transformer？ ｜ Deep Learning ｜ CampusX.mp4\"\n",
      "Deleting original file D:\\100_day_dl\\Transformer Inference ｜ How Inference is done in Transformer？ ｜ Deep Learning ｜ CampusX.f248.webm (pass -k to keep)\n",
      "Deleting original file D:\\100_day_dl\\Transformer Inference ｜ How Inference is done in Transformer？ ｜ Deep Learning ｜ CampusX.f251.webm (pass -k to keep)\n"
     ]
    }
   ],
   "source": [
    "# no of video from which download start\n",
    "start=82\n",
    "# no of video upto which download end\n",
    "end=84\n",
    "url_list=video_urls\n",
    "download_dir=\"D:/100_day_dl\"\n",
    "# start-1 as index is 16 for 17'th video, but for end if say 20'th video index is 19, which already works in range like that \n",
    "for i in range(start-1,min(end,len(url_list))):\n",
    "    download_playlist(url_list[i], download_dir)"
   ]
  },
  {
   "cell_type": "code",
   "execution_count": 3,
   "id": "2430dd72",
   "metadata": {},
   "outputs": [
    {
     "name": "stderr",
     "output_type": "stream",
     "text": [
      "WARNING: [youtube:tab] YouTube said: INFO - 1 unavailable video is hidden\n",
      "WARNING: [youtube:tab] Incomplete data received. Retrying (1/3)...\n",
      "WARNING: [youtube:tab] Incomplete data received. Retrying (2/3)...\n",
      "WARNING: [youtube:tab] Incomplete data received. Retrying (3/3)...\n",
      "WARNING: [youtube:tab] Incomplete data received. Giving up after 3 retries\n"
     ]
    },
    {
     "name": "stdout",
     "output_type": "stream",
     "text": [
      "🔗 Found 39 videos in the playlist:\n",
      "1. https://www.youtube.com/watch?v=https://www.youtube.com/watch?v=1wUDHDRpN7k\n",
      "2. https://www.youtube.com/watch?v=https://www.youtube.com/watch?v=pDYYoTNlCFo\n",
      "3. https://www.youtube.com/watch?v=https://www.youtube.com/watch?v=9yvltHGcdwE\n",
      "4. https://www.youtube.com/watch?v=https://www.youtube.com/watch?v=lue0LC7AGZ8\n",
      "5. https://www.youtube.com/watch?v=https://www.youtube.com/watch?v=dzLkUyiZOPM\n",
      "6. https://www.youtube.com/watch?v=https://www.youtube.com/watch?v=lLImlmZEce0\n",
      "7. https://www.youtube.com/watch?v=https://www.youtube.com/watch?v=quPB0jNr1LI\n",
      "8. https://www.youtube.com/watch?v=https://www.youtube.com/watch?v=oo3YRCpuGdc\n",
      "9. https://www.youtube.com/watch?v=https://www.youtube.com/watch?v=sUb7Gtrl26Y\n",
      "10. https://www.youtube.com/watch?v=https://www.youtube.com/watch?v=xQORhwJjnU4\n",
      "11. https://www.youtube.com/watch?v=https://www.youtube.com/watch?v=ngmkeZlz18A\n",
      "12. https://www.youtube.com/watch?v=https://www.youtube.com/watch?v=I9rdbSr0T8o\n",
      "13. https://www.youtube.com/watch?v=https://www.youtube.com/watch?v=s32a3l8HnU0\n",
      "14. https://www.youtube.com/watch?v=https://www.youtube.com/watch?v=tFUc6Pl8SBU\n",
      "15. https://www.youtube.com/watch?v=https://www.youtube.com/watch?v=dyqzMUfcjC0\n",
      "16. https://www.youtube.com/watch?v=https://www.youtube.com/watch?v=Ezb7joATW10\n",
      "17. https://www.youtube.com/watch?v=https://www.youtube.com/watch?v=xmMuFdnArxc\n",
      "18. https://www.youtube.com/watch?v=https://www.youtube.com/watch?v=UJ9l31Fz2kA\n",
      "19. https://www.youtube.com/watch?v=https://www.youtube.com/watch?v=vQPEdOAHb0Q\n",
      "20. https://www.youtube.com/watch?v=https://www.youtube.com/watch?v=lkaPZiovpCo\n",
      "21. https://www.youtube.com/watch?v=https://www.youtube.com/watch?v=2__9SFkVoT4\n",
      "22. https://www.youtube.com/watch?v=https://www.youtube.com/watch?v=QAVgPMoXmLs\n",
      "23. https://www.youtube.com/watch?v=https://www.youtube.com/watch?v=2SBXCECp4Qs\n",
      "24. https://www.youtube.com/watch?v=https://www.youtube.com/watch?v=jTTrroRKj64\n",
      "25. https://www.youtube.com/watch?v=https://www.youtube.com/watch?v=ZJzpMkyKIOk\n",
      "26. https://www.youtube.com/watch?v=https://www.youtube.com/watch?v=Stzw5vrE90M\n",
      "27. https://www.youtube.com/watch?v=https://www.youtube.com/watch?v=u1iQuSkKbpc\n",
      "28. https://www.youtube.com/watch?v=https://www.youtube.com/watch?v=tG0bK4flV_w\n",
      "29. https://www.youtube.com/watch?v=https://www.youtube.com/watch?v=8LCsmesTr0c\n",
      "30. https://www.youtube.com/watch?v=https://www.youtube.com/watch?v=104FzGI3G_E\n",
      "31. https://www.youtube.com/watch?v=https://www.youtube.com/watch?v=xP0x2uU481M\n",
      "32. https://www.youtube.com/watch?v=https://www.youtube.com/watch?v=Z0kgLIP6Vkw\n",
      "33. https://www.youtube.com/watch?v=https://www.youtube.com/watch?v=F_7g8U57c_c\n",
      "34. https://www.youtube.com/watch?v=https://www.youtube.com/watch?v=JlfUXYgrwjc\n",
      "35. https://www.youtube.com/watch?v=https://www.youtube.com/watch?v=v3Iah1yvJ-E\n",
      "36. https://www.youtube.com/watch?v=https://www.youtube.com/watch?v=ne7vkceFB60\n",
      "37. https://www.youtube.com/watch?v=https://www.youtube.com/watch?v=qQLt6sroJ8A\n",
      "38. https://www.youtube.com/watch?v=https://www.youtube.com/watch?v=K0pIYI2On-w\n",
      "39. https://www.youtube.com/watch?v=https://www.youtube.com/watch?v=sYPIuD1Qzl4\n"
     ]
    }
   ],
   "source": [
    "# Paste your playlist URL here\n",
    "playlist_url = \"https://youtube.com/playlist?list=PLW_QVE4bQ1EqHKPdOtnrLxJEj5m3vZZ6I&si=TI6AEkW51s9Qfctk\"\n",
    "\n",
    "\n",
    "# Options to only extract video URLs\n",
    "ydl_opts = {\n",
    "    'quiet': True,\n",
    "    'extract_flat': True,  # Do not resolve full video data\n",
    "    'skip_download': True,\n",
    "    'force_generic_extractor': True,\n",
    "}\n",
    "\n",
    "video_urls = []\n",
    "\n",
    "with yt_dlp.YoutubeDL(ydl_opts) as ydl:\n",
    "    info = ydl.extract_info(playlist_url, download=False)\n",
    "    for entry in info.get('entries', []):\n",
    "        video_urls.append(entry['url'])\n",
    "\n",
    "# Print all video URLs\n",
    "print(f\"🔗 Found {len(video_urls)} videos in the playlist:\")\n",
    "for i, url in enumerate(video_urls, 1):\n",
    "    print(f\"{i}. https://www.youtube.com/watch?v={url}\")"
   ]
  },
  {
   "cell_type": "code",
   "execution_count": null,
   "id": "5089ba17",
   "metadata": {},
   "outputs": [
    {
     "name": "stdout",
     "output_type": "stream",
     "text": [
      "Created folder: D:/django_audio\n",
      "[youtube:tab] Extracting URL: https://youtube.com/playlist?list=PLW_QVE4bQ1EqHKPdOtnrLxJEj5m3vZZ6I&si=TI6AEkW51s9Qfctk\n",
      "[youtube:tab] PLW_QVE4bQ1EqHKPdOtnrLxJEj5m3vZZ6I: Downloading webpage\n"
     ]
    },
    {
     "name": "stderr",
     "output_type": "stream",
     "text": [
      "WARNING: [youtube:tab] YouTube said: INFO - 1 unavailable video is hidden\n"
     ]
    },
    {
     "name": "stdout",
     "output_type": "stream",
     "text": [
      "[youtube:tab] PLW_QVE4bQ1EqHKPdOtnrLxJEj5m3vZZ6I: Redownloading playlist API JSON with unavailable videos\n",
      "[download] Downloading playlist: Shrimad Bhagwat Katha || Nashik M.H || 2024\n",
      "[youtube:tab] Playlist Shrimad Bhagwat Katha || Nashik M.H || 2024: Downloading 11 items of 39\n",
      "[download] Downloading item 1 of 11\n",
      "[youtube] Extracting URL: https://www.youtube.com/watch?v=I9rdbSr0T8o\n",
      "[youtube] I9rdbSr0T8o: Downloading webpage\n",
      "[youtube] I9rdbSr0T8o: Downloading tv client config\n",
      "[youtube] I9rdbSr0T8o: Downloading player a1f2424c-main\n",
      "[youtube] I9rdbSr0T8o: Downloading tv player API JSON\n",
      "[youtube] I9rdbSr0T8o: Downloading ios player API JSON\n",
      "[youtube] I9rdbSr0T8o: Downloading m3u8 information\n",
      "[info] I9rdbSr0T8o: Downloading 1 format(s): 251\n",
      "[download] Destination: D:\\django_audio\\12_Day - 11 ｜ Shrimad Bhagwat Katha Live ｜ Pujya Shri Indresh Ji Maharaj ｜ Nashik M.H ｜ 2024.webm\n",
      "[download]  54.7% of  139.51MiB at    2.27MiB/s ETA 00:27   "
     ]
    },
    {
     "name": "stderr",
     "output_type": "stream",
     "text": [
      "[download] Got error: HTTPSConnectionPool(host='rr4---sn-ci5gup-cvhk.googlevideo.com', port=443): Read timed out.\n"
     ]
    },
    {
     "name": "stdout",
     "output_type": "stream",
     "text": [
      "\n",
      "[download] Downloading item 2 of 11\n",
      "[youtube] Extracting URL: https://www.youtube.com/watch?v=s32a3l8HnU0\n",
      "[youtube] s32a3l8HnU0: Downloading webpage\n"
     ]
    },
    {
     "name": "stderr",
     "output_type": "stream",
     "text": [
      "WARNING: [youtube] ('Connection aborted.', RemoteDisconnected('Remote end closed connection without response')). Retrying (1/3)...\n"
     ]
    },
    {
     "name": "stdout",
     "output_type": "stream",
     "text": [
      "[youtube] s32a3l8HnU0: Downloading webpage\n"
     ]
    },
    {
     "name": "stderr",
     "output_type": "stream",
     "text": [
      "WARNING: [youtube] <urllib3.connection.HTTPSConnection object at 0x0000023C758BAC00>: Failed to resolve 'www.youtube.com' ([Errno 11001] getaddrinfo failed). Retrying (2/3)...\n"
     ]
    },
    {
     "name": "stdout",
     "output_type": "stream",
     "text": [
      "[youtube] s32a3l8HnU0: Downloading webpage\n"
     ]
    },
    {
     "name": "stderr",
     "output_type": "stream",
     "text": [
      "WARNING: [youtube] <urllib3.connection.HTTPSConnection object at 0x0000023C74794500>: Failed to resolve 'www.youtube.com' ([Errno 11001] getaddrinfo failed). Retrying (3/3)...\n"
     ]
    },
    {
     "name": "stdout",
     "output_type": "stream",
     "text": [
      "[youtube] s32a3l8HnU0: Downloading webpage\n"
     ]
    },
    {
     "name": "stderr",
     "output_type": "stream",
     "text": [
      "WARNING: [youtube] Unable to download webpage: <urllib3.connection.HTTPSConnection object at 0x0000023C76723590>: Failed to resolve 'www.youtube.com' ([Errno 11001] getaddrinfo failed) (caused by TransportError(\"<urllib3.connection.HTTPSConnection object at 0x0000023C76723590>: Failed to resolve 'www.youtube.com' ([Errno 11001] getaddrinfo failed)\")). Giving up after 3 retries\n"
     ]
    },
    {
     "name": "stdout",
     "output_type": "stream",
     "text": [
      "[youtube] s32a3l8HnU0: Downloading tv client config\n"
     ]
    },
    {
     "name": "stderr",
     "output_type": "stream",
     "text": [
      "WARNING: [youtube] <urllib3.connection.HTTPSConnection object at 0x0000023C745E6ED0>: Failed to resolve 'www.youtube.com' ([Errno 11001] getaddrinfo failed). Retrying (1/3)...\n"
     ]
    },
    {
     "name": "stdout",
     "output_type": "stream",
     "text": [
      "[youtube] s32a3l8HnU0: Downloading tv client config\n"
     ]
    },
    {
     "name": "stderr",
     "output_type": "stream",
     "text": [
      "WARNING: [youtube] <urllib3.connection.HTTPSConnection object at 0x0000023C747941D0>: Failed to resolve 'www.youtube.com' ([Errno 11001] getaddrinfo failed). Retrying (2/3)...\n"
     ]
    },
    {
     "name": "stdout",
     "output_type": "stream",
     "text": [
      "[youtube] s32a3l8HnU0: Downloading tv client config\n"
     ]
    },
    {
     "name": "stderr",
     "output_type": "stream",
     "text": [
      "WARNING: [youtube] <urllib3.connection.HTTPSConnection object at 0x0000023C745E6DE0>: Failed to resolve 'www.youtube.com' ([Errno 11001] getaddrinfo failed). Retrying (3/3)...\n"
     ]
    },
    {
     "name": "stdout",
     "output_type": "stream",
     "text": [
      "[youtube] s32a3l8HnU0: Downloading tv client config\n"
     ]
    },
    {
     "name": "stderr",
     "output_type": "stream",
     "text": [
      "WARNING: [youtube] Unable to download webpage: <urllib3.connection.HTTPSConnection object at 0x0000023C7588AE70>: Failed to resolve 'www.youtube.com' ([Errno 11001] getaddrinfo failed) (caused by TransportError(\"<urllib3.connection.HTTPSConnection object at 0x0000023C7588AE70>: Failed to resolve 'www.youtube.com' ([Errno 11001] getaddrinfo failed)\")). Giving up after 3 retries\n"
     ]
    },
    {
     "name": "stdout",
     "output_type": "stream",
     "text": [
      "[youtube] s32a3l8HnU0: Downloading iframe API JS\n"
     ]
    },
    {
     "name": "stderr",
     "output_type": "stream",
     "text": [
      "WARNING: [youtube] <urllib3.connection.HTTPSConnection object at 0x0000023C74796EA0>: Failed to resolve 'www.youtube.com' ([Errno 11001] getaddrinfo failed). Retrying (1/3)...\n"
     ]
    },
    {
     "name": "stdout",
     "output_type": "stream",
     "text": [
      "[youtube] s32a3l8HnU0: Downloading iframe API JS\n"
     ]
    },
    {
     "name": "stderr",
     "output_type": "stream",
     "text": [
      "WARNING: [youtube] <urllib3.connection.HTTPSConnection object at 0x0000023C745E5CD0>: Failed to resolve 'www.youtube.com' ([Errno 11001] getaddrinfo failed). Retrying (2/3)...\n"
     ]
    },
    {
     "name": "stdout",
     "output_type": "stream",
     "text": [
      "[youtube] s32a3l8HnU0: Downloading iframe API JS\n"
     ]
    },
    {
     "name": "stderr",
     "output_type": "stream",
     "text": [
      "WARNING: [youtube] <urllib3.connection.HTTPSConnection object at 0x0000023C746018B0>: Failed to resolve 'www.youtube.com' ([Errno 11001] getaddrinfo failed). Retrying (3/3)...\n"
     ]
    },
    {
     "name": "stdout",
     "output_type": "stream",
     "text": [
      "[youtube] s32a3l8HnU0: Downloading iframe API JS\n"
     ]
    },
    {
     "name": "stderr",
     "output_type": "stream",
     "text": [
      "WARNING: [youtube] Unable to download webpage: <urllib3.connection.HTTPSConnection object at 0x0000023C745E7740>: Failed to resolve 'www.youtube.com' ([Errno 11001] getaddrinfo failed) (caused by TransportError(\"<urllib3.connection.HTTPSConnection object at 0x0000023C745E7740>: Failed to resolve 'www.youtube.com' ([Errno 11001] getaddrinfo failed)\")). Giving up after 3 retries\n"
     ]
    },
    {
     "name": "stdout",
     "output_type": "stream",
     "text": [
      "[youtube] s32a3l8HnU0: Downloading tv player API JSON\n"
     ]
    },
    {
     "name": "stderr",
     "output_type": "stream",
     "text": [
      "WARNING: [youtube] <urllib3.connection.HTTPSConnection object at 0x0000023C745E4560>: Failed to resolve 'www.youtube.com' ([Errno 11001] getaddrinfo failed). Retrying (1/3)...\n"
     ]
    },
    {
     "name": "stdout",
     "output_type": "stream",
     "text": [
      "[youtube] s32a3l8HnU0: Downloading tv player API JSON\n"
     ]
    },
    {
     "name": "stderr",
     "output_type": "stream",
     "text": [
      "WARNING: [youtube] <urllib3.connection.HTTPSConnection object at 0x0000023C74797860>: Failed to resolve 'www.youtube.com' ([Errno 11001] getaddrinfo failed). Retrying (2/3)...\n"
     ]
    },
    {
     "name": "stdout",
     "output_type": "stream",
     "text": [
      "[youtube] s32a3l8HnU0: Downloading tv player API JSON\n"
     ]
    },
    {
     "name": "stderr",
     "output_type": "stream",
     "text": [
      "WARNING: [youtube] <urllib3.connection.HTTPSConnection object at 0x0000023C74603470>: Failed to resolve 'www.youtube.com' ([Errno 11001] getaddrinfo failed). Retrying (3/3)...\n"
     ]
    },
    {
     "name": "stdout",
     "output_type": "stream",
     "text": [
      "[youtube] s32a3l8HnU0: Downloading tv player API JSON\n"
     ]
    },
    {
     "name": "stderr",
     "output_type": "stream",
     "text": [
      "WARNING: [youtube] Unable to download API page: <urllib3.connection.HTTPSConnection object at 0x0000023C74600DD0>: Failed to resolve 'www.youtube.com' ([Errno 11001] getaddrinfo failed) (caused by TransportError(\"<urllib3.connection.HTTPSConnection object at 0x0000023C74600DD0>: Failed to resolve 'www.youtube.com' ([Errno 11001] getaddrinfo failed)\"))\n"
     ]
    },
    {
     "name": "stdout",
     "output_type": "stream",
     "text": [
      "[youtube] s32a3l8HnU0: Downloading ios player API JSON\n"
     ]
    },
    {
     "name": "stderr",
     "output_type": "stream",
     "text": [
      "WARNING: [youtube] <urllib3.connection.HTTPSConnection object at 0x0000023C74603560>: Failed to resolve 'www.youtube.com' ([Errno 11001] getaddrinfo failed). Retrying (1/3)...\n"
     ]
    },
    {
     "name": "stdout",
     "output_type": "stream",
     "text": [
      "[youtube] s32a3l8HnU0: Downloading ios player API JSON\n"
     ]
    },
    {
     "name": "stderr",
     "output_type": "stream",
     "text": [
      "WARNING: [youtube] <urllib3.connection.HTTPSConnection object at 0x0000023C758899D0>: Failed to resolve 'www.youtube.com' ([Errno 11001] getaddrinfo failed). Retrying (2/3)...\n"
     ]
    },
    {
     "name": "stdout",
     "output_type": "stream",
     "text": [
      "[youtube] s32a3l8HnU0: Downloading ios player API JSON\n"
     ]
    },
    {
     "name": "stderr",
     "output_type": "stream",
     "text": [
      "WARNING: [youtube] <urllib3.connection.HTTPSConnection object at 0x0000023C74602C00>: Failed to resolve 'www.youtube.com' ([Errno 11001] getaddrinfo failed). Retrying (3/3)...\n"
     ]
    },
    {
     "name": "stdout",
     "output_type": "stream",
     "text": [
      "[youtube] s32a3l8HnU0: Downloading ios player API JSON\n"
     ]
    },
    {
     "name": "stderr",
     "output_type": "stream",
     "text": [
      "WARNING: [youtube] Unable to download API page: <urllib3.connection.HTTPSConnection object at 0x0000023C767221E0>: Failed to resolve 'www.youtube.com' ([Errno 11001] getaddrinfo failed) (caused by TransportError(\"<urllib3.connection.HTTPSConnection object at 0x0000023C767221E0>: Failed to resolve 'www.youtube.com' ([Errno 11001] getaddrinfo failed)\"))\n"
     ]
    },
    {
     "name": "stdout",
     "output_type": "stream",
     "text": [
      "[youtube] s32a3l8HnU0: Downloading web player API JSON\n"
     ]
    },
    {
     "name": "stderr",
     "output_type": "stream",
     "text": [
      "WARNING: [youtube] <urllib3.connection.HTTPSConnection object at 0x0000023C74600440>: Failed to resolve 'www.youtube.com' ([Errno 11001] getaddrinfo failed). Retrying (1/3)...\n"
     ]
    },
    {
     "name": "stdout",
     "output_type": "stream",
     "text": [
      "[youtube] s32a3l8HnU0: Downloading web player API JSON\n"
     ]
    },
    {
     "name": "stderr",
     "output_type": "stream",
     "text": [
      "WARNING: [youtube] <urllib3.connection.HTTPSConnection object at 0x0000023C745E6F60>: Failed to resolve 'www.youtube.com' ([Errno 11001] getaddrinfo failed). Retrying (2/3)...\n"
     ]
    },
    {
     "name": "stdout",
     "output_type": "stream",
     "text": [
      "[youtube] s32a3l8HnU0: Downloading web player API JSON\n"
     ]
    },
    {
     "name": "stderr",
     "output_type": "stream",
     "text": [
      "WARNING: [youtube] <urllib3.connection.HTTPSConnection object at 0x0000023C745CC050>: Failed to resolve 'www.youtube.com' ([Errno 11001] getaddrinfo failed). Retrying (3/3)...\n"
     ]
    },
    {
     "name": "stdout",
     "output_type": "stream",
     "text": [
      "[youtube] s32a3l8HnU0: Downloading web player API JSON\n"
     ]
    },
    {
     "name": "stderr",
     "output_type": "stream",
     "text": [
      "WARNING: [youtube] Unable to download API page: <urllib3.connection.HTTPSConnection object at 0x0000023C746033E0>: Failed to resolve 'www.youtube.com' ([Errno 11001] getaddrinfo failed) (caused by TransportError(\"<urllib3.connection.HTTPSConnection object at 0x0000023C746033E0>: Failed to resolve 'www.youtube.com' ([Errno 11001] getaddrinfo failed)\"))\n",
      "ERROR: [youtube] s32a3l8HnU0: Failed to extract any player response; please report this issue on  https://github.com/yt-dlp/yt-dlp/issues?q= , filling out the appropriate issue template. Confirm you are on the latest version using  yt-dlp -U\n"
     ]
    },
    {
     "name": "stdout",
     "output_type": "stream",
     "text": [
      "[download] Downloading item 3 of 11\n",
      "[youtube] Extracting URL: https://www.youtube.com/watch?v=tFUc6Pl8SBU\n",
      "[youtube] tFUc6Pl8SBU: Downloading webpage\n"
     ]
    },
    {
     "name": "stderr",
     "output_type": "stream",
     "text": [
      "WARNING: [youtube] <urllib3.connection.HTTPSConnection object at 0x0000023C745E6F60>: Failed to resolve 'www.youtube.com' ([Errno 11001] getaddrinfo failed). Retrying (1/3)...\n"
     ]
    },
    {
     "name": "stdout",
     "output_type": "stream",
     "text": [
      "[youtube] tFUc6Pl8SBU: Downloading webpage\n"
     ]
    },
    {
     "name": "stderr",
     "output_type": "stream",
     "text": [
      "WARNING: [youtube] <urllib3.connection.HTTPSConnection object at 0x0000023C74600290>: Failed to resolve 'www.youtube.com' ([Errno 11001] getaddrinfo failed). Retrying (2/3)...\n"
     ]
    },
    {
     "name": "stdout",
     "output_type": "stream",
     "text": [
      "[youtube] tFUc6Pl8SBU: Downloading webpage\n"
     ]
    },
    {
     "name": "stderr",
     "output_type": "stream",
     "text": [
      "WARNING: [youtube] <urllib3.connection.HTTPSConnection object at 0x0000023C74797B00>: Failed to resolve 'www.youtube.com' ([Errno 11001] getaddrinfo failed). Retrying (3/3)...\n"
     ]
    },
    {
     "name": "stdout",
     "output_type": "stream",
     "text": [
      "[youtube] tFUc6Pl8SBU: Downloading webpage\n"
     ]
    },
    {
     "name": "stderr",
     "output_type": "stream",
     "text": [
      "WARNING: [youtube] Unable to download webpage: <urllib3.connection.HTTPSConnection object at 0x0000023C7588A6F0>: Failed to resolve 'www.youtube.com' ([Errno 11001] getaddrinfo failed) (caused by TransportError(\"<urllib3.connection.HTTPSConnection object at 0x0000023C7588A6F0>: Failed to resolve 'www.youtube.com' ([Errno 11001] getaddrinfo failed)\")). Giving up after 3 retries\n"
     ]
    },
    {
     "name": "stdout",
     "output_type": "stream",
     "text": [
      "[youtube] tFUc6Pl8SBU: Downloading tv client config\n"
     ]
    },
    {
     "name": "stderr",
     "output_type": "stream",
     "text": [
      "WARNING: [youtube] <urllib3.connection.HTTPSConnection object at 0x0000023C767224E0>: Failed to resolve 'www.youtube.com' ([Errno 11001] getaddrinfo failed). Retrying (1/3)...\n"
     ]
    },
    {
     "name": "stdout",
     "output_type": "stream",
     "text": [
      "[youtube] tFUc6Pl8SBU: Downloading tv client config\n"
     ]
    },
    {
     "name": "stderr",
     "output_type": "stream",
     "text": [
      "WARNING: [youtube] <urllib3.connection.HTTPSConnection object at 0x0000023C758BA030>: Failed to resolve 'www.youtube.com' ([Errno 11001] getaddrinfo failed). Retrying (2/3)...\n"
     ]
    },
    {
     "name": "stdout",
     "output_type": "stream",
     "text": [
      "[youtube] tFUc6Pl8SBU: Downloading tv client config\n"
     ]
    },
    {
     "name": "stderr",
     "output_type": "stream",
     "text": [
      "WARNING: [youtube] <urllib3.connection.HTTPSConnection object at 0x0000023C746015B0>: Failed to resolve 'www.youtube.com' ([Errno 11001] getaddrinfo failed). Retrying (3/3)...\n"
     ]
    },
    {
     "name": "stdout",
     "output_type": "stream",
     "text": [
      "[youtube] tFUc6Pl8SBU: Downloading tv client config\n"
     ]
    },
    {
     "name": "stderr",
     "output_type": "stream",
     "text": [
      "WARNING: [youtube] Unable to download webpage: <urllib3.connection.HTTPSConnection object at 0x0000023C74797260>: Failed to resolve 'www.youtube.com' ([Errno 11001] getaddrinfo failed) (caused by TransportError(\"<urllib3.connection.HTTPSConnection object at 0x0000023C74797260>: Failed to resolve 'www.youtube.com' ([Errno 11001] getaddrinfo failed)\")). Giving up after 3 retries\n"
     ]
    },
    {
     "name": "stdout",
     "output_type": "stream",
     "text": [
      "[youtube] tFUc6Pl8SBU: Downloading iframe API JS\n"
     ]
    },
    {
     "name": "stderr",
     "output_type": "stream",
     "text": [
      "WARNING: [youtube] <urllib3.connection.HTTPSConnection object at 0x0000023C758BB200>: Failed to resolve 'www.youtube.com' ([Errno 11001] getaddrinfo failed). Retrying (1/3)...\n"
     ]
    },
    {
     "name": "stdout",
     "output_type": "stream",
     "text": [
      "[youtube] tFUc6Pl8SBU: Downloading iframe API JS\n"
     ]
    },
    {
     "name": "stderr",
     "output_type": "stream",
     "text": [
      "WARNING: [youtube] <urllib3.connection.HTTPSConnection object at 0x0000023C74602F60>: Failed to resolve 'www.youtube.com' ([Errno 11001] getaddrinfo failed). Retrying (2/3)...\n"
     ]
    },
    {
     "name": "stdout",
     "output_type": "stream",
     "text": [
      "[youtube] tFUc6Pl8SBU: Downloading iframe API JS\n"
     ]
    },
    {
     "name": "stderr",
     "output_type": "stream",
     "text": [
      "WARNING: [youtube] <urllib3.connection.HTTPSConnection object at 0x0000023C758BBDD0>: Failed to resolve 'www.youtube.com' ([Errno 11001] getaddrinfo failed). Retrying (3/3)...\n"
     ]
    },
    {
     "name": "stdout",
     "output_type": "stream",
     "text": [
      "[youtube] tFUc6Pl8SBU: Downloading iframe API JS\n"
     ]
    },
    {
     "name": "stderr",
     "output_type": "stream",
     "text": [
      "WARNING: [youtube] Unable to download webpage: <urllib3.connection.HTTPSConnection object at 0x0000023C758BA7E0>: Failed to resolve 'www.youtube.com' ([Errno 11001] getaddrinfo failed) (caused by TransportError(\"<urllib3.connection.HTTPSConnection object at 0x0000023C758BA7E0>: Failed to resolve 'www.youtube.com' ([Errno 11001] getaddrinfo failed)\")). Giving up after 3 retries\n"
     ]
    },
    {
     "name": "stdout",
     "output_type": "stream",
     "text": [
      "[youtube] tFUc6Pl8SBU: Downloading tv player API JSON\n"
     ]
    },
    {
     "name": "stderr",
     "output_type": "stream",
     "text": [
      "WARNING: [youtube] <urllib3.connection.HTTPSConnection object at 0x0000023C7473AF30>: Failed to resolve 'www.youtube.com' ([Errno 11001] getaddrinfo failed). Retrying (1/3)...\n"
     ]
    },
    {
     "name": "stdout",
     "output_type": "stream",
     "text": [
      "[youtube] tFUc6Pl8SBU: Downloading tv player API JSON\n"
     ]
    },
    {
     "name": "stderr",
     "output_type": "stream",
     "text": [
      "WARNING: [youtube] <urllib3.connection.HTTPSConnection object at 0x0000023C746BFBC0>: Failed to resolve 'www.youtube.com' ([Errno 11001] getaddrinfo failed). Retrying (2/3)...\n"
     ]
    },
    {
     "name": "stdout",
     "output_type": "stream",
     "text": [
      "[youtube] tFUc6Pl8SBU: Downloading tv player API JSON\n"
     ]
    },
    {
     "name": "stderr",
     "output_type": "stream",
     "text": [
      "WARNING: [youtube] <urllib3.connection.HTTPSConnection object at 0x0000023C74794530>: Failed to resolve 'www.youtube.com' ([Errno 11001] getaddrinfo failed). Retrying (3/3)...\n"
     ]
    },
    {
     "name": "stdout",
     "output_type": "stream",
     "text": [
      "[youtube] tFUc6Pl8SBU: Downloading tv player API JSON\n"
     ]
    },
    {
     "name": "stderr",
     "output_type": "stream",
     "text": [
      "WARNING: [youtube] Unable to download API page: <urllib3.connection.HTTPSConnection object at 0x0000023C748336E0>: Failed to resolve 'www.youtube.com' ([Errno 11001] getaddrinfo failed) (caused by TransportError(\"<urllib3.connection.HTTPSConnection object at 0x0000023C748336E0>: Failed to resolve 'www.youtube.com' ([Errno 11001] getaddrinfo failed)\"))\n"
     ]
    },
    {
     "name": "stdout",
     "output_type": "stream",
     "text": [
      "[youtube] tFUc6Pl8SBU: Downloading ios player API JSON\n"
     ]
    },
    {
     "name": "stderr",
     "output_type": "stream",
     "text": [
      "WARNING: [youtube] <urllib3.connection.HTTPSConnection object at 0x0000023C7588BE90>: Failed to resolve 'www.youtube.com' ([Errno 11001] getaddrinfo failed). Retrying (1/3)...\n"
     ]
    },
    {
     "name": "stdout",
     "output_type": "stream",
     "text": [
      "[youtube] tFUc6Pl8SBU: Downloading ios player API JSON\n"
     ]
    },
    {
     "name": "stderr",
     "output_type": "stream",
     "text": [
      "WARNING: [youtube] <urllib3.connection.HTTPSConnection object at 0x0000023C758BA360>: Failed to resolve 'www.youtube.com' ([Errno 11001] getaddrinfo failed). Retrying (2/3)...\n"
     ]
    },
    {
     "name": "stdout",
     "output_type": "stream",
     "text": [
      "[youtube] tFUc6Pl8SBU: Downloading ios player API JSON\n"
     ]
    },
    {
     "name": "stderr",
     "output_type": "stream",
     "text": [
      "WARNING: [youtube] <urllib3.connection.HTTPSConnection object at 0x0000023C746BF0E0>: Failed to resolve 'www.youtube.com' ([Errno 11001] getaddrinfo failed). Retrying (3/3)...\n"
     ]
    },
    {
     "name": "stdout",
     "output_type": "stream",
     "text": [
      "[youtube] tFUc6Pl8SBU: Downloading ios player API JSON\n"
     ]
    },
    {
     "name": "stderr",
     "output_type": "stream",
     "text": [
      "WARNING: [youtube] Unable to download API page: <urllib3.connection.HTTPSConnection object at 0x0000023C74603770>: Failed to resolve 'www.youtube.com' ([Errno 11001] getaddrinfo failed) (caused by TransportError(\"<urllib3.connection.HTTPSConnection object at 0x0000023C74603770>: Failed to resolve 'www.youtube.com' ([Errno 11001] getaddrinfo failed)\"))\n"
     ]
    },
    {
     "name": "stdout",
     "output_type": "stream",
     "text": [
      "[youtube] tFUc6Pl8SBU: Downloading web player API JSON\n"
     ]
    },
    {
     "name": "stderr",
     "output_type": "stream",
     "text": [
      "WARNING: [youtube] <urllib3.connection.HTTPSConnection object at 0x0000023C76720680>: Failed to resolve 'www.youtube.com' ([Errno 11001] getaddrinfo failed). Retrying (1/3)...\n"
     ]
    },
    {
     "name": "stdout",
     "output_type": "stream",
     "text": [
      "[youtube] tFUc6Pl8SBU: Downloading web player API JSON\n"
     ]
    },
    {
     "name": "stderr",
     "output_type": "stream",
     "text": [
      "WARNING: [youtube] <urllib3.connection.HTTPSConnection object at 0x0000023C758B9340>: Failed to resolve 'www.youtube.com' ([Errno 11001] getaddrinfo failed). Retrying (2/3)...\n"
     ]
    },
    {
     "name": "stdout",
     "output_type": "stream",
     "text": [
      "[youtube] tFUc6Pl8SBU: Downloading web player API JSON\n"
     ]
    },
    {
     "name": "stderr",
     "output_type": "stream",
     "text": [
      "WARNING: [youtube] <urllib3.connection.HTTPSConnection object at 0x0000023C746BD6A0>: Failed to resolve 'www.youtube.com' ([Errno 11001] getaddrinfo failed). Retrying (3/3)...\n"
     ]
    },
    {
     "name": "stdout",
     "output_type": "stream",
     "text": [
      "[youtube] tFUc6Pl8SBU: Downloading web player API JSON\n"
     ]
    },
    {
     "name": "stderr",
     "output_type": "stream",
     "text": [
      "WARNING: [youtube] Unable to download API page: <urllib3.connection.HTTPSConnection object at 0x0000023C7588A6C0>: Failed to resolve 'www.youtube.com' ([Errno 11001] getaddrinfo failed) (caused by TransportError(\"<urllib3.connection.HTTPSConnection object at 0x0000023C7588A6C0>: Failed to resolve 'www.youtube.com' ([Errno 11001] getaddrinfo failed)\"))\n",
      "ERROR: [youtube] tFUc6Pl8SBU: Failed to extract any player response; please report this issue on  https://github.com/yt-dlp/yt-dlp/issues?q= , filling out the appropriate issue template. Confirm you are on the latest version using  yt-dlp -U\n"
     ]
    },
    {
     "name": "stdout",
     "output_type": "stream",
     "text": [
      "[download] Downloading item 4 of 11\n",
      "[youtube] Extracting URL: https://www.youtube.com/watch?v=dyqzMUfcjC0\n",
      "[youtube] dyqzMUfcjC0: Downloading webpage\n"
     ]
    },
    {
     "name": "stderr",
     "output_type": "stream",
     "text": [
      "WARNING: [youtube] <urllib3.connection.HTTPSConnection object at 0x0000023C74600860>: Failed to resolve 'www.youtube.com' ([Errno 11001] getaddrinfo failed). Retrying (1/3)...\n"
     ]
    },
    {
     "name": "stdout",
     "output_type": "stream",
     "text": [
      "[youtube] dyqzMUfcjC0: Downloading webpage\n"
     ]
    },
    {
     "name": "stderr",
     "output_type": "stream",
     "text": [
      "WARNING: [youtube] <urllib3.connection.HTTPSConnection object at 0x0000023C746BD7C0>: Failed to resolve 'www.youtube.com' ([Errno 11001] getaddrinfo failed). Retrying (2/3)...\n"
     ]
    },
    {
     "name": "stdout",
     "output_type": "stream",
     "text": [
      "[youtube] dyqzMUfcjC0: Downloading webpage\n"
     ]
    },
    {
     "name": "stderr",
     "output_type": "stream",
     "text": [
      "WARNING: [youtube] <urllib3.connection.HTTPSConnection object at 0x0000023C75888A10>: Failed to resolve 'www.youtube.com' ([Errno 11001] getaddrinfo failed). Retrying (3/3)...\n"
     ]
    },
    {
     "name": "stdout",
     "output_type": "stream",
     "text": [
      "[youtube] dyqzMUfcjC0: Downloading webpage\n"
     ]
    },
    {
     "name": "stderr",
     "output_type": "stream",
     "text": [
      "WARNING: [youtube] Unable to download webpage: <urllib3.connection.HTTPSConnection object at 0x0000023C74603890>: Failed to resolve 'www.youtube.com' ([Errno 11001] getaddrinfo failed) (caused by TransportError(\"<urllib3.connection.HTTPSConnection object at 0x0000023C74603890>: Failed to resolve 'www.youtube.com' ([Errno 11001] getaddrinfo failed)\")). Giving up after 3 retries\n"
     ]
    },
    {
     "name": "stdout",
     "output_type": "stream",
     "text": [
      "[youtube] dyqzMUfcjC0: Downloading tv client config\n"
     ]
    },
    {
     "name": "stderr",
     "output_type": "stream",
     "text": [
      "WARNING: [youtube] <urllib3.connection.HTTPSConnection object at 0x0000023C746BE3F0>: Failed to resolve 'www.youtube.com' ([Errno 11001] getaddrinfo failed). Retrying (1/3)...\n"
     ]
    },
    {
     "name": "stdout",
     "output_type": "stream",
     "text": [
      "[youtube] dyqzMUfcjC0: Downloading tv client config\n"
     ]
    },
    {
     "name": "stderr",
     "output_type": "stream",
     "text": [
      "WARNING: [youtube] <urllib3.connection.HTTPSConnection object at 0x0000023C74602C00>: Failed to resolve 'www.youtube.com' ([Errno 11001] getaddrinfo failed). Retrying (2/3)...\n"
     ]
    },
    {
     "name": "stdout",
     "output_type": "stream",
     "text": [
      "[youtube] dyqzMUfcjC0: Downloading tv client config\n"
     ]
    },
    {
     "name": "stderr",
     "output_type": "stream",
     "text": [
      "WARNING: [youtube] <urllib3.connection.HTTPSConnection object at 0x0000023C7464CA70>: Failed to resolve 'www.youtube.com' ([Errno 11001] getaddrinfo failed). Retrying (3/3)...\n"
     ]
    },
    {
     "name": "stdout",
     "output_type": "stream",
     "text": [
      "[youtube] dyqzMUfcjC0: Downloading tv client config\n"
     ]
    },
    {
     "name": "stderr",
     "output_type": "stream",
     "text": [
      "WARNING: [youtube] Unable to download webpage: <urllib3.connection.HTTPSConnection object at 0x0000023C74833230>: Failed to resolve 'www.youtube.com' ([Errno 11001] getaddrinfo failed) (caused by TransportError(\"<urllib3.connection.HTTPSConnection object at 0x0000023C74833230>: Failed to resolve 'www.youtube.com' ([Errno 11001] getaddrinfo failed)\")). Giving up after 3 retries\n"
     ]
    },
    {
     "name": "stdout",
     "output_type": "stream",
     "text": [
      "[youtube] dyqzMUfcjC0: Downloading iframe API JS\n"
     ]
    },
    {
     "name": "stderr",
     "output_type": "stream",
     "text": [
      "WARNING: [youtube] <urllib3.connection.HTTPSConnection object at 0x0000023C7588A7E0>: Failed to resolve 'www.youtube.com' ([Errno 11001] getaddrinfo failed). Retrying (1/3)...\n"
     ]
    },
    {
     "name": "stdout",
     "output_type": "stream",
     "text": [
      "[youtube] dyqzMUfcjC0: Downloading iframe API JS\n"
     ]
    },
    {
     "name": "stderr",
     "output_type": "stream",
     "text": [
      "WARNING: [youtube] <urllib3.connection.HTTPSConnection object at 0x0000023C7464ECC0>: Failed to resolve 'www.youtube.com' ([Errno 11001] getaddrinfo failed). Retrying (2/3)...\n"
     ]
    },
    {
     "name": "stdout",
     "output_type": "stream",
     "text": [
      "[youtube] dyqzMUfcjC0: Downloading iframe API JS\n"
     ]
    },
    {
     "name": "stderr",
     "output_type": "stream",
     "text": [
      "WARNING: [youtube] <urllib3.connection.HTTPSConnection object at 0x0000023C745E6F30>: Failed to resolve 'www.youtube.com' ([Errno 11001] getaddrinfo failed). Retrying (3/3)...\n"
     ]
    },
    {
     "name": "stdout",
     "output_type": "stream",
     "text": [
      "[youtube] dyqzMUfcjC0: Downloading iframe API JS\n"
     ]
    },
    {
     "name": "stderr",
     "output_type": "stream",
     "text": [
      "WARNING: [youtube] Unable to download webpage: <urllib3.connection.HTTPSConnection object at 0x0000023C758BACF0>: Failed to resolve 'www.youtube.com' ([Errno 11001] getaddrinfo failed) (caused by TransportError(\"<urllib3.connection.HTTPSConnection object at 0x0000023C758BACF0>: Failed to resolve 'www.youtube.com' ([Errno 11001] getaddrinfo failed)\")). Giving up after 3 retries\n"
     ]
    },
    {
     "name": "stdout",
     "output_type": "stream",
     "text": [
      "[youtube] dyqzMUfcjC0: Downloading tv player API JSON\n"
     ]
    },
    {
     "name": "stderr",
     "output_type": "stream",
     "text": [
      "WARNING: [youtube] <urllib3.connection.HTTPSConnection object at 0x0000023C75888800>: Failed to resolve 'www.youtube.com' ([Errno 11001] getaddrinfo failed). Retrying (1/3)...\n"
     ]
    },
    {
     "name": "stdout",
     "output_type": "stream",
     "text": [
      "[youtube] dyqzMUfcjC0: Downloading tv player API JSON\n"
     ]
    },
    {
     "name": "stderr",
     "output_type": "stream",
     "text": [
      "WARNING: [youtube] <urllib3.connection.HTTPSConnection object at 0x0000023C758BBDD0>: Failed to resolve 'www.youtube.com' ([Errno 11001] getaddrinfo failed). Retrying (2/3)...\n"
     ]
    },
    {
     "name": "stdout",
     "output_type": "stream",
     "text": [
      "[youtube] dyqzMUfcjC0: Downloading tv player API JSON\n"
     ]
    },
    {
     "name": "stderr",
     "output_type": "stream",
     "text": [
      "WARNING: [youtube] <urllib3.connection.HTTPSConnection object at 0x0000023C746BD8E0>: Failed to resolve 'www.youtube.com' ([Errno 11001] getaddrinfo failed). Retrying (3/3)...\n"
     ]
    },
    {
     "name": "stdout",
     "output_type": "stream",
     "text": [
      "[youtube] dyqzMUfcjC0: Downloading tv player API JSON\n"
     ]
    },
    {
     "name": "stderr",
     "output_type": "stream",
     "text": [
      "WARNING: [youtube] Unable to download API page: <urllib3.connection.HTTPSConnection object at 0x0000023C7588BEC0>: Failed to resolve 'www.youtube.com' ([Errno 11001] getaddrinfo failed) (caused by TransportError(\"<urllib3.connection.HTTPSConnection object at 0x0000023C7588BEC0>: Failed to resolve 'www.youtube.com' ([Errno 11001] getaddrinfo failed)\"))\n"
     ]
    },
    {
     "name": "stdout",
     "output_type": "stream",
     "text": [
      "[youtube] dyqzMUfcjC0: Downloading ios player API JSON\n"
     ]
    },
    {
     "name": "stderr",
     "output_type": "stream",
     "text": [
      "WARNING: [youtube] <urllib3.connection.HTTPSConnection object at 0x0000023C74833110>: Failed to resolve 'www.youtube.com' ([Errno 11001] getaddrinfo failed). Retrying (1/3)...\n"
     ]
    },
    {
     "name": "stdout",
     "output_type": "stream",
     "text": [
      "[youtube] dyqzMUfcjC0: Downloading ios player API JSON\n"
     ]
    },
    {
     "name": "stderr",
     "output_type": "stream",
     "text": [
      "WARNING: [youtube] <urllib3.connection.HTTPSConnection object at 0x0000023C75889A60>: Failed to resolve 'www.youtube.com' ([Errno 11001] getaddrinfo failed). Retrying (2/3)...\n"
     ]
    },
    {
     "name": "stdout",
     "output_type": "stream",
     "text": [
      "[youtube] dyqzMUfcjC0: Downloading ios player API JSON\n"
     ]
    },
    {
     "name": "stderr",
     "output_type": "stream",
     "text": [
      "WARNING: [youtube] <urllib3.connection.HTTPSConnection object at 0x0000023C745CFE60>: Failed to resolve 'www.youtube.com' ([Errno 11001] getaddrinfo failed). Retrying (3/3)...\n"
     ]
    },
    {
     "name": "stdout",
     "output_type": "stream",
     "text": [
      "[youtube] dyqzMUfcjC0: Downloading ios player API JSON\n"
     ]
    },
    {
     "name": "stderr",
     "output_type": "stream",
     "text": [
      "WARNING: [youtube] Unable to download API page: <urllib3.connection.HTTPSConnection object at 0x0000023C74602CC0>: Failed to resolve 'www.youtube.com' ([Errno 11001] getaddrinfo failed) (caused by TransportError(\"<urllib3.connection.HTTPSConnection object at 0x0000023C74602CC0>: Failed to resolve 'www.youtube.com' ([Errno 11001] getaddrinfo failed)\"))\n"
     ]
    },
    {
     "name": "stdout",
     "output_type": "stream",
     "text": [
      "[youtube] dyqzMUfcjC0: Downloading web player API JSON\n"
     ]
    },
    {
     "name": "stderr",
     "output_type": "stream",
     "text": [
      "WARNING: [youtube] <urllib3.connection.HTTPSConnection object at 0x0000023C746028D0>: Failed to resolve 'www.youtube.com' ([Errno 11001] getaddrinfo failed). Retrying (1/3)...\n"
     ]
    },
    {
     "name": "stdout",
     "output_type": "stream",
     "text": [
      "[youtube] dyqzMUfcjC0: Downloading web player API JSON\n"
     ]
    },
    {
     "name": "stderr",
     "output_type": "stream",
     "text": [
      "WARNING: [youtube] <urllib3.connection.HTTPSConnection object at 0x0000023C767234D0>: Failed to resolve 'www.youtube.com' ([Errno 11001] getaddrinfo failed). Retrying (2/3)...\n"
     ]
    },
    {
     "name": "stdout",
     "output_type": "stream",
     "text": [
      "[youtube] dyqzMUfcjC0: Downloading web player API JSON\n"
     ]
    },
    {
     "name": "stderr",
     "output_type": "stream",
     "text": [
      "WARNING: [youtube] <urllib3.connection.HTTPSConnection object at 0x0000023C7464D610>: Failed to resolve 'www.youtube.com' ([Errno 11001] getaddrinfo failed). Retrying (3/3)...\n"
     ]
    },
    {
     "name": "stdout",
     "output_type": "stream",
     "text": [
      "[youtube] dyqzMUfcjC0: Downloading web player API JSON\n"
     ]
    },
    {
     "name": "stderr",
     "output_type": "stream",
     "text": [
      "WARNING: [youtube] Unable to download API page: <urllib3.connection.HTTPSConnection object at 0x0000023C74601C70>: Failed to resolve 'www.youtube.com' ([Errno 11001] getaddrinfo failed) (caused by TransportError(\"<urllib3.connection.HTTPSConnection object at 0x0000023C74601C70>: Failed to resolve 'www.youtube.com' ([Errno 11001] getaddrinfo failed)\"))\n",
      "ERROR: [youtube] dyqzMUfcjC0: Failed to extract any player response; please report this issue on  https://github.com/yt-dlp/yt-dlp/issues?q= , filling out the appropriate issue template. Confirm you are on the latest version using  yt-dlp -U\n"
     ]
    },
    {
     "name": "stdout",
     "output_type": "stream",
     "text": [
      "[download] Downloading item 5 of 11\n",
      "[youtube] Extracting URL: https://www.youtube.com/watch?v=Ezb7joATW10\n",
      "[youtube] Ezb7joATW10: Downloading webpage\n"
     ]
    },
    {
     "name": "stderr",
     "output_type": "stream",
     "text": [
      "WARNING: [youtube] <urllib3.connection.HTTPSConnection object at 0x0000023C758B9F70>: Failed to resolve 'www.youtube.com' ([Errno 11001] getaddrinfo failed). Retrying (1/3)...\n"
     ]
    },
    {
     "name": "stdout",
     "output_type": "stream",
     "text": [
      "[youtube] Ezb7joATW10: Downloading webpage\n"
     ]
    },
    {
     "name": "stderr",
     "output_type": "stream",
     "text": [
      "WARNING: [youtube] <urllib3.connection.HTTPSConnection object at 0x0000023C7588A990>: Failed to resolve 'www.youtube.com' ([Errno 11001] getaddrinfo failed). Retrying (2/3)...\n"
     ]
    },
    {
     "name": "stdout",
     "output_type": "stream",
     "text": [
      "[youtube] Ezb7joATW10: Downloading webpage\n"
     ]
    },
    {
     "name": "stderr",
     "output_type": "stream",
     "text": [
      "WARNING: [youtube] <urllib3.connection.HTTPSConnection object at 0x0000023C745E7B60>: Failed to resolve 'www.youtube.com' ([Errno 11001] getaddrinfo failed). Retrying (3/3)...\n"
     ]
    },
    {
     "name": "stdout",
     "output_type": "stream",
     "text": [
      "[youtube] Ezb7joATW10: Downloading webpage\n"
     ]
    },
    {
     "name": "stderr",
     "output_type": "stream",
     "text": [
      "WARNING: [youtube] Unable to download webpage: <urllib3.connection.HTTPSConnection object at 0x0000023C747BC9B0>: Failed to resolve 'www.youtube.com' ([Errno 11001] getaddrinfo failed) (caused by TransportError(\"<urllib3.connection.HTTPSConnection object at 0x0000023C747BC9B0>: Failed to resolve 'www.youtube.com' ([Errno 11001] getaddrinfo failed)\")). Giving up after 3 retries\n"
     ]
    },
    {
     "name": "stdout",
     "output_type": "stream",
     "text": [
      "[youtube] Ezb7joATW10: Downloading tv client config\n"
     ]
    },
    {
     "name": "stderr",
     "output_type": "stream",
     "text": [
      "WARNING: [youtube] <urllib3.connection.HTTPSConnection object at 0x0000023C74602120>: Failed to resolve 'www.youtube.com' ([Errno 11001] getaddrinfo failed). Retrying (1/3)...\n"
     ]
    },
    {
     "name": "stdout",
     "output_type": "stream",
     "text": [
      "[youtube] Ezb7joATW10: Downloading tv client config\n"
     ]
    },
    {
     "name": "stderr",
     "output_type": "stream",
     "text": [
      "WARNING: [youtube] <urllib3.connection.HTTPSConnection object at 0x0000023C747BC0B0>: Failed to resolve 'www.youtube.com' ([Errno 11001] getaddrinfo failed). Retrying (2/3)...\n"
     ]
    },
    {
     "name": "stdout",
     "output_type": "stream",
     "text": [
      "[youtube] Ezb7joATW10: Downloading tv client config\n"
     ]
    },
    {
     "name": "stderr",
     "output_type": "stream",
     "text": [
      "WARNING: [youtube] <urllib3.connection.HTTPSConnection object at 0x0000023C745E6150>: Failed to resolve 'www.youtube.com' ([Errno 11001] getaddrinfo failed). Retrying (3/3)...\n"
     ]
    },
    {
     "name": "stdout",
     "output_type": "stream",
     "text": [
      "[youtube] Ezb7joATW10: Downloading tv client config\n"
     ]
    },
    {
     "name": "stderr",
     "output_type": "stream",
     "text": [
      "WARNING: [youtube] Unable to download webpage: <urllib3.connection.HTTPSConnection object at 0x0000023C74601070>: Failed to resolve 'www.youtube.com' ([Errno 11001] getaddrinfo failed) (caused by TransportError(\"<urllib3.connection.HTTPSConnection object at 0x0000023C74601070>: Failed to resolve 'www.youtube.com' ([Errno 11001] getaddrinfo failed)\")). Giving up after 3 retries\n"
     ]
    },
    {
     "name": "stdout",
     "output_type": "stream",
     "text": [
      "[youtube] Ezb7joATW10: Downloading iframe API JS\n"
     ]
    },
    {
     "name": "stderr",
     "output_type": "stream",
     "text": [
      "WARNING: [youtube] <urllib3.connection.HTTPSConnection object at 0x0000023C74600260>: Failed to resolve 'www.youtube.com' ([Errno 11001] getaddrinfo failed). Retrying (1/3)...\n"
     ]
    },
    {
     "name": "stdout",
     "output_type": "stream",
     "text": [
      "[youtube] Ezb7joATW10: Downloading iframe API JS\n"
     ]
    },
    {
     "name": "stderr",
     "output_type": "stream",
     "text": [
      "WARNING: [youtube] <urllib3.connection.HTTPSConnection object at 0x0000023C745CC140>: Failed to resolve 'www.youtube.com' ([Errno 11001] getaddrinfo failed). Retrying (2/3)...\n"
     ]
    },
    {
     "name": "stdout",
     "output_type": "stream",
     "text": [
      "[youtube] Ezb7joATW10: Downloading iframe API JS\n"
     ]
    },
    {
     "name": "stderr",
     "output_type": "stream",
     "text": [
      "WARNING: [youtube] <urllib3.connection.HTTPSConnection object at 0x0000023C75889E80>: Failed to resolve 'www.youtube.com' ([Errno 11001] getaddrinfo failed). Retrying (3/3)...\n"
     ]
    },
    {
     "name": "stdout",
     "output_type": "stream",
     "text": [
      "[youtube] Ezb7joATW10: Downloading iframe API JS\n"
     ]
    },
    {
     "name": "stderr",
     "output_type": "stream",
     "text": [
      "WARNING: [youtube] Unable to download webpage: <urllib3.connection.HTTPSConnection object at 0x0000023C75889190>: Failed to resolve 'www.youtube.com' ([Errno 11001] getaddrinfo failed) (caused by TransportError(\"<urllib3.connection.HTTPSConnection object at 0x0000023C75889190>: Failed to resolve 'www.youtube.com' ([Errno 11001] getaddrinfo failed)\")). Giving up after 3 retries\n"
     ]
    },
    {
     "name": "stdout",
     "output_type": "stream",
     "text": [
      "[youtube] Ezb7joATW10: Downloading tv player API JSON\n"
     ]
    },
    {
     "name": "stderr",
     "output_type": "stream",
     "text": [
      "WARNING: [youtube] <urllib3.connection.HTTPSConnection object at 0x0000023C74601880>: Failed to resolve 'www.youtube.com' ([Errno 11001] getaddrinfo failed). Retrying (1/3)...\n"
     ]
    },
    {
     "name": "stdout",
     "output_type": "stream",
     "text": [
      "[youtube] Ezb7joATW10: Downloading tv player API JSON\n"
     ]
    },
    {
     "name": "stderr",
     "output_type": "stream",
     "text": [
      "WARNING: [youtube] <urllib3.connection.HTTPSConnection object at 0x0000023C7464C050>: Failed to resolve 'www.youtube.com' ([Errno 11001] getaddrinfo failed). Retrying (2/3)...\n"
     ]
    },
    {
     "name": "stdout",
     "output_type": "stream",
     "text": [
      "[youtube] Ezb7joATW10: Downloading tv player API JSON\n"
     ]
    },
    {
     "name": "stderr",
     "output_type": "stream",
     "text": [
      "WARNING: [youtube] <urllib3.connection.HTTPSConnection object at 0x0000023C746BFF20>: Failed to resolve 'www.youtube.com' ([Errno 11001] getaddrinfo failed). Retrying (3/3)...\n"
     ]
    },
    {
     "name": "stdout",
     "output_type": "stream",
     "text": [
      "[youtube] Ezb7joATW10: Downloading tv player API JSON\n"
     ]
    },
    {
     "name": "stderr",
     "output_type": "stream",
     "text": [
      "WARNING: [youtube] Unable to download API page: <urllib3.connection.HTTPSConnection object at 0x0000023C745E70B0>: Failed to resolve 'www.youtube.com' ([Errno 11001] getaddrinfo failed) (caused by TransportError(\"<urllib3.connection.HTTPSConnection object at 0x0000023C745E70B0>: Failed to resolve 'www.youtube.com' ([Errno 11001] getaddrinfo failed)\"))\n"
     ]
    },
    {
     "name": "stdout",
     "output_type": "stream",
     "text": [
      "[youtube] Ezb7joATW10: Downloading ios player API JSON\n"
     ]
    },
    {
     "name": "stderr",
     "output_type": "stream",
     "text": [
      "WARNING: [youtube] <urllib3.connection.HTTPSConnection object at 0x0000023C7464CFE0>: Failed to resolve 'www.youtube.com' ([Errno 11001] getaddrinfo failed). Retrying (1/3)...\n"
     ]
    },
    {
     "name": "stdout",
     "output_type": "stream",
     "text": [
      "[youtube] Ezb7joATW10: Downloading ios player API JSON\n"
     ]
    },
    {
     "name": "stderr",
     "output_type": "stream",
     "text": [
      "WARNING: [youtube] <urllib3.connection.HTTPSConnection object at 0x0000023C758BA420>: Failed to resolve 'www.youtube.com' ([Errno 11001] getaddrinfo failed). Retrying (2/3)...\n"
     ]
    },
    {
     "name": "stdout",
     "output_type": "stream",
     "text": [
      "[youtube] Ezb7joATW10: Downloading ios player API JSON\n"
     ]
    },
    {
     "name": "stderr",
     "output_type": "stream",
     "text": [
      "WARNING: [youtube] <urllib3.connection.HTTPSConnection object at 0x0000023C7464DE50>: Failed to resolve 'www.youtube.com' ([Errno 11001] getaddrinfo failed). Retrying (3/3)...\n"
     ]
    },
    {
     "name": "stdout",
     "output_type": "stream",
     "text": [
      "[youtube] Ezb7joATW10: Downloading ios player API JSON\n"
     ]
    },
    {
     "name": "stderr",
     "output_type": "stream",
     "text": [
      "WARNING: [youtube] Unable to download API page: <urllib3.connection.HTTPSConnection object at 0x0000023C74600590>: Failed to resolve 'www.youtube.com' ([Errno 11001] getaddrinfo failed) (caused by TransportError(\"<urllib3.connection.HTTPSConnection object at 0x0000023C74600590>: Failed to resolve 'www.youtube.com' ([Errno 11001] getaddrinfo failed)\"))\n"
     ]
    },
    {
     "name": "stdout",
     "output_type": "stream",
     "text": [
      "[youtube] Ezb7joATW10: Downloading web player API JSON\n"
     ]
    },
    {
     "name": "stderr",
     "output_type": "stream",
     "text": [
      "WARNING: [youtube] <urllib3.connection.HTTPSConnection object at 0x0000023C7464EF00>: Failed to resolve 'www.youtube.com' ([Errno 11001] getaddrinfo failed). Retrying (1/3)...\n"
     ]
    },
    {
     "name": "stdout",
     "output_type": "stream",
     "text": [
      "[youtube] Ezb7joATW10: Downloading web player API JSON\n"
     ]
    },
    {
     "name": "stderr",
     "output_type": "stream",
     "text": [
      "WARNING: [youtube] <urllib3.connection.HTTPSConnection object at 0x0000023C75890F50>: Failed to resolve 'www.youtube.com' ([Errno 11001] getaddrinfo failed). Retrying (2/3)...\n"
     ]
    },
    {
     "name": "stdout",
     "output_type": "stream",
     "text": [
      "[youtube] Ezb7joATW10: Downloading web player API JSON\n"
     ]
    },
    {
     "name": "stderr",
     "output_type": "stream",
     "text": [
      "WARNING: [youtube] <urllib3.connection.HTTPSConnection object at 0x0000023C76721DC0>: Failed to resolve 'www.youtube.com' ([Errno 11001] getaddrinfo failed). Retrying (3/3)...\n"
     ]
    },
    {
     "name": "stdout",
     "output_type": "stream",
     "text": [
      "[youtube] Ezb7joATW10: Downloading web player API JSON\n"
     ]
    },
    {
     "name": "stderr",
     "output_type": "stream",
     "text": [
      "WARNING: [youtube] Unable to download API page: <urllib3.connection.HTTPSConnection object at 0x0000023C746021E0>: Failed to resolve 'www.youtube.com' ([Errno 11001] getaddrinfo failed) (caused by TransportError(\"<urllib3.connection.HTTPSConnection object at 0x0000023C746021E0>: Failed to resolve 'www.youtube.com' ([Errno 11001] getaddrinfo failed)\"))\n",
      "ERROR: [youtube] Ezb7joATW10: Failed to extract any player response; please report this issue on  https://github.com/yt-dlp/yt-dlp/issues?q= , filling out the appropriate issue template. Confirm you are on the latest version using  yt-dlp -U\n"
     ]
    },
    {
     "name": "stdout",
     "output_type": "stream",
     "text": [
      "[download] Downloading item 6 of 11\n",
      "[youtube] Extracting URL: https://www.youtube.com/watch?v=xmMuFdnArxc\n",
      "[youtube] xmMuFdnArxc: Downloading webpage\n"
     ]
    },
    {
     "name": "stderr",
     "output_type": "stream",
     "text": [
      "WARNING: [youtube] <urllib3.connection.HTTPSConnection object at 0x0000023C758B8080>: Failed to resolve 'www.youtube.com' ([Errno 11001] getaddrinfo failed). Retrying (1/3)...\n"
     ]
    },
    {
     "name": "stdout",
     "output_type": "stream",
     "text": [
      "[youtube] xmMuFdnArxc: Downloading webpage\n"
     ]
    },
    {
     "name": "stderr",
     "output_type": "stream",
     "text": [
      "WARNING: [youtube] <urllib3.connection.HTTPSConnection object at 0x0000023C745E40E0>: Failed to resolve 'www.youtube.com' ([Errno 11001] getaddrinfo failed). Retrying (2/3)...\n"
     ]
    },
    {
     "name": "stdout",
     "output_type": "stream",
     "text": [
      "[youtube] xmMuFdnArxc: Downloading webpage\n"
     ]
    },
    {
     "name": "stderr",
     "output_type": "stream",
     "text": [
      "WARNING: [youtube] <urllib3.connection.HTTPSConnection object at 0x0000023C767238F0>: Failed to resolve 'www.youtube.com' ([Errno 11001] getaddrinfo failed). Retrying (3/3)...\n"
     ]
    },
    {
     "name": "stdout",
     "output_type": "stream",
     "text": [
      "[youtube] xmMuFdnArxc: Downloading webpage\n"
     ]
    },
    {
     "name": "stderr",
     "output_type": "stream",
     "text": [
      "WARNING: [youtube] Unable to download webpage: <urllib3.connection.HTTPSConnection object at 0x0000023C74601D60>: Failed to resolve 'www.youtube.com' ([Errno 11001] getaddrinfo failed) (caused by TransportError(\"<urllib3.connection.HTTPSConnection object at 0x0000023C74601D60>: Failed to resolve 'www.youtube.com' ([Errno 11001] getaddrinfo failed)\")). Giving up after 3 retries\n"
     ]
    },
    {
     "name": "stdout",
     "output_type": "stream",
     "text": [
      "[youtube] xmMuFdnArxc: Downloading tv client config\n"
     ]
    },
    {
     "name": "stderr",
     "output_type": "stream",
     "text": [
      "WARNING: [youtube] <urllib3.connection.HTTPSConnection object at 0x0000023C767201D0>: Failed to resolve 'www.youtube.com' ([Errno 11001] getaddrinfo failed). Retrying (1/3)...\n"
     ]
    },
    {
     "name": "stdout",
     "output_type": "stream",
     "text": [
      "[youtube] xmMuFdnArxc: Downloading tv client config\n"
     ]
    },
    {
     "name": "stderr",
     "output_type": "stream",
     "text": [
      "WARNING: [youtube] <urllib3.connection.HTTPSConnection object at 0x0000023C745E4D10>: Failed to resolve 'www.youtube.com' ([Errno 11001] getaddrinfo failed). Retrying (2/3)...\n"
     ]
    },
    {
     "name": "stdout",
     "output_type": "stream",
     "text": [
      "[youtube] xmMuFdnArxc: Downloading tv client config\n"
     ]
    },
    {
     "name": "stderr",
     "output_type": "stream",
     "text": [
      "WARNING: [youtube] <urllib3.connection.HTTPSConnection object at 0x0000023C7588B740>: Failed to resolve 'www.youtube.com' ([Errno 11001] getaddrinfo failed). Retrying (3/3)...\n"
     ]
    },
    {
     "name": "stdout",
     "output_type": "stream",
     "text": [
      "[youtube] xmMuFdnArxc: Downloading tv client config\n"
     ]
    },
    {
     "name": "stderr",
     "output_type": "stream",
     "text": [
      "WARNING: [youtube] Unable to download webpage: <urllib3.connection.HTTPSConnection object at 0x0000023C745CC0B0>: Failed to resolve 'www.youtube.com' ([Errno 11001] getaddrinfo failed) (caused by TransportError(\"<urllib3.connection.HTTPSConnection object at 0x0000023C745CC0B0>: Failed to resolve 'www.youtube.com' ([Errno 11001] getaddrinfo failed)\")). Giving up after 3 retries\n"
     ]
    },
    {
     "name": "stdout",
     "output_type": "stream",
     "text": [
      "[youtube] xmMuFdnArxc: Downloading iframe API JS\n"
     ]
    },
    {
     "name": "stderr",
     "output_type": "stream",
     "text": [
      "WARNING: [youtube] <urllib3.connection.HTTPSConnection object at 0x0000023C74600260>: Failed to resolve 'www.youtube.com' ([Errno 11001] getaddrinfo failed). Retrying (1/3)...\n"
     ]
    },
    {
     "name": "stdout",
     "output_type": "stream",
     "text": [
      "[youtube] xmMuFdnArxc: Downloading iframe API JS\n"
     ]
    },
    {
     "name": "stderr",
     "output_type": "stream",
     "text": [
      "WARNING: [youtube] <urllib3.connection.HTTPSConnection object at 0x0000023C7464CB00>: Failed to resolve 'www.youtube.com' ([Errno 11001] getaddrinfo failed). Retrying (2/3)...\n"
     ]
    },
    {
     "name": "stdout",
     "output_type": "stream",
     "text": [
      "[youtube] xmMuFdnArxc: Downloading iframe API JS\n"
     ]
    },
    {
     "name": "stderr",
     "output_type": "stream",
     "text": [
      "WARNING: [youtube] <urllib3.connection.HTTPSConnection object at 0x0000023C74603C80>: Failed to resolve 'www.youtube.com' ([Errno 11001] getaddrinfo failed). Retrying (3/3)...\n"
     ]
    },
    {
     "name": "stdout",
     "output_type": "stream",
     "text": [
      "[youtube] xmMuFdnArxc: Downloading iframe API JS\n"
     ]
    },
    {
     "name": "stderr",
     "output_type": "stream",
     "text": [
      "WARNING: [youtube] Unable to download webpage: <urllib3.connection.HTTPSConnection object at 0x0000023C745E6D50>: Failed to resolve 'www.youtube.com' ([Errno 11001] getaddrinfo failed) (caused by TransportError(\"<urllib3.connection.HTTPSConnection object at 0x0000023C745E6D50>: Failed to resolve 'www.youtube.com' ([Errno 11001] getaddrinfo failed)\")). Giving up after 3 retries\n"
     ]
    },
    {
     "name": "stdout",
     "output_type": "stream",
     "text": [
      "[youtube] xmMuFdnArxc: Downloading tv player API JSON\n"
     ]
    },
    {
     "name": "stderr",
     "output_type": "stream",
     "text": [
      "WARNING: [youtube] <urllib3.connection.HTTPSConnection object at 0x0000023C746BE4E0>: Failed to resolve 'www.youtube.com' ([Errno 11001] getaddrinfo failed). Retrying (1/3)...\n"
     ]
    },
    {
     "name": "stdout",
     "output_type": "stream",
     "text": [
      "[youtube] xmMuFdnArxc: Downloading tv player API JSON\n"
     ]
    },
    {
     "name": "stderr",
     "output_type": "stream",
     "text": [
      "WARNING: [youtube] <urllib3.connection.HTTPSConnection object at 0x0000023C7464CCE0>: Failed to resolve 'www.youtube.com' ([Errno 11001] getaddrinfo failed). Retrying (2/3)...\n"
     ]
    },
    {
     "name": "stdout",
     "output_type": "stream",
     "text": [
      "[youtube] xmMuFdnArxc: Downloading tv player API JSON\n"
     ]
    },
    {
     "name": "stderr",
     "output_type": "stream",
     "text": [
      "WARNING: [youtube] <urllib3.connection.HTTPSConnection object at 0x0000023C7464D130>: Failed to resolve 'www.youtube.com' ([Errno 11001] getaddrinfo failed). Retrying (3/3)...\n"
     ]
    },
    {
     "name": "stdout",
     "output_type": "stream",
     "text": [
      "[youtube] xmMuFdnArxc: Downloading tv player API JSON\n"
     ]
    },
    {
     "name": "stderr",
     "output_type": "stream",
     "text": [
      "WARNING: [youtube] Unable to download API page: <urllib3.connection.HTTPSConnection object at 0x0000023C75890770>: Failed to resolve 'www.youtube.com' ([Errno 11001] getaddrinfo failed) (caused by TransportError(\"<urllib3.connection.HTTPSConnection object at 0x0000023C75890770>: Failed to resolve 'www.youtube.com' ([Errno 11001] getaddrinfo failed)\"))\n"
     ]
    },
    {
     "name": "stdout",
     "output_type": "stream",
     "text": [
      "[youtube] xmMuFdnArxc: Downloading ios player API JSON\n"
     ]
    },
    {
     "name": "stderr",
     "output_type": "stream",
     "text": [
      "WARNING: [youtube] <urllib3.connection.HTTPSConnection object at 0x0000023C75890530>: Failed to resolve 'www.youtube.com' ([Errno 11001] getaddrinfo failed). Retrying (1/3)...\n"
     ]
    },
    {
     "name": "stdout",
     "output_type": "stream",
     "text": [
      "[youtube] xmMuFdnArxc: Downloading ios player API JSON\n"
     ]
    },
    {
     "name": "stderr",
     "output_type": "stream",
     "text": [
      "WARNING: [youtube] <urllib3.connection.HTTPSConnection object at 0x0000023C747971D0>: Failed to resolve 'www.youtube.com' ([Errno 11001] getaddrinfo failed). Retrying (2/3)...\n"
     ]
    },
    {
     "name": "stdout",
     "output_type": "stream",
     "text": [
      "[youtube] xmMuFdnArxc: Downloading ios player API JSON\n"
     ]
    },
    {
     "name": "stderr",
     "output_type": "stream",
     "text": [
      "WARNING: [youtube] <urllib3.connection.HTTPSConnection object at 0x0000023C75892030>: Failed to resolve 'www.youtube.com' ([Errno 11001] getaddrinfo failed). Retrying (3/3)...\n"
     ]
    },
    {
     "name": "stdout",
     "output_type": "stream",
     "text": [
      "[youtube] xmMuFdnArxc: Downloading ios player API JSON\n"
     ]
    },
    {
     "name": "stderr",
     "output_type": "stream",
     "text": [
      "WARNING: [youtube] Unable to download API page: <urllib3.connection.HTTPSConnection object at 0x0000023C75890F20>: Failed to resolve 'www.youtube.com' ([Errno 11001] getaddrinfo failed) (caused by TransportError(\"<urllib3.connection.HTTPSConnection object at 0x0000023C75890F20>: Failed to resolve 'www.youtube.com' ([Errno 11001] getaddrinfo failed)\"))\n"
     ]
    },
    {
     "name": "stdout",
     "output_type": "stream",
     "text": [
      "[youtube] xmMuFdnArxc: Downloading web player API JSON\n"
     ]
    },
    {
     "name": "stderr",
     "output_type": "stream",
     "text": [
      "WARNING: [youtube] <urllib3.connection.HTTPSConnection object at 0x0000023C746BC6B0>: Failed to resolve 'www.youtube.com' ([Errno 11001] getaddrinfo failed). Retrying (1/3)...\n"
     ]
    },
    {
     "name": "stdout",
     "output_type": "stream",
     "text": [
      "[youtube] xmMuFdnArxc: Downloading web player API JSON\n"
     ]
    },
    {
     "name": "stderr",
     "output_type": "stream",
     "text": [
      "WARNING: [youtube] <urllib3.connection.HTTPSConnection object at 0x0000023C75892D50>: Failed to resolve 'www.youtube.com' ([Errno 11001] getaddrinfo failed). Retrying (2/3)...\n"
     ]
    },
    {
     "name": "stdout",
     "output_type": "stream",
     "text": [
      "[youtube] xmMuFdnArxc: Downloading web player API JSON\n"
     ]
    },
    {
     "name": "stderr",
     "output_type": "stream",
     "text": [
      "WARNING: [youtube] <urllib3.connection.HTTPSConnection object at 0x0000023C758B92B0>: Failed to resolve 'www.youtube.com' ([Errno 11001] getaddrinfo failed). Retrying (3/3)...\n"
     ]
    },
    {
     "name": "stdout",
     "output_type": "stream",
     "text": [
      "[youtube] xmMuFdnArxc: Downloading web player API JSON\n"
     ]
    },
    {
     "name": "stderr",
     "output_type": "stream",
     "text": [
      "WARNING: [youtube] Unable to download API page: <urllib3.connection.HTTPSConnection object at 0x0000023C75893740>: Failed to resolve 'www.youtube.com' ([Errno 11001] getaddrinfo failed) (caused by TransportError(\"<urllib3.connection.HTTPSConnection object at 0x0000023C75893740>: Failed to resolve 'www.youtube.com' ([Errno 11001] getaddrinfo failed)\"))\n",
      "ERROR: [youtube] xmMuFdnArxc: Failed to extract any player response; please report this issue on  https://github.com/yt-dlp/yt-dlp/issues?q= , filling out the appropriate issue template. Confirm you are on the latest version using  yt-dlp -U\n"
     ]
    },
    {
     "name": "stdout",
     "output_type": "stream",
     "text": [
      "[download] Downloading item 7 of 11\n",
      "[youtube] Extracting URL: https://www.youtube.com/watch?v=UJ9l31Fz2kA\n",
      "[youtube] UJ9l31Fz2kA: Downloading webpage\n"
     ]
    },
    {
     "name": "stderr",
     "output_type": "stream",
     "text": [
      "WARNING: [youtube] <urllib3.connection.HTTPSConnection object at 0x0000023C758904D0>: Failed to resolve 'www.youtube.com' ([Errno 11001] getaddrinfo failed). Retrying (1/3)...\n"
     ]
    },
    {
     "name": "stdout",
     "output_type": "stream",
     "text": [
      "[youtube] UJ9l31Fz2kA: Downloading webpage\n"
     ]
    },
    {
     "name": "stderr",
     "output_type": "stream",
     "text": [
      "WARNING: [youtube] <urllib3.connection.HTTPSConnection object at 0x0000023C7464D190>: Failed to resolve 'www.youtube.com' ([Errno 11001] getaddrinfo failed). Retrying (2/3)...\n"
     ]
    },
    {
     "name": "stdout",
     "output_type": "stream",
     "text": [
      "[youtube] UJ9l31Fz2kA: Downloading webpage\n"
     ]
    },
    {
     "name": "stderr",
     "output_type": "stream",
     "text": [
      "WARNING: [youtube] <urllib3.connection.HTTPSConnection object at 0x0000023C75889F40>: Failed to resolve 'www.youtube.com' ([Errno 11001] getaddrinfo failed). Retrying (3/3)...\n"
     ]
    },
    {
     "name": "stdout",
     "output_type": "stream",
     "text": [
      "[youtube] UJ9l31Fz2kA: Downloading webpage\n"
     ]
    },
    {
     "name": "stderr",
     "output_type": "stream",
     "text": [
      "WARNING: [youtube] Unable to download webpage: <urllib3.connection.HTTPSConnection object at 0x0000023C74794050>: Failed to resolve 'www.youtube.com' ([Errno 11001] getaddrinfo failed) (caused by TransportError(\"<urllib3.connection.HTTPSConnection object at 0x0000023C74794050>: Failed to resolve 'www.youtube.com' ([Errno 11001] getaddrinfo failed)\")). Giving up after 3 retries\n"
     ]
    },
    {
     "name": "stdout",
     "output_type": "stream",
     "text": [
      "[youtube] UJ9l31Fz2kA: Downloading tv client config\n"
     ]
    },
    {
     "name": "stderr",
     "output_type": "stream",
     "text": [
      "WARNING: [youtube] <urllib3.connection.HTTPSConnection object at 0x0000023C7464E4B0>: Failed to resolve 'www.youtube.com' ([Errno 11001] getaddrinfo failed). Retrying (1/3)...\n"
     ]
    },
    {
     "name": "stdout",
     "output_type": "stream",
     "text": [
      "[youtube] UJ9l31Fz2kA: Downloading tv client config\n"
     ]
    },
    {
     "name": "stderr",
     "output_type": "stream",
     "text": [
      "WARNING: [youtube] <urllib3.connection.HTTPSConnection object at 0x0000023C75889A60>: Failed to resolve 'www.youtube.com' ([Errno 11001] getaddrinfo failed). Retrying (2/3)...\n"
     ]
    },
    {
     "name": "stdout",
     "output_type": "stream",
     "text": [
      "[youtube] UJ9l31Fz2kA: Downloading tv client config\n"
     ]
    },
    {
     "name": "stderr",
     "output_type": "stream",
     "text": [
      "WARNING: [youtube] <urllib3.connection.HTTPSConnection object at 0x0000023C758BBDD0>: Failed to resolve 'www.youtube.com' ([Errno 11001] getaddrinfo failed). Retrying (3/3)...\n"
     ]
    },
    {
     "name": "stdout",
     "output_type": "stream",
     "text": [
      "[youtube] UJ9l31Fz2kA: Downloading tv client config\n"
     ]
    },
    {
     "name": "stderr",
     "output_type": "stream",
     "text": [
      "WARNING: [youtube] Unable to download webpage: <urllib3.connection.HTTPSConnection object at 0x0000023C767206B0>: Failed to resolve 'www.youtube.com' ([Errno 11001] getaddrinfo failed) (caused by TransportError(\"<urllib3.connection.HTTPSConnection object at 0x0000023C767206B0>: Failed to resolve 'www.youtube.com' ([Errno 11001] getaddrinfo failed)\")). Giving up after 3 retries\n"
     ]
    },
    {
     "name": "stdout",
     "output_type": "stream",
     "text": [
      "[youtube] UJ9l31Fz2kA: Downloading iframe API JS\n"
     ]
    },
    {
     "name": "stderr",
     "output_type": "stream",
     "text": [
      "WARNING: [youtube] <urllib3.connection.HTTPSConnection object at 0x0000023C767226C0>: Failed to resolve 'www.youtube.com' ([Errno 11001] getaddrinfo failed). Retrying (1/3)...\n"
     ]
    },
    {
     "name": "stdout",
     "output_type": "stream",
     "text": [
      "[youtube] UJ9l31Fz2kA: Downloading iframe API JS\n"
     ]
    },
    {
     "name": "stderr",
     "output_type": "stream",
     "text": [
      "WARNING: [youtube] <urllib3.connection.HTTPSConnection object at 0x0000023C7464D0A0>: Failed to resolve 'www.youtube.com' ([Errno 11001] getaddrinfo failed). Retrying (2/3)...\n"
     ]
    },
    {
     "name": "stdout",
     "output_type": "stream",
     "text": [
      "[youtube] UJ9l31Fz2kA: Downloading iframe API JS\n"
     ]
    },
    {
     "name": "stderr",
     "output_type": "stream",
     "text": [
      "WARNING: [youtube] <urllib3.connection.HTTPSConnection object at 0x0000023C745E6F30>: Failed to resolve 'www.youtube.com' ([Errno 11001] getaddrinfo failed). Retrying (3/3)...\n"
     ]
    },
    {
     "name": "stdout",
     "output_type": "stream",
     "text": [
      "[youtube] UJ9l31Fz2kA: Downloading iframe API JS\n"
     ]
    },
    {
     "name": "stderr",
     "output_type": "stream",
     "text": [
      "WARNING: [youtube] Unable to download webpage: <urllib3.connection.HTTPSConnection object at 0x0000023C74601820>: Failed to resolve 'www.youtube.com' ([Errno 11001] getaddrinfo failed) (caused by TransportError(\"<urllib3.connection.HTTPSConnection object at 0x0000023C74601820>: Failed to resolve 'www.youtube.com' ([Errno 11001] getaddrinfo failed)\")). Giving up after 3 retries\n"
     ]
    },
    {
     "name": "stdout",
     "output_type": "stream",
     "text": [
      "[youtube] UJ9l31Fz2kA: Downloading tv player API JSON\n"
     ]
    },
    {
     "name": "stderr",
     "output_type": "stream",
     "text": [
      "WARNING: [youtube] <urllib3.connection.HTTPSConnection object at 0x0000023C74603C80>: Failed to resolve 'www.youtube.com' ([Errno 11001] getaddrinfo failed). Retrying (1/3)...\n"
     ]
    },
    {
     "name": "stdout",
     "output_type": "stream",
     "text": [
      "[youtube] UJ9l31Fz2kA: Downloading tv player API JSON\n"
     ]
    },
    {
     "name": "stderr",
     "output_type": "stream",
     "text": [
      "WARNING: [youtube] <urllib3.connection.HTTPSConnection object at 0x0000023C7588A090>: Failed to resolve 'www.youtube.com' ([Errno 11001] getaddrinfo failed). Retrying (2/3)...\n"
     ]
    },
    {
     "name": "stdout",
     "output_type": "stream",
     "text": [
      "[youtube] UJ9l31Fz2kA: Downloading tv player API JSON\n"
     ]
    },
    {
     "name": "stderr",
     "output_type": "stream",
     "text": [
      "WARNING: [youtube] <urllib3.connection.HTTPSConnection object at 0x0000023C746BD400>: Failed to resolve 'www.youtube.com' ([Errno 11001] getaddrinfo failed). Retrying (3/3)...\n"
     ]
    },
    {
     "name": "stdout",
     "output_type": "stream",
     "text": [
      "[youtube] UJ9l31Fz2kA: Downloading tv player API JSON\n"
     ]
    },
    {
     "name": "stderr",
     "output_type": "stream",
     "text": [
      "WARNING: [youtube] Unable to download API page: <urllib3.connection.HTTPSConnection object at 0x0000023C746028A0>: Failed to resolve 'www.youtube.com' ([Errno 11001] getaddrinfo failed) (caused by TransportError(\"<urllib3.connection.HTTPSConnection object at 0x0000023C746028A0>: Failed to resolve 'www.youtube.com' ([Errno 11001] getaddrinfo failed)\"))\n"
     ]
    },
    {
     "name": "stdout",
     "output_type": "stream",
     "text": [
      "[youtube] UJ9l31Fz2kA: Downloading ios player API JSON\n"
     ]
    },
    {
     "name": "stderr",
     "output_type": "stream",
     "text": [
      "WARNING: [youtube] <urllib3.connection.HTTPSConnection object at 0x0000023C745E48C0>: Failed to resolve 'www.youtube.com' ([Errno 11001] getaddrinfo failed). Retrying (1/3)...\n"
     ]
    },
    {
     "name": "stdout",
     "output_type": "stream",
     "text": [
      "[youtube] UJ9l31Fz2kA: Downloading ios player API JSON\n"
     ]
    },
    {
     "name": "stderr",
     "output_type": "stream",
     "text": [
      "WARNING: [youtube] <urllib3.connection.HTTPSConnection object at 0x0000023C745E6000>: Failed to resolve 'www.youtube.com' ([Errno 11001] getaddrinfo failed). Retrying (2/3)...\n"
     ]
    },
    {
     "name": "stdout",
     "output_type": "stream",
     "text": [
      "[youtube] UJ9l31Fz2kA: Downloading ios player API JSON\n"
     ]
    },
    {
     "name": "stderr",
     "output_type": "stream",
     "text": [
      "WARNING: [youtube] <urllib3.connection.HTTPSConnection object at 0x0000023C7464CB60>: Failed to resolve 'www.youtube.com' ([Errno 11001] getaddrinfo failed). Retrying (3/3)...\n"
     ]
    },
    {
     "name": "stdout",
     "output_type": "stream",
     "text": [
      "[youtube] UJ9l31Fz2kA: Downloading ios player API JSON\n"
     ]
    },
    {
     "name": "stderr",
     "output_type": "stream",
     "text": [
      "WARNING: [youtube] Unable to download API page: <urllib3.connection.HTTPSConnection object at 0x0000023C75890410>: Failed to resolve 'www.youtube.com' ([Errno 11001] getaddrinfo failed) (caused by TransportError(\"<urllib3.connection.HTTPSConnection object at 0x0000023C75890410>: Failed to resolve 'www.youtube.com' ([Errno 11001] getaddrinfo failed)\"))\n"
     ]
    },
    {
     "name": "stdout",
     "output_type": "stream",
     "text": [
      "[youtube] UJ9l31Fz2kA: Downloading web player API JSON\n"
     ]
    },
    {
     "name": "stderr",
     "output_type": "stream",
     "text": [
      "WARNING: [youtube] <urllib3.connection.HTTPSConnection object at 0x0000023C746BCF50>: Failed to resolve 'www.youtube.com' ([Errno 11001] getaddrinfo failed). Retrying (1/3)...\n"
     ]
    },
    {
     "name": "stdout",
     "output_type": "stream",
     "text": [
      "[youtube] UJ9l31Fz2kA: Downloading web player API JSON\n"
     ]
    },
    {
     "name": "stderr",
     "output_type": "stream",
     "text": [
      "WARNING: [youtube] <urllib3.connection.HTTPSConnection object at 0x0000023C747BD940>: Failed to resolve 'www.youtube.com' ([Errno 11001] getaddrinfo failed). Retrying (2/3)...\n"
     ]
    },
    {
     "name": "stdout",
     "output_type": "stream",
     "text": [
      "[youtube] UJ9l31Fz2kA: Downloading web player API JSON\n"
     ]
    },
    {
     "name": "stderr",
     "output_type": "stream",
     "text": [
      "WARNING: [youtube] <urllib3.connection.HTTPSConnection object at 0x0000023C747BD670>: Failed to resolve 'www.youtube.com' ([Errno 11001] getaddrinfo failed). Retrying (3/3)...\n"
     ]
    },
    {
     "name": "stdout",
     "output_type": "stream",
     "text": [
      "[youtube] UJ9l31Fz2kA: Downloading web player API JSON\n"
     ]
    },
    {
     "name": "stderr",
     "output_type": "stream",
     "text": [
      "WARNING: [youtube] Unable to download API page: <urllib3.connection.HTTPSConnection object at 0x0000023C758B96A0>: Failed to resolve 'www.youtube.com' ([Errno 11001] getaddrinfo failed) (caused by TransportError(\"<urllib3.connection.HTTPSConnection object at 0x0000023C758B96A0>: Failed to resolve 'www.youtube.com' ([Errno 11001] getaddrinfo failed)\"))\n",
      "ERROR: [youtube] UJ9l31Fz2kA: Failed to extract any player response; please report this issue on  https://github.com/yt-dlp/yt-dlp/issues?q= , filling out the appropriate issue template. Confirm you are on the latest version using  yt-dlp -U\n"
     ]
    },
    {
     "name": "stdout",
     "output_type": "stream",
     "text": [
      "[download] Downloading item 8 of 11\n",
      "[youtube] Extracting URL: https://www.youtube.com/watch?v=vQPEdOAHb0Q\n",
      "[youtube] vQPEdOAHb0Q: Downloading webpage\n"
     ]
    },
    {
     "name": "stderr",
     "output_type": "stream",
     "text": [
      "WARNING: [youtube] <urllib3.connection.HTTPSConnection object at 0x0000023C75892960>: Failed to resolve 'www.youtube.com' ([Errno 11001] getaddrinfo failed). Retrying (1/3)...\n"
     ]
    },
    {
     "name": "stdout",
     "output_type": "stream",
     "text": [
      "[youtube] vQPEdOAHb0Q: Downloading webpage\n"
     ]
    },
    {
     "name": "stderr",
     "output_type": "stream",
     "text": [
      "WARNING: [youtube] <urllib3.connection.HTTPSConnection object at 0x0000023C758BBF80>: Failed to resolve 'www.youtube.com' ([Errno 11001] getaddrinfo failed). Retrying (2/3)...\n"
     ]
    },
    {
     "name": "stdout",
     "output_type": "stream",
     "text": [
      "[youtube] vQPEdOAHb0Q: Downloading webpage\n"
     ]
    },
    {
     "name": "stderr",
     "output_type": "stream",
     "text": [
      "WARNING: [youtube] <urllib3.connection.HTTPSConnection object at 0x0000023C75891370>: Failed to resolve 'www.youtube.com' ([Errno 11001] getaddrinfo failed). Retrying (3/3)...\n"
     ]
    },
    {
     "name": "stdout",
     "output_type": "stream",
     "text": [
      "[youtube] vQPEdOAHb0Q: Downloading webpage\n"
     ]
    },
    {
     "name": "stderr",
     "output_type": "stream",
     "text": [
      "WARNING: [youtube] Unable to download webpage: <urllib3.connection.HTTPSConnection object at 0x0000023C746008F0>: Failed to resolve 'www.youtube.com' ([Errno 11001] getaddrinfo failed) (caused by TransportError(\"<urllib3.connection.HTTPSConnection object at 0x0000023C746008F0>: Failed to resolve 'www.youtube.com' ([Errno 11001] getaddrinfo failed)\")). Giving up after 3 retries\n"
     ]
    },
    {
     "name": "stdout",
     "output_type": "stream",
     "text": [
      "[youtube] vQPEdOAHb0Q: Downloading tv client config\n"
     ]
    },
    {
     "name": "stderr",
     "output_type": "stream",
     "text": [
      "WARNING: [youtube] <urllib3.connection.HTTPSConnection object at 0x0000023C74832D80>: Failed to resolve 'www.youtube.com' ([Errno 11001] getaddrinfo failed). Retrying (1/3)...\n"
     ]
    },
    {
     "name": "stdout",
     "output_type": "stream",
     "text": [
      "[youtube] vQPEdOAHb0Q: Downloading tv client config\n"
     ]
    },
    {
     "name": "stderr",
     "output_type": "stream",
     "text": [
      "WARNING: [youtube] <urllib3.connection.HTTPSConnection object at 0x0000023C74601E80>: Failed to resolve 'www.youtube.com' ([Errno 11001] getaddrinfo failed). Retrying (2/3)...\n"
     ]
    },
    {
     "name": "stdout",
     "output_type": "stream",
     "text": [
      "[youtube] vQPEdOAHb0Q: Downloading tv client config\n"
     ]
    },
    {
     "name": "stderr",
     "output_type": "stream",
     "text": [
      "WARNING: [youtube] <urllib3.connection.HTTPSConnection object at 0x0000023C7464DA00>: Failed to resolve 'www.youtube.com' ([Errno 11001] getaddrinfo failed). Retrying (3/3)...\n"
     ]
    },
    {
     "name": "stdout",
     "output_type": "stream",
     "text": [
      "[youtube] vQPEdOAHb0Q: Downloading tv client config\n"
     ]
    },
    {
     "name": "stderr",
     "output_type": "stream",
     "text": [
      "WARNING: [youtube] Unable to download webpage: <urllib3.connection.HTTPSConnection object at 0x0000023C7588A060>: Failed to resolve 'www.youtube.com' ([Errno 11001] getaddrinfo failed) (caused by TransportError(\"<urllib3.connection.HTTPSConnection object at 0x0000023C7588A060>: Failed to resolve 'www.youtube.com' ([Errno 11001] getaddrinfo failed)\")). Giving up after 3 retries\n"
     ]
    },
    {
     "name": "stdout",
     "output_type": "stream",
     "text": [
      "[youtube] vQPEdOAHb0Q: Downloading iframe API JS\n"
     ]
    },
    {
     "name": "stderr",
     "output_type": "stream",
     "text": [
      "WARNING: [youtube] <urllib3.connection.HTTPSConnection object at 0x0000023C746007A0>: Failed to resolve 'www.youtube.com' ([Errno 11001] getaddrinfo failed). Retrying (1/3)...\n"
     ]
    },
    {
     "name": "stdout",
     "output_type": "stream",
     "text": [
      "[youtube] vQPEdOAHb0Q: Downloading iframe API JS\n"
     ]
    },
    {
     "name": "stderr",
     "output_type": "stream",
     "text": [
      "WARNING: [youtube] <urllib3.connection.HTTPSConnection object at 0x0000023C758BA4E0>: Failed to resolve 'www.youtube.com' ([Errno 11001] getaddrinfo failed). Retrying (2/3)...\n"
     ]
    },
    {
     "name": "stdout",
     "output_type": "stream",
     "text": [
      "[youtube] vQPEdOAHb0Q: Downloading iframe API JS\n"
     ]
    },
    {
     "name": "stderr",
     "output_type": "stream",
     "text": [
      "WARNING: [youtube] <urllib3.connection.HTTPSConnection object at 0x0000023C75889FA0>: Failed to resolve 'www.youtube.com' ([Errno 11001] getaddrinfo failed). Retrying (3/3)...\n"
     ]
    },
    {
     "name": "stdout",
     "output_type": "stream",
     "text": [
      "[youtube] vQPEdOAHb0Q: Downloading iframe API JS\n"
     ]
    },
    {
     "name": "stderr",
     "output_type": "stream",
     "text": [
      "WARNING: [youtube] Unable to download webpage: <urllib3.connection.HTTPSConnection object at 0x0000023C7589B650>: Failed to resolve 'www.youtube.com' ([Errno 11001] getaddrinfo failed) (caused by TransportError(\"<urllib3.connection.HTTPSConnection object at 0x0000023C7589B650>: Failed to resolve 'www.youtube.com' ([Errno 11001] getaddrinfo failed)\")). Giving up after 3 retries\n"
     ]
    },
    {
     "name": "stdout",
     "output_type": "stream",
     "text": [
      "[youtube] vQPEdOAHb0Q: Downloading tv player API JSON\n"
     ]
    },
    {
     "name": "stderr",
     "output_type": "stream",
     "text": [
      "WARNING: [youtube] <urllib3.connection.HTTPSConnection object at 0x0000023C74601760>: Failed to resolve 'www.youtube.com' ([Errno 11001] getaddrinfo failed). Retrying (1/3)...\n"
     ]
    },
    {
     "name": "stdout",
     "output_type": "stream",
     "text": [
      "[youtube] vQPEdOAHb0Q: Downloading tv player API JSON\n"
     ]
    },
    {
     "name": "stderr",
     "output_type": "stream",
     "text": [
      "WARNING: [youtube] <urllib3.connection.HTTPSConnection object at 0x0000023C7588B980>: Failed to resolve 'www.youtube.com' ([Errno 11001] getaddrinfo failed). Retrying (2/3)...\n"
     ]
    },
    {
     "name": "stdout",
     "output_type": "stream",
     "text": [
      "[youtube] vQPEdOAHb0Q: Downloading tv player API JSON\n"
     ]
    },
    {
     "name": "stderr",
     "output_type": "stream",
     "text": [
      "WARNING: [youtube] <urllib3.connection.HTTPSConnection object at 0x0000023C75892A80>: Failed to resolve 'www.youtube.com' ([Errno 11001] getaddrinfo failed). Retrying (3/3)...\n"
     ]
    },
    {
     "name": "stdout",
     "output_type": "stream",
     "text": [
      "[youtube] vQPEdOAHb0Q: Downloading tv player API JSON\n"
     ]
    },
    {
     "name": "stderr",
     "output_type": "stream",
     "text": [
      "WARNING: [youtube] Unable to download API page: <urllib3.connection.HTTPSConnection object at 0x0000023C758BB2C0>: Failed to resolve 'www.youtube.com' ([Errno 11001] getaddrinfo failed) (caused by TransportError(\"<urllib3.connection.HTTPSConnection object at 0x0000023C758BB2C0>: Failed to resolve 'www.youtube.com' ([Errno 11001] getaddrinfo failed)\"))\n"
     ]
    },
    {
     "name": "stdout",
     "output_type": "stream",
     "text": [
      "[youtube] vQPEdOAHb0Q: Downloading ios player API JSON\n"
     ]
    },
    {
     "name": "stderr",
     "output_type": "stream",
     "text": [
      "WARNING: [youtube] <urllib3.connection.HTTPSConnection object at 0x0000023C74600B00>: Failed to resolve 'www.youtube.com' ([Errno 11001] getaddrinfo failed). Retrying (1/3)...\n"
     ]
    },
    {
     "name": "stdout",
     "output_type": "stream",
     "text": [
      "[youtube] vQPEdOAHb0Q: Downloading ios player API JSON\n"
     ]
    },
    {
     "name": "stderr",
     "output_type": "stream",
     "text": [
      "WARNING: [youtube] <urllib3.connection.HTTPSConnection object at 0x0000023C75888BC0>: Failed to resolve 'www.youtube.com' ([Errno 11001] getaddrinfo failed). Retrying (2/3)...\n"
     ]
    },
    {
     "name": "stdout",
     "output_type": "stream",
     "text": [
      "[youtube] vQPEdOAHb0Q: Downloading ios player API JSON\n"
     ]
    },
    {
     "name": "stderr",
     "output_type": "stream",
     "text": [
      "WARNING: [youtube] <urllib3.connection.HTTPSConnection object at 0x0000023C746006B0>: Failed to resolve 'www.youtube.com' ([Errno 11001] getaddrinfo failed). Retrying (3/3)...\n"
     ]
    },
    {
     "name": "stdout",
     "output_type": "stream",
     "text": [
      "[youtube] vQPEdOAHb0Q: Downloading ios player API JSON\n"
     ]
    },
    {
     "name": "stderr",
     "output_type": "stream",
     "text": [
      "WARNING: [youtube] Unable to download API page: <urllib3.connection.HTTPSConnection object at 0x0000023C758915B0>: Failed to resolve 'www.youtube.com' ([Errno 11001] getaddrinfo failed) (caused by TransportError(\"<urllib3.connection.HTTPSConnection object at 0x0000023C758915B0>: Failed to resolve 'www.youtube.com' ([Errno 11001] getaddrinfo failed)\"))\n"
     ]
    },
    {
     "name": "stdout",
     "output_type": "stream",
     "text": [
      "[youtube] vQPEdOAHb0Q: Downloading web player API JSON\n"
     ]
    },
    {
     "name": "stderr",
     "output_type": "stream",
     "text": [
      "WARNING: [youtube] <urllib3.connection.HTTPSConnection object at 0x0000023C746025D0>: Failed to resolve 'www.youtube.com' ([Errno 11001] getaddrinfo failed). Retrying (1/3)...\n"
     ]
    },
    {
     "name": "stdout",
     "output_type": "stream",
     "text": [
      "[youtube] vQPEdOAHb0Q: Downloading web player API JSON\n"
     ]
    },
    {
     "name": "stderr",
     "output_type": "stream",
     "text": [
      "WARNING: [youtube] <urllib3.connection.HTTPSConnection object at 0x0000023C75893E30>: Failed to resolve 'www.youtube.com' ([Errno 11001] getaddrinfo failed). Retrying (2/3)...\n"
     ]
    },
    {
     "name": "stdout",
     "output_type": "stream",
     "text": [
      "[youtube] vQPEdOAHb0Q: Downloading web player API JSON\n"
     ]
    },
    {
     "name": "stderr",
     "output_type": "stream",
     "text": [
      "WARNING: [youtube] <urllib3.connection.HTTPSConnection object at 0x0000023C74603770>: Failed to resolve 'www.youtube.com' ([Errno 11001] getaddrinfo failed). Retrying (3/3)...\n"
     ]
    },
    {
     "name": "stdout",
     "output_type": "stream",
     "text": [
      "[youtube] vQPEdOAHb0Q: Downloading web player API JSON\n"
     ]
    },
    {
     "name": "stderr",
     "output_type": "stream",
     "text": [
      "WARNING: [youtube] Unable to download API page: <urllib3.connection.HTTPSConnection object at 0x0000023C746019D0>: Failed to resolve 'www.youtube.com' ([Errno 11001] getaddrinfo failed) (caused by TransportError(\"<urllib3.connection.HTTPSConnection object at 0x0000023C746019D0>: Failed to resolve 'www.youtube.com' ([Errno 11001] getaddrinfo failed)\"))\n",
      "ERROR: [youtube] vQPEdOAHb0Q: Failed to extract any player response; please report this issue on  https://github.com/yt-dlp/yt-dlp/issues?q= , filling out the appropriate issue template. Confirm you are on the latest version using  yt-dlp -U\n"
     ]
    },
    {
     "name": "stdout",
     "output_type": "stream",
     "text": [
      "[download] Downloading item 9 of 11\n",
      "[youtube] Extracting URL: https://www.youtube.com/watch?v=lkaPZiovpCo\n",
      "[youtube] lkaPZiovpCo: Downloading webpage\n"
     ]
    },
    {
     "name": "stderr",
     "output_type": "stream",
     "text": [
      "WARNING: [youtube] <urllib3.connection.HTTPSConnection object at 0x0000023C7464D640>: Failed to resolve 'www.youtube.com' ([Errno 11001] getaddrinfo failed). Retrying (1/3)...\n"
     ]
    },
    {
     "name": "stdout",
     "output_type": "stream",
     "text": [
      "[youtube] lkaPZiovpCo: Downloading webpage\n"
     ]
    },
    {
     "name": "stderr",
     "output_type": "stream",
     "text": [
      "WARNING: [youtube] <urllib3.connection.HTTPSConnection object at 0x0000023C7588AE40>: Failed to resolve 'www.youtube.com' ([Errno 11001] getaddrinfo failed). Retrying (2/3)...\n"
     ]
    },
    {
     "name": "stdout",
     "output_type": "stream",
     "text": [
      "[youtube] lkaPZiovpCo: Downloading webpage\n"
     ]
    },
    {
     "name": "stderr",
     "output_type": "stream",
     "text": [
      "WARNING: [youtube] <urllib3.connection.HTTPSConnection object at 0x0000023C74600F50>: Failed to resolve 'www.youtube.com' ([Errno 11001] getaddrinfo failed). Retrying (3/3)...\n"
     ]
    },
    {
     "name": "stdout",
     "output_type": "stream",
     "text": [
      "[youtube] lkaPZiovpCo: Downloading webpage\n"
     ]
    },
    {
     "name": "stderr",
     "output_type": "stream",
     "text": [
      "WARNING: [youtube] Unable to download webpage: <urllib3.connection.HTTPSConnection object at 0x0000023C7589BB60>: Failed to resolve 'www.youtube.com' ([Errno 11001] getaddrinfo failed) (caused by TransportError(\"<urllib3.connection.HTTPSConnection object at 0x0000023C7589BB60>: Failed to resolve 'www.youtube.com' ([Errno 11001] getaddrinfo failed)\")). Giving up after 3 retries\n"
     ]
    },
    {
     "name": "stdout",
     "output_type": "stream",
     "text": [
      "[youtube] lkaPZiovpCo: Downloading tv client config\n"
     ]
    },
    {
     "name": "stderr",
     "output_type": "stream",
     "text": [
      "WARNING: [youtube] <urllib3.connection.HTTPSConnection object at 0x0000023C7588B740>: Failed to resolve 'www.youtube.com' ([Errno 11001] getaddrinfo failed). Retrying (1/3)...\n"
     ]
    },
    {
     "name": "stdout",
     "output_type": "stream",
     "text": [
      "[youtube] lkaPZiovpCo: Downloading tv client config\n"
     ]
    },
    {
     "name": "stderr",
     "output_type": "stream",
     "text": [
      "WARNING: [youtube] <urllib3.connection.HTTPSConnection object at 0x0000023C758916A0>: Failed to resolve 'www.youtube.com' ([Errno 11001] getaddrinfo failed). Retrying (2/3)...\n"
     ]
    },
    {
     "name": "stdout",
     "output_type": "stream",
     "text": [
      "[youtube] lkaPZiovpCo: Downloading tv client config\n"
     ]
    },
    {
     "name": "stderr",
     "output_type": "stream",
     "text": [
      "WARNING: [youtube] <urllib3.connection.HTTPSConnection object at 0x0000023C76728680>: Failed to resolve 'www.youtube.com' ([Errno 11001] getaddrinfo failed). Retrying (3/3)...\n"
     ]
    },
    {
     "name": "stdout",
     "output_type": "stream",
     "text": [
      "[youtube] lkaPZiovpCo: Downloading tv client config\n"
     ]
    },
    {
     "name": "stderr",
     "output_type": "stream",
     "text": [
      "WARNING: [youtube] Unable to download webpage: <urllib3.connection.HTTPSConnection object at 0x0000023C758889E0>: Failed to resolve 'www.youtube.com' ([Errno 11001] getaddrinfo failed) (caused by TransportError(\"<urllib3.connection.HTTPSConnection object at 0x0000023C758889E0>: Failed to resolve 'www.youtube.com' ([Errno 11001] getaddrinfo failed)\")). Giving up after 3 retries\n"
     ]
    },
    {
     "name": "stdout",
     "output_type": "stream",
     "text": [
      "[youtube] lkaPZiovpCo: Downloading iframe API JS\n"
     ]
    },
    {
     "name": "stderr",
     "output_type": "stream",
     "text": [
      "WARNING: [youtube] <urllib3.connection.HTTPSConnection object at 0x0000023C758939B0>: Failed to resolve 'www.youtube.com' ([Errno 11001] getaddrinfo failed). Retrying (1/3)...\n"
     ]
    },
    {
     "name": "stdout",
     "output_type": "stream",
     "text": [
      "[youtube] lkaPZiovpCo: Downloading iframe API JS\n"
     ]
    },
    {
     "name": "stderr",
     "output_type": "stream",
     "text": [
      "WARNING: [youtube] <urllib3.connection.HTTPSConnection object at 0x0000023C76729910>: Failed to resolve 'www.youtube.com' ([Errno 11001] getaddrinfo failed). Retrying (2/3)...\n"
     ]
    },
    {
     "name": "stdout",
     "output_type": "stream",
     "text": [
      "[youtube] lkaPZiovpCo: Downloading iframe API JS\n"
     ]
    },
    {
     "name": "stderr",
     "output_type": "stream",
     "text": [
      "WARNING: [youtube] <urllib3.connection.HTTPSConnection object at 0x0000023C745E5F10>: Failed to resolve 'www.youtube.com' ([Errno 11001] getaddrinfo failed). Retrying (3/3)...\n"
     ]
    },
    {
     "name": "stdout",
     "output_type": "stream",
     "text": [
      "[youtube] lkaPZiovpCo: Downloading iframe API JS\n"
     ]
    },
    {
     "name": "stderr",
     "output_type": "stream",
     "text": [
      "WARNING: [youtube] Unable to download webpage: <urllib3.connection.HTTPSConnection object at 0x0000023C7464E2D0>: Failed to resolve 'www.youtube.com' ([Errno 11001] getaddrinfo failed) (caused by TransportError(\"<urllib3.connection.HTTPSConnection object at 0x0000023C7464E2D0>: Failed to resolve 'www.youtube.com' ([Errno 11001] getaddrinfo failed)\")). Giving up after 3 retries\n"
     ]
    },
    {
     "name": "stdout",
     "output_type": "stream",
     "text": [
      "[youtube] lkaPZiovpCo: Downloading tv player API JSON\n"
     ]
    },
    {
     "name": "stderr",
     "output_type": "stream",
     "text": [
      "WARNING: [youtube] <urllib3.connection.HTTPSConnection object at 0x0000023C7589BEF0>: Failed to resolve 'www.youtube.com' ([Errno 11001] getaddrinfo failed). Retrying (1/3)...\n"
     ]
    },
    {
     "name": "stdout",
     "output_type": "stream",
     "text": [
      "[youtube] lkaPZiovpCo: Downloading tv player API JSON\n"
     ]
    },
    {
     "name": "stderr",
     "output_type": "stream",
     "text": [
      "WARNING: [youtube] <urllib3.connection.HTTPSConnection object at 0x0000023C746BDB20>: Failed to resolve 'www.youtube.com' ([Errno 11001] getaddrinfo failed). Retrying (2/3)...\n"
     ]
    },
    {
     "name": "stdout",
     "output_type": "stream",
     "text": [
      "[youtube] lkaPZiovpCo: Downloading tv player API JSON\n"
     ]
    },
    {
     "name": "stderr",
     "output_type": "stream",
     "text": [
      "WARNING: [youtube] <urllib3.connection.HTTPSConnection object at 0x0000023C758BBBC0>: Failed to resolve 'www.youtube.com' ([Errno 11001] getaddrinfo failed). Retrying (3/3)...\n"
     ]
    },
    {
     "name": "stdout",
     "output_type": "stream",
     "text": [
      "[youtube] lkaPZiovpCo: Downloading tv player API JSON\n"
     ]
    },
    {
     "name": "stderr",
     "output_type": "stream",
     "text": [
      "WARNING: [youtube] Unable to download API page: <urllib3.connection.HTTPSConnection object at 0x0000023C7589AA20>: Failed to resolve 'www.youtube.com' ([Errno 11001] getaddrinfo failed) (caused by TransportError(\"<urllib3.connection.HTTPSConnection object at 0x0000023C7589AA20>: Failed to resolve 'www.youtube.com' ([Errno 11001] getaddrinfo failed)\"))\n"
     ]
    },
    {
     "name": "stdout",
     "output_type": "stream",
     "text": [
      "[youtube] lkaPZiovpCo: Downloading ios player API JSON\n"
     ]
    },
    {
     "name": "stderr",
     "output_type": "stream",
     "text": [
      "WARNING: [youtube] <urllib3.connection.HTTPSConnection object at 0x0000023C74600F80>: Failed to resolve 'www.youtube.com' ([Errno 11001] getaddrinfo failed). Retrying (1/3)...\n"
     ]
    },
    {
     "name": "stdout",
     "output_type": "stream",
     "text": [
      "[youtube] lkaPZiovpCo: Downloading ios player API JSON\n"
     ]
    },
    {
     "name": "stderr",
     "output_type": "stream",
     "text": [
      "WARNING: [youtube] <urllib3.connection.HTTPSConnection object at 0x0000023C7464D3A0>: Failed to resolve 'www.youtube.com' ([Errno 11001] getaddrinfo failed). Retrying (2/3)...\n"
     ]
    },
    {
     "name": "stdout",
     "output_type": "stream",
     "text": [
      "[youtube] lkaPZiovpCo: Downloading ios player API JSON\n"
     ]
    },
    {
     "name": "stderr",
     "output_type": "stream",
     "text": [
      "WARNING: [youtube] <urllib3.connection.HTTPSConnection object at 0x0000023C767203B0>: Failed to resolve 'www.youtube.com' ([Errno 11001] getaddrinfo failed). Retrying (3/3)...\n"
     ]
    },
    {
     "name": "stdout",
     "output_type": "stream",
     "text": [
      "[youtube] lkaPZiovpCo: Downloading ios player API JSON\n"
     ]
    },
    {
     "name": "stderr",
     "output_type": "stream",
     "text": [
      "WARNING: [youtube] Unable to download API page: <urllib3.connection.HTTPSConnection object at 0x0000023C76721760>: Failed to resolve 'www.youtube.com' ([Errno 11001] getaddrinfo failed) (caused by TransportError(\"<urllib3.connection.HTTPSConnection object at 0x0000023C76721760>: Failed to resolve 'www.youtube.com' ([Errno 11001] getaddrinfo failed)\"))\n"
     ]
    },
    {
     "name": "stdout",
     "output_type": "stream",
     "text": [
      "[youtube] lkaPZiovpCo: Downloading web player API JSON\n"
     ]
    },
    {
     "name": "stderr",
     "output_type": "stream",
     "text": [
      "WARNING: [youtube] <urllib3.connection.HTTPSConnection object at 0x0000023C758BA690>: Failed to resolve 'www.youtube.com' ([Errno 11001] getaddrinfo failed). Retrying (1/3)...\n"
     ]
    },
    {
     "name": "stdout",
     "output_type": "stream",
     "text": [
      "[youtube] lkaPZiovpCo: Downloading web player API JSON\n"
     ]
    },
    {
     "name": "stderr",
     "output_type": "stream",
     "text": [
      "WARNING: [youtube] <urllib3.connection.HTTPSConnection object at 0x0000023C758900E0>: Failed to resolve 'www.youtube.com' ([Errno 11001] getaddrinfo failed). Retrying (2/3)...\n"
     ]
    },
    {
     "name": "stdout",
     "output_type": "stream",
     "text": [
      "[youtube] lkaPZiovpCo: Downloading web player API JSON\n"
     ]
    },
    {
     "name": "stderr",
     "output_type": "stream",
     "text": [
      "WARNING: [youtube] <urllib3.connection.HTTPSConnection object at 0x0000023C75888560>: Failed to resolve 'www.youtube.com' ([Errno 11001] getaddrinfo failed). Retrying (3/3)...\n"
     ]
    },
    {
     "name": "stdout",
     "output_type": "stream",
     "text": [
      "[youtube] lkaPZiovpCo: Downloading web player API JSON\n"
     ]
    },
    {
     "name": "stderr",
     "output_type": "stream",
     "text": [
      "WARNING: [youtube] Unable to download API page: <urllib3.connection.HTTPSConnection object at 0x0000023C75898CE0>: Failed to resolve 'www.youtube.com' ([Errno 11001] getaddrinfo failed) (caused by TransportError(\"<urllib3.connection.HTTPSConnection object at 0x0000023C75898CE0>: Failed to resolve 'www.youtube.com' ([Errno 11001] getaddrinfo failed)\"))\n",
      "ERROR: [youtube] lkaPZiovpCo: Failed to extract any player response; please report this issue on  https://github.com/yt-dlp/yt-dlp/issues?q= , filling out the appropriate issue template. Confirm you are on the latest version using  yt-dlp -U\n"
     ]
    },
    {
     "name": "stdout",
     "output_type": "stream",
     "text": [
      "[download] Downloading item 10 of 11\n",
      "[youtube] Extracting URL: https://www.youtube.com/watch?v=2__9SFkVoT4\n",
      "[youtube] 2__9SFkVoT4: Downloading webpage\n"
     ]
    },
    {
     "name": "stderr",
     "output_type": "stream",
     "text": [
      "WARNING: [youtube] <urllib3.connection.HTTPSConnection object at 0x0000023C758939B0>: Failed to resolve 'www.youtube.com' ([Errno 11001] getaddrinfo failed). Retrying (1/3)...\n"
     ]
    },
    {
     "name": "stdout",
     "output_type": "stream",
     "text": [
      "[youtube] 2__9SFkVoT4: Downloading webpage\n"
     ]
    },
    {
     "name": "stderr",
     "output_type": "stream",
     "text": [
      "WARNING: [youtube] <urllib3.connection.HTTPSConnection object at 0x0000023C75889BE0>: Failed to resolve 'www.youtube.com' ([Errno 11001] getaddrinfo failed). Retrying (2/3)...\n"
     ]
    },
    {
     "name": "stdout",
     "output_type": "stream",
     "text": [
      "[youtube] 2__9SFkVoT4: Downloading webpage\n"
     ]
    },
    {
     "name": "stderr",
     "output_type": "stream",
     "text": [
      "WARNING: [youtube] <urllib3.connection.HTTPSConnection object at 0x0000023C76729880>: Failed to resolve 'www.youtube.com' ([Errno 11001] getaddrinfo failed). Retrying (3/3)...\n"
     ]
    },
    {
     "name": "stdout",
     "output_type": "stream",
     "text": [
      "[youtube] 2__9SFkVoT4: Downloading webpage\n"
     ]
    },
    {
     "name": "stderr",
     "output_type": "stream",
     "text": [
      "WARNING: [youtube] Unable to download webpage: <urllib3.connection.HTTPSConnection object at 0x0000023C7588AE70>: Failed to resolve 'www.youtube.com' ([Errno 11001] getaddrinfo failed) (caused by TransportError(\"<urllib3.connection.HTTPSConnection object at 0x0000023C7588AE70>: Failed to resolve 'www.youtube.com' ([Errno 11001] getaddrinfo failed)\")). Giving up after 3 retries\n"
     ]
    },
    {
     "name": "stdout",
     "output_type": "stream",
     "text": [
      "[youtube] 2__9SFkVoT4: Downloading tv client config\n"
     ]
    },
    {
     "name": "stderr",
     "output_type": "stream",
     "text": [
      "WARNING: [youtube] <urllib3.connection.HTTPSConnection object at 0x0000023C746016A0>: Failed to resolve 'www.youtube.com' ([Errno 11001] getaddrinfo failed). Retrying (1/3)...\n"
     ]
    },
    {
     "name": "stdout",
     "output_type": "stream",
     "text": [
      "[youtube] 2__9SFkVoT4: Downloading tv client config\n"
     ]
    },
    {
     "name": "stderr",
     "output_type": "stream",
     "text": [
      "WARNING: [youtube] <urllib3.connection.HTTPSConnection object at 0x0000023C74832C90>: Failed to resolve 'www.youtube.com' ([Errno 11001] getaddrinfo failed). Retrying (2/3)...\n"
     ]
    },
    {
     "name": "stdout",
     "output_type": "stream",
     "text": [
      "[youtube] 2__9SFkVoT4: Downloading tv client config\n"
     ]
    },
    {
     "name": "stderr",
     "output_type": "stream",
     "text": [
      "WARNING: [youtube] <urllib3.connection.HTTPSConnection object at 0x0000023C747BD0A0>: Failed to resolve 'www.youtube.com' ([Errno 11001] getaddrinfo failed). Retrying (3/3)...\n"
     ]
    },
    {
     "name": "stdout",
     "output_type": "stream",
     "text": [
      "[youtube] 2__9SFkVoT4: Downloading tv client config\n"
     ]
    },
    {
     "name": "stderr",
     "output_type": "stream",
     "text": [
      "WARNING: [youtube] Unable to download webpage: <urllib3.connection.HTTPSConnection object at 0x0000023C758888C0>: Failed to resolve 'www.youtube.com' ([Errno 11001] getaddrinfo failed) (caused by TransportError(\"<urllib3.connection.HTTPSConnection object at 0x0000023C758888C0>: Failed to resolve 'www.youtube.com' ([Errno 11001] getaddrinfo failed)\")). Giving up after 3 retries\n"
     ]
    },
    {
     "name": "stdout",
     "output_type": "stream",
     "text": [
      "[youtube] 2__9SFkVoT4: Downloading iframe API JS\n"
     ]
    },
    {
     "name": "stderr",
     "output_type": "stream",
     "text": [
      "WARNING: [youtube] <urllib3.connection.HTTPSConnection object at 0x0000023C76723B90>: Failed to resolve 'www.youtube.com' ([Errno 11001] getaddrinfo failed). Retrying (1/3)...\n"
     ]
    },
    {
     "name": "stdout",
     "output_type": "stream",
     "text": [
      "[youtube] 2__9SFkVoT4: Downloading iframe API JS\n"
     ]
    },
    {
     "name": "stderr",
     "output_type": "stream",
     "text": [
      "WARNING: [youtube] <urllib3.connection.HTTPSConnection object at 0x0000023C74603290>: Failed to resolve 'www.youtube.com' ([Errno 11001] getaddrinfo failed). Retrying (2/3)...\n"
     ]
    },
    {
     "name": "stdout",
     "output_type": "stream",
     "text": [
      "[youtube] 2__9SFkVoT4: Downloading iframe API JS\n"
     ]
    },
    {
     "name": "stderr",
     "output_type": "stream",
     "text": [
      "WARNING: [youtube] <urllib3.connection.HTTPSConnection object at 0x0000023C745E4560>: Failed to resolve 'www.youtube.com' ([Errno 11001] getaddrinfo failed). Retrying (3/3)...\n"
     ]
    },
    {
     "name": "stdout",
     "output_type": "stream",
     "text": [
      "[youtube] 2__9SFkVoT4: Downloading iframe API JS\n"
     ]
    },
    {
     "name": "stderr",
     "output_type": "stream",
     "text": [
      "WARNING: [youtube] Unable to download webpage: <urllib3.connection.HTTPSConnection object at 0x0000023C767222D0>: Failed to resolve 'www.youtube.com' ([Errno 11001] getaddrinfo failed) (caused by TransportError(\"<urllib3.connection.HTTPSConnection object at 0x0000023C767222D0>: Failed to resolve 'www.youtube.com' ([Errno 11001] getaddrinfo failed)\")). Giving up after 3 retries\n"
     ]
    },
    {
     "name": "stdout",
     "output_type": "stream",
     "text": [
      "[youtube] 2__9SFkVoT4: Downloading tv player API JSON\n"
     ]
    },
    {
     "name": "stderr",
     "output_type": "stream",
     "text": [
      "WARNING: [youtube] <urllib3.connection.HTTPSConnection object at 0x0000023C75893BC0>: Failed to resolve 'www.youtube.com' ([Errno 11001] getaddrinfo failed). Retrying (1/3)...\n"
     ]
    },
    {
     "name": "stdout",
     "output_type": "stream",
     "text": [
      "[youtube] 2__9SFkVoT4: Downloading tv player API JSON\n"
     ]
    },
    {
     "name": "stderr",
     "output_type": "stream",
     "text": [
      "WARNING: [youtube] <urllib3.connection.HTTPSConnection object at 0x0000023C75898F80>: Failed to resolve 'www.youtube.com' ([Errno 11001] getaddrinfo failed). Retrying (2/3)...\n"
     ]
    },
    {
     "name": "stdout",
     "output_type": "stream",
     "text": [
      "[youtube] 2__9SFkVoT4: Downloading tv player API JSON\n"
     ]
    },
    {
     "name": "stderr",
     "output_type": "stream",
     "text": [
      "WARNING: [youtube] <urllib3.connection.HTTPSConnection object at 0x0000023C74600F50>: Failed to resolve 'www.youtube.com' ([Errno 11001] getaddrinfo failed). Retrying (3/3)...\n"
     ]
    },
    {
     "name": "stdout",
     "output_type": "stream",
     "text": [
      "[youtube] 2__9SFkVoT4: Downloading tv player API JSON\n"
     ]
    },
    {
     "name": "stderr",
     "output_type": "stream",
     "text": [
      "WARNING: [youtube] Unable to download API page: <urllib3.connection.HTTPSConnection object at 0x0000023C758B91F0>: Failed to resolve 'www.youtube.com' ([Errno 11001] getaddrinfo failed) (caused by TransportError(\"<urllib3.connection.HTTPSConnection object at 0x0000023C758B91F0>: Failed to resolve 'www.youtube.com' ([Errno 11001] getaddrinfo failed)\"))\n"
     ]
    },
    {
     "name": "stdout",
     "output_type": "stream",
     "text": [
      "[youtube] 2__9SFkVoT4: Downloading ios player API JSON\n"
     ]
    },
    {
     "name": "stderr",
     "output_type": "stream",
     "text": [
      "WARNING: [youtube] <urllib3.connection.HTTPSConnection object at 0x0000023C74602EA0>: Failed to resolve 'www.youtube.com' ([Errno 11001] getaddrinfo failed). Retrying (1/3)...\n"
     ]
    },
    {
     "name": "stdout",
     "output_type": "stream",
     "text": [
      "[youtube] 2__9SFkVoT4: Downloading ios player API JSON\n"
     ]
    },
    {
     "name": "stderr",
     "output_type": "stream",
     "text": [
      "WARNING: [youtube] <urllib3.connection.HTTPSConnection object at 0x0000023C75893E60>: Failed to resolve 'www.youtube.com' ([Errno 11001] getaddrinfo failed). Retrying (2/3)...\n"
     ]
    },
    {
     "name": "stdout",
     "output_type": "stream",
     "text": [
      "[youtube] 2__9SFkVoT4: Downloading ios player API JSON\n"
     ]
    },
    {
     "name": "stderr",
     "output_type": "stream",
     "text": [
      "WARNING: [youtube] <urllib3.connection.HTTPSConnection object at 0x0000023C76723920>: Failed to resolve 'www.youtube.com' ([Errno 11001] getaddrinfo failed). Retrying (3/3)...\n"
     ]
    },
    {
     "name": "stdout",
     "output_type": "stream",
     "text": [
      "[youtube] 2__9SFkVoT4: Downloading ios player API JSON\n"
     ]
    },
    {
     "name": "stderr",
     "output_type": "stream",
     "text": [
      "WARNING: [youtube] Unable to download API page: <urllib3.connection.HTTPSConnection object at 0x0000023C75888560>: Failed to resolve 'www.youtube.com' ([Errno 11001] getaddrinfo failed) (caused by TransportError(\"<urllib3.connection.HTTPSConnection object at 0x0000023C75888560>: Failed to resolve 'www.youtube.com' ([Errno 11001] getaddrinfo failed)\"))\n"
     ]
    },
    {
     "name": "stdout",
     "output_type": "stream",
     "text": [
      "[youtube] 2__9SFkVoT4: Downloading web player API JSON\n"
     ]
    },
    {
     "name": "stderr",
     "output_type": "stream",
     "text": [
      "WARNING: [youtube] <urllib3.connection.HTTPSConnection object at 0x0000023C7672B2F0>: Failed to resolve 'www.youtube.com' ([Errno 11001] getaddrinfo failed). Retrying (1/3)...\n"
     ]
    },
    {
     "name": "stdout",
     "output_type": "stream",
     "text": [
      "[youtube] 2__9SFkVoT4: Downloading web player API JSON\n"
     ]
    },
    {
     "name": "stderr",
     "output_type": "stream",
     "text": [
      "WARNING: [youtube] <urllib3.connection.HTTPSConnection object at 0x0000023C758BBEF0>: Failed to resolve 'www.youtube.com' ([Errno 11001] getaddrinfo failed). Retrying (2/3)...\n"
     ]
    },
    {
     "name": "stdout",
     "output_type": "stream",
     "text": [
      "[youtube] 2__9SFkVoT4: Downloading web player API JSON\n"
     ]
    },
    {
     "name": "stderr",
     "output_type": "stream",
     "text": [
      "WARNING: [youtube] <urllib3.connection.HTTPSConnection object at 0x0000023C758BB410>: Failed to resolve 'www.youtube.com' ([Errno 11001] getaddrinfo failed). Retrying (3/3)...\n"
     ]
    },
    {
     "name": "stdout",
     "output_type": "stream",
     "text": [
      "[youtube] 2__9SFkVoT4: Downloading web player API JSON\n"
     ]
    },
    {
     "name": "stderr",
     "output_type": "stream",
     "text": [
      "WARNING: [youtube] Unable to download API page: <urllib3.connection.HTTPSConnection object at 0x0000023C746010A0>: Failed to resolve 'www.youtube.com' ([Errno 11001] getaddrinfo failed) (caused by TransportError(\"<urllib3.connection.HTTPSConnection object at 0x0000023C746010A0>: Failed to resolve 'www.youtube.com' ([Errno 11001] getaddrinfo failed)\"))\n",
      "ERROR: [youtube] 2__9SFkVoT4: Failed to extract any player response; please report this issue on  https://github.com/yt-dlp/yt-dlp/issues?q= , filling out the appropriate issue template. Confirm you are on the latest version using  yt-dlp -U\n"
     ]
    },
    {
     "name": "stdout",
     "output_type": "stream",
     "text": [
      "[download] Downloading item 11 of 11\n",
      "[youtube] Extracting URL: https://www.youtube.com/watch?v=QAVgPMoXmLs\n",
      "[youtube] QAVgPMoXmLs: Downloading webpage\n"
     ]
    },
    {
     "name": "stderr",
     "output_type": "stream",
     "text": [
      "WARNING: [youtube] <urllib3.connection.HTTPSConnection object at 0x0000023C758BA3C0>: Failed to resolve 'www.youtube.com' ([Errno 11001] getaddrinfo failed). Retrying (1/3)...\n"
     ]
    },
    {
     "name": "stdout",
     "output_type": "stream",
     "text": [
      "[youtube] QAVgPMoXmLs: Downloading webpage\n"
     ]
    },
    {
     "name": "stderr",
     "output_type": "stream",
     "text": [
      "WARNING: [youtube] <urllib3.connection.HTTPSConnection object at 0x0000023C74602960>: Failed to resolve 'www.youtube.com' ([Errno 11001] getaddrinfo failed). Retrying (2/3)...\n"
     ]
    },
    {
     "name": "stdout",
     "output_type": "stream",
     "text": [
      "[youtube] QAVgPMoXmLs: Downloading webpage\n"
     ]
    },
    {
     "name": "stderr",
     "output_type": "stream",
     "text": [
      "WARNING: [youtube] <urllib3.connection.HTTPSConnection object at 0x0000023C74833E60>: Failed to resolve 'www.youtube.com' ([Errno 11001] getaddrinfo failed). Retrying (3/3)...\n"
     ]
    },
    {
     "name": "stdout",
     "output_type": "stream",
     "text": [
      "[youtube] QAVgPMoXmLs: Downloading webpage\n"
     ]
    },
    {
     "name": "stderr",
     "output_type": "stream",
     "text": [
      "WARNING: [youtube] Unable to download webpage: <urllib3.connection.HTTPSConnection object at 0x0000023C758888C0>: Failed to resolve 'www.youtube.com' ([Errno 11001] getaddrinfo failed) (caused by TransportError(\"<urllib3.connection.HTTPSConnection object at 0x0000023C758888C0>: Failed to resolve 'www.youtube.com' ([Errno 11001] getaddrinfo failed)\")). Giving up after 3 retries\n"
     ]
    },
    {
     "name": "stdout",
     "output_type": "stream",
     "text": [
      "[youtube] QAVgPMoXmLs: Downloading tv client config\n"
     ]
    },
    {
     "name": "stderr",
     "output_type": "stream",
     "text": [
      "WARNING: [youtube] <urllib3.connection.HTTPSConnection object at 0x0000023C74602EA0>: Failed to resolve 'www.youtube.com' ([Errno 11001] getaddrinfo failed). Retrying (1/3)...\n"
     ]
    },
    {
     "name": "stdout",
     "output_type": "stream",
     "text": [
      "[youtube] QAVgPMoXmLs: Downloading tv client config\n"
     ]
    },
    {
     "name": "stderr",
     "output_type": "stream",
     "text": [
      "WARNING: [youtube] <urllib3.connection.HTTPSConnection object at 0x0000023C745CC3E0>: Failed to resolve 'www.youtube.com' ([Errno 11001] getaddrinfo failed). Retrying (2/3)...\n"
     ]
    },
    {
     "name": "stdout",
     "output_type": "stream",
     "text": [
      "[youtube] QAVgPMoXmLs: Downloading tv client config\n"
     ]
    },
    {
     "name": "stderr",
     "output_type": "stream",
     "text": [
      "WARNING: [youtube] <urllib3.connection.HTTPSConnection object at 0x0000023C76721760>: Failed to resolve 'www.youtube.com' ([Errno 11001] getaddrinfo failed). Retrying (3/3)...\n"
     ]
    },
    {
     "name": "stdout",
     "output_type": "stream",
     "text": [
      "[youtube] QAVgPMoXmLs: Downloading tv client config\n"
     ]
    },
    {
     "name": "stderr",
     "output_type": "stream",
     "text": [
      "WARNING: [youtube] Unable to download webpage: <urllib3.connection.HTTPSConnection object at 0x0000023C7464C1A0>: Failed to resolve 'www.youtube.com' ([Errno 11001] getaddrinfo failed) (caused by TransportError(\"<urllib3.connection.HTTPSConnection object at 0x0000023C7464C1A0>: Failed to resolve 'www.youtube.com' ([Errno 11001] getaddrinfo failed)\")). Giving up after 3 retries\n"
     ]
    },
    {
     "name": "stdout",
     "output_type": "stream",
     "text": [
      "[youtube] QAVgPMoXmLs: Downloading iframe API JS\n"
     ]
    },
    {
     "name": "stderr",
     "output_type": "stream",
     "text": [
      "WARNING: [youtube] <urllib3.connection.HTTPSConnection object at 0x0000023C747BC0E0>: Failed to resolve 'www.youtube.com' ([Errno 11001] getaddrinfo failed). Retrying (1/3)...\n"
     ]
    },
    {
     "name": "stdout",
     "output_type": "stream",
     "text": [
      "[youtube] QAVgPMoXmLs: Downloading iframe API JS\n"
     ]
    },
    {
     "name": "stderr",
     "output_type": "stream",
     "text": [
      "WARNING: [youtube] <urllib3.connection.HTTPSConnection object at 0x0000023C758919A0>: Failed to resolve 'www.youtube.com' ([Errno 11001] getaddrinfo failed). Retrying (2/3)...\n"
     ]
    },
    {
     "name": "stdout",
     "output_type": "stream",
     "text": [
      "[youtube] QAVgPMoXmLs: Downloading iframe API JS\n"
     ]
    },
    {
     "name": "stderr",
     "output_type": "stream",
     "text": [
      "WARNING: [youtube] <urllib3.connection.HTTPSConnection object at 0x0000023C7464CEF0>: Failed to resolve 'www.youtube.com' ([Errno 11001] getaddrinfo failed). Retrying (3/3)...\n"
     ]
    },
    {
     "name": "stdout",
     "output_type": "stream",
     "text": [
      "[youtube] QAVgPMoXmLs: Downloading iframe API JS\n"
     ]
    },
    {
     "name": "stderr",
     "output_type": "stream",
     "text": [
      "WARNING: [youtube] Unable to download webpage: <urllib3.connection.HTTPSConnection object at 0x0000023C758936E0>: Failed to resolve 'www.youtube.com' ([Errno 11001] getaddrinfo failed) (caused by TransportError(\"<urllib3.connection.HTTPSConnection object at 0x0000023C758936E0>: Failed to resolve 'www.youtube.com' ([Errno 11001] getaddrinfo failed)\")). Giving up after 3 retries\n"
     ]
    },
    {
     "name": "stdout",
     "output_type": "stream",
     "text": [
      "[youtube] QAVgPMoXmLs: Downloading tv player API JSON\n"
     ]
    },
    {
     "name": "stderr",
     "output_type": "stream",
     "text": [
      "WARNING: [youtube] <urllib3.connection.HTTPSConnection object at 0x0000023C74600BF0>: Failed to resolve 'www.youtube.com' ([Errno 11001] getaddrinfo failed). Retrying (1/3)...\n"
     ]
    },
    {
     "name": "stdout",
     "output_type": "stream",
     "text": [
      "[youtube] QAVgPMoXmLs: Downloading tv player API JSON\n"
     ]
    },
    {
     "name": "stderr",
     "output_type": "stream",
     "text": [
      "WARNING: [youtube] <urllib3.connection.HTTPSConnection object at 0x0000023C74600B90>: Failed to resolve 'www.youtube.com' ([Errno 11001] getaddrinfo failed). Retrying (2/3)...\n"
     ]
    },
    {
     "name": "stdout",
     "output_type": "stream",
     "text": [
      "[youtube] QAVgPMoXmLs: Downloading tv player API JSON\n"
     ]
    },
    {
     "name": "stderr",
     "output_type": "stream",
     "text": [
      "WARNING: [youtube] <urllib3.connection.HTTPSConnection object at 0x0000023C7672B800>: Failed to resolve 'www.youtube.com' ([Errno 11001] getaddrinfo failed). Retrying (3/3)...\n"
     ]
    },
    {
     "name": "stdout",
     "output_type": "stream",
     "text": [
      "[youtube] QAVgPMoXmLs: Downloading tv player API JSON\n"
     ]
    },
    {
     "name": "stderr",
     "output_type": "stream",
     "text": [
      "WARNING: [youtube] Unable to download API page: <urllib3.connection.HTTPSConnection object at 0x0000023C75889A60>: Failed to resolve 'www.youtube.com' ([Errno 11001] getaddrinfo failed) (caused by TransportError(\"<urllib3.connection.HTTPSConnection object at 0x0000023C75889A60>: Failed to resolve 'www.youtube.com' ([Errno 11001] getaddrinfo failed)\"))\n"
     ]
    },
    {
     "name": "stdout",
     "output_type": "stream",
     "text": [
      "[youtube] QAVgPMoXmLs: Downloading ios player API JSON\n"
     ]
    },
    {
     "name": "stderr",
     "output_type": "stream",
     "text": [
      "WARNING: [youtube] <urllib3.connection.HTTPSConnection object at 0x0000023C75C283B0>: Failed to resolve 'www.youtube.com' ([Errno 11001] getaddrinfo failed). Retrying (1/3)...\n"
     ]
    },
    {
     "name": "stdout",
     "output_type": "stream",
     "text": [
      "[youtube] QAVgPMoXmLs: Downloading ios player API JSON\n"
     ]
    },
    {
     "name": "stderr",
     "output_type": "stream",
     "text": [
      "WARNING: [youtube] <urllib3.connection.HTTPSConnection object at 0x0000023C7672A150>: Failed to resolve 'www.youtube.com' ([Errno 11001] getaddrinfo failed). Retrying (2/3)...\n"
     ]
    },
    {
     "name": "stdout",
     "output_type": "stream",
     "text": [
      "[youtube] QAVgPMoXmLs: Downloading ios player API JSON\n"
     ]
    },
    {
     "name": "stderr",
     "output_type": "stream",
     "text": [
      "WARNING: [youtube] <urllib3.connection.HTTPSConnection object at 0x0000023C74600B90>: Failed to resolve 'www.youtube.com' ([Errno 11001] getaddrinfo failed). Retrying (3/3)...\n"
     ]
    },
    {
     "name": "stdout",
     "output_type": "stream",
     "text": [
      "[youtube] QAVgPMoXmLs: Downloading ios player API JSON\n"
     ]
    },
    {
     "name": "stderr",
     "output_type": "stream",
     "text": [
      "WARNING: [youtube] Unable to download API page: <urllib3.connection.HTTPSConnection object at 0x0000023C75C2A180>: Failed to resolve 'www.youtube.com' ([Errno 11001] getaddrinfo failed) (caused by TransportError(\"<urllib3.connection.HTTPSConnection object at 0x0000023C75C2A180>: Failed to resolve 'www.youtube.com' ([Errno 11001] getaddrinfo failed)\"))\n"
     ]
    },
    {
     "name": "stdout",
     "output_type": "stream",
     "text": [
      "[youtube] QAVgPMoXmLs: Downloading web player API JSON\n"
     ]
    },
    {
     "name": "stderr",
     "output_type": "stream",
     "text": [
      "WARNING: [youtube] <urllib3.connection.HTTPSConnection object at 0x0000023C7464C530>: Failed to resolve 'www.youtube.com' ([Errno 11001] getaddrinfo failed). Retrying (1/3)...\n"
     ]
    },
    {
     "name": "stdout",
     "output_type": "stream",
     "text": [
      "[youtube] QAVgPMoXmLs: Downloading web player API JSON\n"
     ]
    },
    {
     "name": "stderr",
     "output_type": "stream",
     "text": [
      "WARNING: [youtube] <urllib3.connection.HTTPSConnection object at 0x0000023C7672B500>: Failed to resolve 'www.youtube.com' ([Errno 11001] getaddrinfo failed). Retrying (2/3)...\n"
     ]
    },
    {
     "name": "stdout",
     "output_type": "stream",
     "text": [
      "[youtube] QAVgPMoXmLs: Downloading web player API JSON\n"
     ]
    },
    {
     "name": "stderr",
     "output_type": "stream",
     "text": [
      "WARNING: [youtube] <urllib3.connection.HTTPSConnection object at 0x0000023C7672B710>: Failed to resolve 'www.youtube.com' ([Errno 11001] getaddrinfo failed). Retrying (3/3)...\n"
     ]
    },
    {
     "name": "stdout",
     "output_type": "stream",
     "text": [
      "[youtube] QAVgPMoXmLs: Downloading web player API JSON\n"
     ]
    },
    {
     "name": "stderr",
     "output_type": "stream",
     "text": [
      "WARNING: [youtube] Unable to download API page: <urllib3.connection.HTTPSConnection object at 0x0000023C74833890>: Failed to resolve 'www.youtube.com' ([Errno 11001] getaddrinfo failed) (caused by TransportError(\"<urllib3.connection.HTTPSConnection object at 0x0000023C74833890>: Failed to resolve 'www.youtube.com' ([Errno 11001] getaddrinfo failed)\"))\n",
      "ERROR: [youtube] QAVgPMoXmLs: Failed to extract any player response; please report this issue on  https://github.com/yt-dlp/yt-dlp/issues?q= , filling out the appropriate issue template. Confirm you are on the latest version using  yt-dlp -U\n"
     ]
    },
    {
     "name": "stdout",
     "output_type": "stream",
     "text": [
      "[download] Finished downloading playlist: Shrimad Bhagwat Katha || Nashik M.H || 2024\n",
      "\n",
      "✅ Download complete!\n",
      "Audio files are saved in: D:/django_audio\n"
     ]
    }
   ],
   "source": [
    "import os\n",
    "import yt_dlp\n",
    "\n",
    "def download_playlist_audio(playlist_url, download_dir, start_video, end_video):\n",
    "    \"\"\"\n",
    "    Downloads audio from a YouTube playlist for a specified range of videos.\n",
    "\n",
    "    Args:\n",
    "        playlist_url (str): The URL of the YouTube playlist.\n",
    "        download_dir (str): The directory where the audio files will be saved.\n",
    "        start_video (int): The starting video number in the playlist to download.\n",
    "        end_video (int): The ending video number in the playlist to download.\n",
    "    \"\"\"\n",
    "    if not os.path.exists(download_dir):\n",
    "        os.makedirs(download_dir)\n",
    "        print(f\"Created folder: {download_dir}\")\n",
    "\n",
    "    # --- ydl_opts Explanation ---\n",
    "    # 'format': 'bestaudio/best' -> Selects the best quality audio-only stream.\n",
    "    # 'postprocessors': [{'key': 'FFmpegExtractAudio', ...}] -> This tells yt-dlp to use ffmpeg to extract the audio.\n",
    "    #   'preferredcodec': 'mp3' -> The desired audio format (e.g., mp3, m4a, wav).\n",
    "    #   'preferredquality': '192' -> The desired audio bitrate in kbps.\n",
    "    # 'outtmpl': ... -> Sets the output filename format.\n",
    "    #   '%(playlist_index)02d' -> The video's number in the playlist, padded with a leading zero (e.g., 01, 02).\n",
    "    #   '%(title)s' -> The original title of the video.\n",
    "    #   '%(ext)s' -> The file extension (e.g., .mp3).\n",
    "    # 'playlist_items': f'{start_video}-{end_video}' -> Specifies the range of videos to download.\n",
    "    # 'ignoreerrors': True -> Continues downloading the rest of the playlist if one video fails.\n",
    "    \n",
    "    ydl_opts = {\n",
    "        'format': 'bestaudio/best',\n",
    "        'postprocessors': [{\n",
    "            'key': 'FFmpegExtractAudio',\n",
    "            'preferredcodec': 'mp3',\n",
    "            'preferredquality': '192',\n",
    "        }],\n",
    "        'outtmpl': os.path.join(download_dir, '%(playlist_index)02d_%(title)s.%(ext)s'),\n",
    "        'playlist_items': f'{start_video}-{end_video}',\n",
    "        'ignoreerrors': True\n",
    "    }\n",
    "\n",
    "    try:\n",
    "        with yt_dlp.YoutubeDL(ydl_opts) as ydl:\n",
    "            ydl.download([playlist_url])\n",
    "            print(\"\\n✅ Download complete!\")\n",
    "            print(f\"Audio files are saved in: {download_dir}\")\n",
    "    except yt_dlp.utils.DownloadError as e:\n",
    "        print(f\"\\nAn error occurred: {e}\")\n",
    "    except KeyboardInterrupt:\n",
    "        print(\"\\nDownload interrupted by user.\")\n",
    "\n",
    "# --- How to Use ---\n",
    "if __name__ == \"__main__\":\n",
    "    # 1. Paste your playlist URL here\n",
    "    playlist_url = \"https://youtube.com/playlist?list=PLW_QVE4bQ1EqHKPdOtnrLxJEj5m3vZZ6I&si=TI6AEkW51s9Qfctk\"\n",
    "\n",
    "    # 2. Set the directory where you want to save the audio files\n",
    "    download_dir = \"D:/yt\"\n",
    "\n",
    "    # 3. Set the start and end video numbers you want to download\n",
    "    start_video = 12\n",
    "    end_video = 15\n",
    "\n",
    "    # 4. Run the function\n",
    "    download_playlist_audio(playlist_url, download_dir, start_video, end_video)"
   ]
  },
  {
   "cell_type": "code",
   "execution_count": null,
   "id": "645a39d6",
   "metadata": {},
   "outputs": [],
   "source": [
    "playlist_url = \"https://youtube.com/playlist?list=PLW_QVE4bQ1EqHKPdOtnrLxJEj5m3vZZ6I&si=TI6AEkW51s9Qfctk\"\n",
    "\n",
    "# 2. Set the directory where you want to save the audio files\n",
    "download_dir = \"D:/django_audio\"\n",
    "\n",
    "# 3. Set the start and end video numbers you want to download\n",
    "start_video = 23\n",
    "end_video = 33\n",
    "\n",
    "# 4. Run the function\n",
    "download_playlist_audio(playlist_url, download_dir, start_video, end_video)"
   ]
  }
 ],
 "metadata": {
  "kernelspec": {
   "display_name": ".venv",
   "language": "python",
   "name": "python3"
  },
  "language_info": {
   "codemirror_mode": {
    "name": "ipython",
    "version": 3
   },
   "file_extension": ".py",
   "mimetype": "text/x-python",
   "name": "python",
   "nbconvert_exporter": "python",
   "pygments_lexer": "ipython3",
   "version": "3.12.8"
  }
 },
 "nbformat": 4,
 "nbformat_minor": 5
}
